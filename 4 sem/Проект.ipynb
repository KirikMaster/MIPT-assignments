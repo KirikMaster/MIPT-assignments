{
 "cells": [
  {
   "cell_type": "markdown",
   "metadata": {},
   "source": [
    "## Библиотеки"
   ]
  },
  {
   "cell_type": "code",
   "execution_count": 104,
   "metadata": {},
   "outputs": [],
   "source": [
    "import numpy as np\n",
    "import matplotlib.pyplot as plt"
   ]
  },
  {
   "cell_type": "markdown",
   "metadata": {},
   "source": [
    "## Функции"
   ]
  },
  {
   "cell_type": "code",
   "execution_count": 105,
   "metadata": {},
   "outputs": [],
   "source": [
    "def fill_C(): #Заполнить сетку ненулевыми лямбдами\n",
    "    C11 = 12.98344389516936\n",
    "    C12 = 2.76656283641825\n",
    "    C16 = 5.00630996992227\n",
    "    C22 = 79.21121100901908\n",
    "    C26 = 4.88188079023485\n",
    "    C66 = 13.05325089362048\n",
    "    C = np.array([(C11, C12, C16),\n",
    "                  (C12, C22, C26),\n",
    "                  (C16, C26, C66)])\n",
    "    return C\n",
    "            \n",
    "def Omega(q, Omega):\n",
    "    return Omega * q\n",
    "\n",
    "def Omega_inv(w, Omega_inv:\n",
    "    return Omega_inv * w"
   ]
  },
  {
   "cell_type": "markdown",
   "metadata": {},
   "source": [
    "## Переменные"
   ]
  },
  {
   "cell_type": "code",
   "execution_count": 113,
   "metadata": {},
   "outputs": [
    {
     "name": "stdout",
     "output_type": "stream",
     "text": [
      "Matrix C = \n",
      " [[12.9834439   2.76656284  5.00630997]\n",
      " [ 2.76656284 79.21121101  4.88188079]\n",
      " [ 5.00630997  4.88188079 13.05325089]]\n",
      "[[0. 0. 0. ... 0. 0. 0.]\n",
      " [0. 0. 0. ... 0. 0. 0.]\n",
      " [0. 0. 0. ... 0. 0. 0.]\n",
      " ...\n",
      " [0. 0. 0. ... 0. 0. 0.]\n",
      " [0. 0. 0. ... 0. 0. 0.]\n",
      " [0. 0. 0. ... 0. 0. 0.]]\n"
     ]
    }
   ],
   "source": [
    "L = 1 # масштаб координатных осей\n",
    "M = 51 # количество узлов вдоль оси\n",
    "#C =  np.ones((3, 3)) # Сетка лямбд\n",
    "C = fill_C()\n",
    "print(\"Matrix C =\", '\\n', C)\n",
    "rho = 1.0\n",
    "h = L / M # шаг по координате, h\n",
    "T = 1.5 * L / abs(np.max(C)) # 1 полный оборот начального возмущения\n",
    "dt = 0.4 * h / abs(np.max(C)) # коэффициент должен быть меньше единицы\n",
    "step_1 = C * dt / h # комбинация коэффициентов при шаге первого порядка\n",
    "data_current = np.zeros((M, M), dtype=[('vx', np.float64), ('vy', np.float64), # По умолчанию нулевые элекменты\n",
    "                                  ('sxx', np.float64), ('syy', np.float64), ('sxy', np.float64)])\n",
    "data_next = np.zeros((M, M), dtype=[('vx', np.float64), ('vy', np.float64),\n",
    "                                  ('sxx', np.float64), ('syy', np.float64), ('sxy', np.float64)])"
   ]
  },
  {
   "cell_type": "markdown",
   "metadata": {},
   "source": [
    "## Численные вычисления матриц"
   ]
  },
  {
   "cell_type": "code",
   "execution_count": 107,
   "metadata": {},
   "outputs": [],
   "source": [
    "import scipy.linalg as sci"
   ]
  },
  {
   "cell_type": "code",
   "execution_count": 108,
   "metadata": {
    "collapsed": true,
    "jupyter": {
     "outputs_hidden": true,
     "source_hidden": true
    }
   },
   "outputs": [
    {
     "name": "stdout",
     "output_type": "stream",
     "text": [
      "[[ 0.          0.          0.          0.          0.        ]\n",
      " [ 0.         -3.81393346  0.          0.          0.        ]\n",
      " [ 0.          0.         -2.22799931  0.          0.        ]\n",
      " [ 0.          0.          0.          2.22799931  0.        ]\n",
      " [ 0.          0.          0.          0.          3.81393346]] \n",
      " [[ 0.          0.209106   -0.11758778  0.11758778  0.209106  ]\n",
      " [ 0.          0.1305386   0.37672093 -0.37672093  0.1305386 ]\n",
      " [ 0.          0.79751635 -0.2619855  -0.2619855  -0.79751635]\n",
      " [ 1.          0.23522744  0.26671433  0.26671433 -0.23522744]\n",
      " [ 0.          0.49786552  0.83933397  0.83933397 -0.49786552]] \n",
      " [[-4.91627378e-17 -4.48193053e-16 -8.08267223e-02  1.00000000e+00\n",
      "  -3.42997863e-01]\n",
      " [ 2.00118743e+00  6.24640618e-01  5.24704339e-01  0.00000000e+00\n",
      "   1.63778583e-01]\n",
      " [-6.93436908e-01  1.11079650e+00 -3.11237488e-01  0.00000000e+00\n",
      "   4.98562318e-01]\n",
      " [ 6.93436908e-01 -1.11079650e+00 -3.11237488e-01  0.00000000e+00\n",
      "   4.98562318e-01]\n",
      " [ 2.00118743e+00  6.24640618e-01 -5.24704339e-01  0.00000000e+00\n",
      "  -1.63778583e-01]]\n",
      "[[  0.           0.          -1.           0.           0.        ]\n",
      " [  0.           0.           0.           0.          -1.        ]\n",
      " [-12.9834439   -2.50315498   0.           0.           0.        ]\n",
      " [ -2.76656284  -2.4409404    0.           0.           0.        ]\n",
      " [ -5.00630997  -6.52662545   0.           0.           0.        ]] \n",
      " [[-0.         -0.          0.          0.         -0.        ]\n",
      " [ 0.         -0.31098702  0.         -0.          0.        ]\n",
      " [-0.          0.         -0.18167042 -0.         -0.        ]\n",
      " [ 0.         -0.         -0.          0.         -0.        ]\n",
      " [ 0.          0.         -0.          0.          0.31098702]]\n",
      "[[ 0.          0.209106   -0.11758778  0.11758778  0.209106  ]\n",
      " [ 0.          0.1305386   0.37672093 -0.37672093  0.1305386 ]\n",
      " [-0.          0.79751635 -0.2619855  -0.2619855  -0.79751635]\n",
      " [ 1.          0.23522744  0.26671433  0.26671433 -0.23522744]\n",
      " [ 0.          0.49786552  0.83933397  0.83933397 -0.49786552]] \n",
      "\n",
      "[[ 0.          0.          0.          0.          0.        ]\n",
      " [ 0.          8.90925302  0.          0.          0.        ]\n",
      " [ 0.          0.         -8.90925302  0.          0.        ]\n",
      " [ 0.          0.          0.         -2.5225081   0.        ]\n",
      " [ 0.          0.          0.          0.          2.5225081 ]] \n",
      " [[ 0.          0.00745322  0.00745322 -0.34743079 -0.34743079]\n",
      " [ 0.          0.11121811  0.11121811  0.01164144  0.01164144]\n",
      " [ 1.         -0.03663028  0.03663028 -0.33199747  0.33199747]\n",
      " [ 0.         -0.99087027  0.99087027  0.02936564 -0.02936564]\n",
      " [ 0.         -0.06640264  0.06640264 -0.87639698  0.87639698]] \n",
      " [[-9.27386059e-17  2.08282844e-17  1.00000000e+00 -1.15553624e-02\n",
      "  -3.79208069e-01]\n",
      " [ 1.50299993e-01  4.48559849e+00 -0.00000000e+00 -5.03476384e-01\n",
      "  -1.68701005e-02]\n",
      " [ 1.50299993e-01  4.48559849e+00  0.00000000e+00  5.03476384e-01\n",
      "   1.68701005e-02]\n",
      " [-1.43591126e+00  9.62268263e-02 -0.00000000e+00  3.81472813e-02\n",
      "  -5.69239505e-01]\n",
      " [-1.43591126e+00  9.62268263e-02 -0.00000000e+00 -3.81472813e-02\n",
      "   5.69239505e-01]]\n",
      "[[  0.           0.           0.           0.          -1.        ]\n",
      " [  0.           0.           0.          -1.           0.        ]\n",
      " [ -2.50315498  -2.76656284   0.           0.           0.        ]\n",
      " [ -2.4409404  -79.21121101   0.           0.           0.        ]\n",
      " [ -6.52662545  -4.88188079   0.           0.           0.        ]] \n",
      " [[-0.00000000e+00  0.00000000e+00  0.00000000e+00  0.00000000e+00\n",
      "   0.00000000e+00]\n",
      " [ 0.00000000e+00  4.44464619e+00 -0.00000000e+00 -0.00000000e+00\n",
      "  -0.00000000e+00]\n",
      " [ 0.00000000e+00 -0.00000000e+00 -0.00000000e+00 -0.00000000e+00\n",
      "   0.00000000e+00]\n",
      " [-0.00000000e+00 -0.00000000e+00 -0.00000000e+00 -2.82576211e-03\n",
      "   0.00000000e+00]\n",
      " [-0.00000000e+00 -0.00000000e+00 -0.00000000e+00  0.00000000e+00\n",
      "   1.25842829e+00]]\n",
      "[[-0.          0.00745322  0.00745322 -0.34743079 -0.34743079]\n",
      " [ 0.          0.11121811  0.11121811  0.01164144  0.01164144]\n",
      " [ 1.         -0.03663028  0.03663028 -0.33199747  0.33199747]\n",
      " [ 0.         -0.99087027  0.99087027  0.02936564 -0.02936564]\n",
      " [ 0.         -0.06640264  0.06640264 -0.87639698  0.87639698]]\n"
     ]
    }
   ],
   "source": [
    "Ax = np.array([[0,         0,         -1/rho, 0, 0     ],\n",
    "               [0,         0,         0,      0, -1/rho],\n",
    "               [-C[0][0], -C[0][2]/2, 0,      0, 0     ],\n",
    "               [-C[0][1], -C[1][2]/2, 0,      0, 0     ],\n",
    "               [-C[0][2], -C[2][2]/2, 0,      0, 0     ]])\n",
    "\n",
    "Ay = np.array([[0,           0,       0, 0,      -1/rho],\n",
    "               [0,           0,       0, -1/rho, 0     ],\n",
    "               [-C[0][2]/2, -C[0][1], 0, 0,      0     ],\n",
    "               [-C[1][2]/2, -C[1][1], 0, 0,      0     ],\n",
    "               [-C[2][2]/2, -C[1][2], 0, 0,      0,    ]])\n",
    "eigo_x = sci.eig(Ax) #Функция считает СВ и СЗ и сохраняет их в кортеж. Векторы в столбцы.\n",
    "eigo_y = sci.eig(Ay)\n",
    "Omegax_inv = eigo_x[1]\n",
    "Omegay_inv = eigo_y[1]\n",
    "Lamx = np.diag(eigo_x[0])\n",
    "Lamx = Lamx.real #Берём действительную часть, мы же знаем, что у матрицы СЗ действительные\n",
    "Lamy = np.diag(eigo_y[0])\n",
    "Lamy = Lamy.real\n",
    "Omegax = np.linalg.inv(Omegax_inv)\n",
    "Omegay = np.linalg.inv(Omegay_inv)\n",
    "print(Lamx, '\\n', Omegax_inv, '\\n', Omegax)\n",
    "print(Ax, '\\n', Omegax_inv * Lamx * Omegax)\n",
    "print(np.linalg.inv(Omegax), '\\n')\n",
    "print(Lamy, '\\n', Omegay_inv, '\\n', Omegay)\n",
    "print(Ay, '\\n', Omegay_inv * Lamy * Omegay)\n",
    "print(np.linalg.inv(Omegay))"
   ]
  },
  {
   "cell_type": "markdown",
   "metadata": {},
   "source": [
    "Пока что произведение матриц не даёт исходную матрицу. Надо будет выяснить причину"
   ]
  },
  {
   "cell_type": "markdown",
   "metadata": {},
   "source": [
    "## Начальные условия (актуально до ввода источника)"
   ]
  },
  {
   "cell_type": "code",
   "execution_count": 94,
   "metadata": {},
   "outputs": [],
   "source": [
    "for j in range(M):\n",
    "    for i in range(M):\n",
    "        if (i > M / 3.0) and (i < 2.0 * M / 3.0) and (j > M / 3.0) and (j < 2.0 * M / 3.0):\n",
    "            data_current[i, j]['sxx'] = 1.0\n",
    "            data_current[i, j]['syy'] = 1.0\n",
    "            data_current[i, j]['sxy'] = 0.0\n"
   ]
  },
  {
   "cell_type": "markdown",
   "metadata": {},
   "source": [
    "## Расчёт"
   ]
  },
  {
   "cell_type": "code",
   "execution_count": 95,
   "metadata": {},
   "outputs": [],
   "source": [
    "for k in range(int(T / dt)):\n",
    "    # Шаг по X\n",
    "    for j in range(M):\n",
    "        for i in range(M):\n",
    "            w_current = Omega((data_current[0], data_current[1], data_current[2], data_current[3], data_current[4], Omegax))\n",
    "            if i == 0:       # Граница слева\n",
    "                data_next[j, i]['q'] = data_current[j, i]['q'] - C[1, 1] * dt / h * (data_current[j, i]['q'] - data_current[j, M - 1]['q'])\n",
    "            elif i == M - 1: # Граница справа\n",
    "                \n",
    "            else:            # Не граница\n",
    "                data_next[j, i]['q'] = data_current[j, i]['q'] - C[1, 1] * dt / h * (data_current[j, i]['q'] - data_current[j, i - 1]['q'])\n",
    "    # Шаг по Y\n",
    "    for j in range(M):\n",
    "        for i in range(M):\n",
    "            if j == 0:       # Граница сверху\n",
    "                data_current[j, i]['q'] = data_next[j, i]['q'] - C[1, 1] * dt / h * (data_next[j, i]['q'] - data_next[M - 1, i]['q'])\n",
    "            elif j == M - 1: # Граница снизу\n",
    "                \n",
    "            else:            # Не граница\n",
    "                data_current[j, i]['q'] = data_next[j, i]['q'] - C[1, 1] * dt / h * (data_next[j, i]['q'] - data_next[j - 1, i]['q'])"
   ]
  },
  {
   "cell_type": "markdown",
   "metadata": {},
   "source": [
    "## Визуальное отображение"
   ]
  },
  {
   "cell_type": "code",
   "execution_count": 96,
   "metadata": {},
   "outputs": [
    {
     "data": {
      "image/png": "[encoded data removed]",
      "text/plain": [
       "<Figure size 432x288 with 2 Axes>"
      ]
     },
     "metadata": {
      "needs_background": "light"
     },
     "output_type": "display_data"
    }
   ],
   "source": [
    "fig, ax = plt.subplots()\n",
    "ax.set_title('Распределение концетрации')\n",
    "_ = ax.set_xlabel('Горизонталь OX, м')\n",
    "_ = ax.set_ylabel('Вертикаль OY, м')\n",
    "img = ax.imshow(data_current['q'], vmin = 0, vmax = 1, origin = 'lower')\n",
    "_ = fig.colorbar(img)"
   ]
  },
  {
   "cell_type": "code",
   "execution_count": null,
   "metadata": {},
   "outputs": [],
   "source": []
  }
 ],
 "metadata": {
  "kernelspec": {
   "display_name": "Python 3",
   "language": "python",
   "name": "python3"
  },
  "language_info": {
   "codemirror_mode": {
    "name": "ipython",
    "version": 3
   },
   "file_extension": ".py",
   "mimetype": "text/x-python",
   "name": "python",
   "nbconvert_exporter": "python",
   "pygments_lexer": "ipython3",
   "version": "3.8.5"
  }
 },
 "nbformat": 4,
 "nbformat_minor": 4
}
