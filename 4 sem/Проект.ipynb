{
 "cells": [
  {
   "cell_type": "markdown",
   "metadata": {},
   "source": [
    "## Теоретические выкладки"
   ]
  },
  {
   "cell_type": "code",
   "execution_count": 168,
   "metadata": {},
   "outputs": [
    {
     "name": "stdout",
     "output_type": "stream",
     "text": [
      "Matrix of conversion tensor, which connects tension (σ) and extensions (ε)\n"
     ]
    },
    {
     "data": {
      "text/latex": [
       "$\\displaystyle \\left[\\begin{matrix}C_{11} & C_{12} & C_{16}\\\\C_{12} & C_{22} & C_{26}\\\\C_{16} & C_{26} & C_{66}\\end{matrix}\\right]$"
      ],
      "text/plain": [
       "⎡C₁₁  C₁₂  C₁₆⎤\n",
       "⎢             ⎥\n",
       "⎢C₁₂  C₂₂  C₂₆⎥\n",
       "⎢             ⎥\n",
       "⎣C₁₆  C₂₆  C₆₆⎦"
      ]
     },
     "metadata": {},
     "output_type": "display_data"
    },
    {
     "name": "stdout",
     "output_type": "stream",
     "text": [
      "Vector of tension (σ):\n"
     ]
    },
    {
     "data": {
      "text/latex": [
       "$\\displaystyle \\left[\\begin{matrix}\\sigma_{x}\\\\\\sigma_{y}\\\\\\sigma_{z}\\end{matrix}\\right]$"
      ],
      "text/plain": [
       "⎡σₓ ⎤\n",
       "⎢   ⎥\n",
       "⎢σ_y⎥\n",
       "⎢   ⎥\n",
       "⎣σ_z⎦"
      ]
     },
     "metadata": {},
     "output_type": "display_data"
    },
    {
     "name": "stdout",
     "output_type": "stream",
     "text": [
      "Vector of extension (ε):\n"
     ]
    },
    {
     "data": {
      "text/latex": [
       "$\\displaystyle \\left[\\begin{matrix}\\epsilon_{x}\\\\\\epsilon_{y}\\\\\\epsilon_{z}\\end{matrix}\\right]$"
      ],
      "text/plain": [
       "⎡εₓ ⎤\n",
       "⎢   ⎥\n",
       "⎢ε_y⎥\n",
       "⎢   ⎥\n",
       "⎣ε_z⎦"
      ]
     },
     "metadata": {},
     "output_type": "display_data"
    },
    {
     "name": "stdout",
     "output_type": "stream",
     "text": [
      "The matrix equation binding tension and extension\n"
     ]
    },
    {
     "data": {
      "text/latex": [
       "$\\displaystyle \\left[\\begin{matrix}\\sigma_{x}\\\\\\sigma_{y}\\\\\\sigma_{z}\\end{matrix}\\right] = \\left[\\begin{matrix}C_{11} \\epsilon_{x} + C_{12} \\epsilon_{y} + C_{16} \\epsilon_{z}\\\\C_{12} \\epsilon_{x} + C_{22} \\epsilon_{y} + C_{26} \\epsilon_{z}\\\\C_{16} \\epsilon_{x} + C_{26} \\epsilon_{y} + C_{66} \\epsilon_{z}\\end{matrix}\\right]$"
      ],
      "text/plain": [
       "⎡σₓ ⎤   ⎡C₁₁⋅εₓ + C₁₂⋅ε_y + C₁₆⋅ε_z⎤\n",
       "⎢   ⎥   ⎢                          ⎥\n",
       "⎢σ_y⎥ = ⎢C₁₂⋅εₓ + C₂₂⋅ε_y + C₂₆⋅ε_z⎥\n",
       "⎢   ⎥   ⎢                          ⎥\n",
       "⎣σ_z⎦   ⎣C₁₆⋅εₓ + C₂₆⋅ε_y + C₆₆⋅ε_z⎦"
      ]
     },
     "metadata": {},
     "output_type": "display_data"
    },
    {
     "data": {
      "image/png": "[encoded data removed]",
      "text/latex": [
       "$\\displaystyle U+2207$"
      ],
      "text/plain": [
       "U+2207"
      ]
     },
     "metadata": {},
     "output_type": "display_data"
    },
    {
     "name": "stdout",
     "output_type": "stream",
     "text": [
      "The equation of equilibrium is such:\n",
      "Solving all tensor equations we finish with matrixes Ax and Ay:\n",
      "Ax =\n"
     ]
    },
    {
     "data": {
      "text/latex": [
       "$\\displaystyle \\left[\\begin{matrix}0 & 0 & - \\frac{1}{\\rho} & 0 & 0\\\\0 & 0 & 0 & 0 & - \\frac{1}{\\rho}\\\\- C_{11} & - \\frac{C_{12}}{2} & 0 & 0 & 0\\\\- C_{12} & - \\frac{C_{22}}{2} & 0 & 0 & 0\\\\- C_{16} & - \\frac{C_{26}}{2} & 0 & 0 & 0\\end{matrix}\\right]$"
      ],
      "text/plain": [
       "⎡             -1         ⎤\n",
       "⎢ 0      0    ───  0   0 ⎥\n",
       "⎢              ρ         ⎥\n",
       "⎢                        ⎥\n",
       "⎢                     -1 ⎥\n",
       "⎢ 0      0     0   0  ───⎥\n",
       "⎢                      ρ ⎥\n",
       "⎢                        ⎥\n",
       "⎢      -C₁₂              ⎥\n",
       "⎢-C₁₁  ─────   0   0   0 ⎥\n",
       "⎢        2               ⎥\n",
       "⎢                        ⎥\n",
       "⎢      -C₂₂              ⎥\n",
       "⎢-C₁₂  ─────   0   0   0 ⎥\n",
       "⎢        2               ⎥\n",
       "⎢                        ⎥\n",
       "⎢      -C₂₆              ⎥\n",
       "⎢-C₁₆  ─────   0   0   0 ⎥\n",
       "⎣        2               ⎦"
      ]
     },
     "metadata": {},
     "output_type": "display_data"
    },
    {
     "name": "stdout",
     "output_type": "stream",
     "text": [
      "Ay =\n"
     ]
    },
    {
     "data": {
      "text/latex": [
       "$\\displaystyle \\left[\\begin{matrix}0 & 0 & 0 & 0 & - \\frac{1}{\\rho}\\\\0 & 0 & 0 & - \\frac{1}{\\rho} & 0\\\\- \\frac{C_{16}}{2} & - C_{12} & 0 & 0 & 0\\\\- \\frac{C_{26}}{2} & - C_{22} & 0 & 0 & 0\\\\- \\frac{C_{66}}{2} & - C_{26} & 0 & 0 & 0\\end{matrix}\\right]$"
      ],
      "text/plain": [
       "⎡                     -1 ⎤\n",
       "⎢  0     0    0   0   ───⎥\n",
       "⎢                      ρ ⎥\n",
       "⎢                        ⎥\n",
       "⎢                -1      ⎥\n",
       "⎢  0     0    0  ───   0 ⎥\n",
       "⎢                 ρ      ⎥\n",
       "⎢                        ⎥\n",
       "⎢-C₁₆                    ⎥\n",
       "⎢─────  -C₁₂  0   0    0 ⎥\n",
       "⎢  2                     ⎥\n",
       "⎢                        ⎥\n",
       "⎢-C₂₆                    ⎥\n",
       "⎢─────  -C₂₂  0   0    0 ⎥\n",
       "⎢  2                     ⎥\n",
       "⎢                        ⎥\n",
       "⎢-C₆₆                    ⎥\n",
       "⎢─────  -C₂₆  0   0    0 ⎥\n",
       "⎣  2                     ⎦"
      ]
     },
     "metadata": {},
     "output_type": "display_data"
    }
   ],
   "source": [
    "from sympy import *\n",
    "\n",
    "C11, C12, C16, C22, C26, C66 = symbols('C11, C12, C16, C22, C26, C66')\n",
    "C = Matrix([[C11, C12, C16],\n",
    "           [C12, C22, C26],\n",
    "           [C16, C26, C66]])\n",
    "print(\"Matrix of conversion tensor, which connects tension (σ) and extensions (ε)\")\n",
    "display(C)\n",
    "sigx, sigy, sigz = symbols('sigma_x sigma_y sigma_z')\n",
    "sig = Matrix([sigx, sigy, sigz])\n",
    "print(\"Vector of tension (σ):\")\n",
    "display(sig)\n",
    "epsx, epsy, epsz = symbols('epsilon_x epsilon_y epsilon_z')\n",
    "eps = Matrix([epsx, epsy, epsz])\n",
    "print(\"Vector of extension (ε):\")\n",
    "display(eps)\n",
    "Tensor_equation = Eq(sig, C*eps)\n",
    "print(\"The matrix equation binding tension and extension\")\n",
    "display(Tensor_equation)\n",
    "T = symbols('T')\n",
    "init_printing(use_unicode=True)\n",
    "nabla = symbols('U+2207')\n",
    "display(nabla)\n",
    "print(\"The equation of equilibrium is such:\")\n",
    "rho = Symbol('rho')\n",
    "print(\"Solving all tensor equations we finish with matrixes Ax and Ay:\")\n",
    "A_x = Matrix([[0,    0,      -1/rho, 0, 0     ],\n",
    "              [0,    0,      0,      0, -1/rho],\n",
    "              [-C11, -C12/2, 0,      0, 0     ],\n",
    "              [-C12, -C22/2, 0,      0, 0     ],\n",
    "              [-C16, -C26/2, 0,      0, 0,    ]])\n",
    "print(\"Ax =\")\n",
    "display(A_x)\n",
    "A_y = Matrix([[0,      0,    0, 0,      -1/rho],\n",
    "              [0,      0,    0, -1/rho, 0     ],\n",
    "              [-C16/2, -C12, 0, 0,      0     ],\n",
    "              [-C26/2, -C22, 0, 0,      0     ],\n",
    "              [-C66/2, -C26, 0, 0,      0,    ]])\n",
    "print(\"Ay =\")\n",
    "display(A_y)\n"
   ]
  },
  {
   "cell_type": "markdown",
   "metadata": {},
   "source": [
    "## Библиотеки"
   ]
  },
  {
   "cell_type": "code",
   "execution_count": 97,
   "metadata": {},
   "outputs": [],
   "source": [
    "import numpy as np\n",
    "import matplotlib.pyplot as plt"
   ]
  },
  {
   "cell_type": "markdown",
   "metadata": {},
   "source": [
    "## Функции"
   ]
  },
  {
   "cell_type": "code",
   "execution_count": 109,
   "metadata": {},
   "outputs": [],
   "source": [
    "def fill_C(): #Заполнить сетку ненулевыми лямбдами\n",
    "    C11 = 12.98344389516936\n",
    "    C12 = 2.76656283641825\n",
    "    C16 = 5.00630996992227\n",
    "    C22 = 79.21121100901908\n",
    "    C26 = 4.88188079023485\n",
    "    C66 = 13.05325089362048\n",
    "    C = np.array([(C11, C12, C16),\n",
    "                  (C12, C22, C26),\n",
    "                  (C16, C26, C66)])\n",
    "    return C\n",
    "            \n",
    "def Omega(q):\n",
    "    vx, vy, sxx, sxy = q\n",
    "    return (np.sqrt(mu * rho) / 2.0 * vy + sxy / 2.0,\n",
    "            -np.sqrt(mu * rho) / 2.0 * vy + sxy / 2.0,\n",
    "            np.sqrt(rho * (lam + 2.0 * mu)) / 2.0 * vx + sxx / 2.0,\n",
    "            -np.sqrt(rho * (lam + 2.0 * mu)) / 2.0 * vx + sxx / 2.0\n",
    "           )"
   ]
  },
  {
   "cell_type": "markdown",
   "metadata": {},
   "source": [
    "## Переменные"
   ]
  },
  {
   "cell_type": "code",
   "execution_count": 110,
   "metadata": {},
   "outputs": [
    {
     "name": "stdout",
     "output_type": "stream",
     "text": [
      "[[12.9834439   2.76656284  5.00630997]\n",
      " [ 2.76656284 79.21121101  4.88188079]\n",
      " [ 5.00630997  4.88188079 13.05325089]]\n"
     ]
    }
   ],
   "source": [
    "L = 1 # масштаб координатных осей\n",
    "M = 51 # количество узлов вдоль оси\n",
    "#C =  np.ones((3, 3)) # Сетка лямбд\n",
    "C = fill_C()\n",
    "print(C)\n",
    "h = L / M # шаг по координате, h\n",
    "T = 1.5 * L / abs(np.max(C)) # 1 полный оборот начального возмущения\n",
    "dt = 0.4 * h / abs(np.max(C)) # коэффициент должен быть меньше единицы\n",
    "step_1 = C * dt / h # комбинация коэффициентов при шаге первого порядка\n",
    "data_current = np.zeros((M, M), dtype=[('q', np.float64)])\n",
    "data_next = np.zeros((M, M), dtype=[('q', np.float64)])"
   ]
  },
  {
   "cell_type": "markdown",
   "metadata": {},
   "source": [
    "## Начальные условия (актуально до ввода источника)"
   ]
  },
  {
   "cell_type": "code",
   "execution_count": 94,
   "metadata": {},
   "outputs": [],
   "source": [
    "for j in range(M):\n",
    "    for i in range(M):\n",
    "        if (i > M / 3.0) and (i < 2.0 * M / 3.0) and (j > M / 3.0) and (j < 2.0 * M / 3.0):\n",
    "            data_current[j, i]['q'] = 1.0"
   ]
  },
  {
   "cell_type": "markdown",
   "metadata": {},
   "source": [
    "## Расчёт"
   ]
  },
  {
   "cell_type": "code",
   "execution_count": 95,
   "metadata": {},
   "outputs": [],
   "source": [
    "for k in range(int(T / dt)):\n",
    "    # Шаг по X\n",
    "    for j in range(M):\n",
    "        for i in range(M):\n",
    "            if i == 0: # периодические граничные условия\n",
    "                data_next[j, i]['q'] = data_current[j, i]['q'] - C[j, i] * dt / h * (data_current[j, i]['q'] - data_current[j, M - 1]['q'])\n",
    "            data_next[j, i]['q'] = data_current[j, i]['q'] - C[j, i] * dt / h * (data_current[j, i]['q'] - data_current[j, i - 1]['q'])\n",
    "    # Шаг по Y\n",
    "    for j in range(M):\n",
    "        for i in range(M):\n",
    "            if j == 0: # периодические граничные условия\n",
    "                data_current[j, i]['q'] = data_next[j, i]['q'] - C[j, i] * dt / h * (data_next[j, i]['q'] - data_next[M - 1, i]['q'])\n",
    "            data_current[j, i]['q'] = data_next[j, i]['q'] - C[j, i] * dt / h * (data_next[j, i]['q'] - data_next[j - 1, i]['q'])"
   ]
  },
  {
   "cell_type": "markdown",
   "metadata": {},
   "source": [
    "## Визуальное отображение"
   ]
  },
  {
   "cell_type": "code",
   "execution_count": 96,
   "metadata": {},
   "outputs": [
    {
     "data": {
      "image/png": "[encoded data removed]",
      "text/plain": [
       "<Figure size 432x288 with 2 Axes>"
      ]
     },
     "metadata": {
      "needs_background": "light"
     },
     "output_type": "display_data"
    }
   ],
   "source": [
    "fig, ax = plt.subplots()\n",
    "ax.set_title('Распределение концетрации')\n",
    "_ = ax.set_xlabel('Горизонталь OX, м')\n",
    "_ = ax.set_ylabel('Вертикаль OY, м')\n",
    "img = ax.imshow(data_current['q'], vmin = 0, vmax = 1, origin = 'lower')\n",
    "_ = fig.colorbar(img)"
   ]
  },
  {
   "cell_type": "code",
   "execution_count": null,
   "metadata": {},
   "outputs": [],
   "source": []
  }
 ],
 "metadata": {
  "kernelspec": {
   "display_name": "Python 3",
   "language": "python",
   "name": "python3"
  },
  "language_info": {
   "codemirror_mode": {
    "name": "ipython",
    "version": 3
   },
   "file_extension": ".py",
   "mimetype": "text/x-python",
   "name": "python",
   "nbconvert_exporter": "python",
   "pygments_lexer": "ipython3",
   "version": "3.8.5"
  }
 },
 "nbformat": 4,
 "nbformat_minor": 4
}
