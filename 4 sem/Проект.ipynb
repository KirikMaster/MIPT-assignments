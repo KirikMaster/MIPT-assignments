{
 "cells": [
  {
   "cell_type": "markdown",
   "metadata": {},
   "source": [
    "## Библиотеки"
   ]
  },
  {
   "cell_type": "code",
   "execution_count": 1,
   "metadata": {},
   "outputs": [],
   "source": [
    "import numpy as np\n",
    "import matplotlib.pyplot as plt"
   ]
  },
  {
   "cell_type": "markdown",
   "metadata": {},
   "source": [
    "## Функции"
   ]
  },
  {
   "cell_type": "code",
   "execution_count": 13,
   "metadata": {},
   "outputs": [],
   "source": [
    "def fill_C(): #Заполнить сетку ненулевыми лямбдами\n",
    "    C11 = 12.98344389516936\n",
    "    C12 = 2.76656283641825\n",
    "    C16 = 5.00630996992227\n",
    "    C22 = 79.21121100901908\n",
    "    C26 = 4.88188079023485\n",
    "    C66 = 13.05325089362048\n",
    "    C = np.array([(C11, C12, C16),\n",
    "                  (C12, C22, C26),\n",
    "                  (C16, C26, C66)])\n",
    "    return C\n",
    "            \n",
    "def Omega(q, Omega):\n",
    "    return Omega @ q\n",
    "\n",
    "def Omega_inv(w, Omega_inv):\n",
    "    q = Omega_inv @ w\n",
    "    return (q[0], q[1], q[2], q[3], q[4])"
   ]
  },
  {
   "cell_type": "markdown",
   "metadata": {},
   "source": [
    "## Переменные"
   ]
  },
  {
   "cell_type": "code",
   "execution_count": 71,
   "metadata": {},
   "outputs": [
    {
     "name": "stdout",
     "output_type": "stream",
     "text": [
      "Matrix C = \n",
      " [[12.9834439   2.76656284  5.00630997]\n",
      " [ 2.76656284 79.21121101  4.88188079]\n",
      " [ 5.00630997  4.88188079 13.05325089]]\n"
     ]
    }
   ],
   "source": [
    "L = 1 # масштаб координатных осей\n",
    "M = 51 # количество узлов вдоль оси\n",
    "#C =  np.ones((3, 3)) # Сетка лямбд\n",
    "C = fill_C()\n",
    "print(\"Matrix C =\", '\\n', C)\n",
    "rho = 1.0\n",
    "h = L / M # шаг по координате, h\n",
    "T = 1.2 * L / abs(np.max(C)) # 1 полный оборот начального возмущения\n",
    "dt = 0.4 * h / abs(np.max(C)) # коэффициент должен быть меньше единицы\n",
    "step_1 = C * dt / h # комбинация коэффициентов при шаге первого порядка\n",
    "data_current = np.zeros((M, M), dtype=[('vx', np.float64), ('vy', np.float64), # По умолчанию нулевые элекменты\n",
    "                                  ('sxx', np.float64), ('syy', np.float64), ('sxy', np.float64)])\n",
    "data_next = np.zeros((M, M), dtype=[('vx', np.float64), ('vy', np.float64),\n",
    "                                  ('sxx', np.float64), ('syy', np.float64), ('sxy', np.float64)])\n",
    "#print(data_current[0, 0])"
   ]
  },
  {
   "cell_type": "markdown",
   "metadata": {},
   "source": [
    "## Численные вычисления матриц"
   ]
  },
  {
   "cell_type": "code",
   "execution_count": 62,
   "metadata": {},
   "outputs": [],
   "source": [
    "import scipy.linalg as sci"
   ]
  },
  {
   "cell_type": "code",
   "execution_count": 63,
   "metadata": {
    "collapsed": true,
    "jupyter": {
     "outputs_hidden": true,
     "source_hidden": true
    }
   },
   "outputs": [
    {
     "name": "stdout",
     "output_type": "stream",
     "text": [
      "[[ 0.          0.          0.          0.          0.        ]\n",
      " [ 0.         -3.81393346  0.          0.          0.        ]\n",
      " [ 0.          0.         -2.22799931  0.          0.        ]\n",
      " [ 0.          0.          0.          2.22799931  0.        ]\n",
      " [ 0.          0.          0.          0.          3.81393346]] \n",
      " [[ 0.          0.209106   -0.11758778  0.11758778  0.209106  ]\n",
      " [ 0.          0.1305386   0.37672093 -0.37672093  0.1305386 ]\n",
      " [ 0.          0.79751635 -0.2619855  -0.2619855  -0.79751635]\n",
      " [ 1.          0.23522744  0.26671433  0.26671433 -0.23522744]\n",
      " [ 0.          0.49786552  0.83933397  0.83933397 -0.49786552]] \n",
      " [[-4.91627378e-17 -4.48193053e-16 -8.08267223e-02  1.00000000e+00\n",
      "  -3.42997863e-01]\n",
      " [ 2.00118743e+00  6.24640618e-01  5.24704339e-01  0.00000000e+00\n",
      "   1.63778583e-01]\n",
      " [-6.93436908e-01  1.11079650e+00 -3.11237488e-01  0.00000000e+00\n",
      "   4.98562318e-01]\n",
      " [ 6.93436908e-01 -1.11079650e+00 -3.11237488e-01  0.00000000e+00\n",
      "   4.98562318e-01]\n",
      " [ 2.00118743e+00  6.24640618e-01 -5.24704339e-01  0.00000000e+00\n",
      "  -1.63778583e-01]]\n",
      "[[  0.           0.          -1.           0.           0.        ]\n",
      " [  0.           0.           0.           0.          -1.        ]\n",
      " [-12.9834439   -2.50315498   0.           0.           0.        ]\n",
      " [ -2.76656284  -2.4409404    0.           0.           0.        ]\n",
      " [ -5.00630997  -6.52662545   0.           0.           0.        ]] \n",
      " [[-6.57901265e-16  2.30196999e-16 -1.00000000e+00  0.00000000e+00\n",
      "   3.01817871e-16]\n",
      " [ 1.00447481e-16  1.49898244e-15  1.31458585e-17  0.00000000e+00\n",
      "  -1.00000000e+00]\n",
      " [-1.29834439e+01 -2.50315498e+00  2.54033101e-15  0.00000000e+00\n",
      "  -2.16952576e-15]\n",
      " [-2.76656284e+00 -2.44094040e+00  1.35006160e-16  0.00000000e+00\n",
      "  -2.96867374e-16]\n",
      " [-5.00630997e+00 -6.52662545e+00 -1.75716722e-16  0.00000000e+00\n",
      "   9.96533907e-16]]\n",
      "[[ 0.          0.209106   -0.11758778  0.11758778  0.209106  ]\n",
      " [ 0.          0.1305386   0.37672093 -0.37672093  0.1305386 ]\n",
      " [-0.          0.79751635 -0.2619855  -0.2619855  -0.79751635]\n",
      " [ 1.          0.23522744  0.26671433  0.26671433 -0.23522744]\n",
      " [ 0.          0.49786552  0.83933397  0.83933397 -0.49786552]] \n",
      "\n",
      "[[ 0.          0.          0.          0.          0.        ]\n",
      " [ 0.          8.90925302  0.          0.          0.        ]\n",
      " [ 0.          0.         -8.90925302  0.          0.        ]\n",
      " [ 0.          0.          0.         -2.5225081   0.        ]\n",
      " [ 0.          0.          0.          0.          2.5225081 ]] \n",
      " [[ 0.          0.00745322  0.00745322 -0.34743079 -0.34743079]\n",
      " [ 0.          0.11121811  0.11121811  0.01164144  0.01164144]\n",
      " [ 1.         -0.03663028  0.03663028 -0.33199747  0.33199747]\n",
      " [ 0.         -0.99087027  0.99087027  0.02936564 -0.02936564]\n",
      " [ 0.         -0.06640264  0.06640264 -0.87639698  0.87639698]] \n",
      " [[-9.27386059e-17  2.08282844e-17  1.00000000e+00 -1.15553624e-02\n",
      "  -3.79208069e-01]\n",
      " [ 1.50299993e-01  4.48559849e+00 -0.00000000e+00 -5.03476384e-01\n",
      "  -1.68701005e-02]\n",
      " [ 1.50299993e-01  4.48559849e+00  0.00000000e+00  5.03476384e-01\n",
      "   1.68701005e-02]\n",
      " [-1.43591126e+00  9.62268263e-02 -0.00000000e+00  3.81472813e-02\n",
      "  -5.69239505e-01]\n",
      " [-1.43591126e+00  9.62268263e-02 -0.00000000e+00 -3.81472813e-02\n",
      "   5.69239505e-01]]\n",
      "[[  0.           0.           0.           0.          -1.        ]\n",
      " [  0.           0.           0.          -1.           0.        ]\n",
      " [ -2.50315498  -2.76656284   0.           0.           0.        ]\n",
      " [ -2.4409404  -79.21121101   0.           0.           0.        ]\n",
      " [ -6.52662545  -4.88188079   0.           0.           0.        ]] \n",
      " [[-1.04435041e-15 -3.24441207e-16  0.00000000e+00 -9.65926159e-17\n",
      "  -1.00000000e+00]\n",
      " [-3.99356854e-17 -1.10348060e-15  0.00000000e+00 -1.00000000e+00\n",
      "  -1.64739610e-17]\n",
      " [-2.50315498e+00 -2.76656284e+00  0.00000000e+00 -3.32737835e-17\n",
      "   1.63944760e-16]\n",
      " [-2.44094040e+00 -7.92112110e+01  0.00000000e+00 -3.74644553e-15\n",
      "  -1.51128332e-16]\n",
      " [-6.52662545e+00 -4.88188079e+00  0.00000000e+00  4.13170726e-17\n",
      "   8.32265717e-16]]\n",
      "[[-0.          0.00745322  0.00745322 -0.34743079 -0.34743079]\n",
      " [ 0.          0.11121811  0.11121811  0.01164144  0.01164144]\n",
      " [ 1.         -0.03663028  0.03663028 -0.33199747  0.33199747]\n",
      " [ 0.         -0.99087027  0.99087027  0.02936564 -0.02936564]\n",
      " [ 0.         -0.06640264  0.06640264 -0.87639698  0.87639698]]\n"
     ]
    }
   ],
   "source": [
    "Ax = np.array([[0,         0,         -1/rho, 0, 0     ],\n",
    "               [0,         0,         0,      0, -1/rho],\n",
    "               [-C[0][0], -C[0][2]/2, 0,      0, 0     ],\n",
    "               [-C[0][1], -C[1][2]/2, 0,      0, 0     ],\n",
    "               [-C[0][2], -C[2][2]/2, 0,      0, 0     ]])\n",
    "\n",
    "Ay = np.array([[0,           0,       0, 0,      -1/rho],\n",
    "               [0,           0,       0, -1/rho, 0     ],\n",
    "               [-C[0][2]/2, -C[0][1], 0, 0,      0     ],\n",
    "               [-C[1][2]/2, -C[1][1], 0, 0,      0     ],\n",
    "               [-C[2][2]/2, -C[1][2], 0, 0,      0,    ]])\n",
    "eigo_x = sci.eig(Ax) #Функция считает СВ и СЗ и сохраняет их в кортеж. Векторы в столбцы.\n",
    "eigo_y = sci.eig(Ay)\n",
    "Omegax_inv = eigo_x[1]\n",
    "Omegay_inv = eigo_y[1]\n",
    "Lamx = np.diag(eigo_x[0])\n",
    "Lamx = Lamx.real #Берём действительную часть, мы же знаем, что у матрицы СЗ действительные\n",
    "Lamy = np.diag(eigo_y[0])\n",
    "Lamy = Lamy.real\n",
    "Omegax = np.linalg.inv(Omegax_inv)\n",
    "Omegay = np.linalg.inv(Omegay_inv)\n",
    "print(Lamx, '\\n', Omegax_inv, '\\n', Omegax)\n",
    "print(Ax, '\\n', Omegax_inv @ Lamx @ Omegax)\n",
    "print(np.linalg.inv(Omegax), '\\n')\n",
    "print(Lamy, '\\n', Omegay_inv, '\\n', Omegay)\n",
    "print(Ay, '\\n', Omegay_inv @ Lamy @ Omegay)\n",
    "print(np.linalg.inv(Omegay))"
   ]
  },
  {
   "cell_type": "markdown",
   "metadata": {},
   "source": [
    "Оставлю, как историческое назидание невежству, что перемножение матриц в numpy производится с помощью \"@\", а то, что производится звёздочкой - поэлементное умножение"
   ]
  },
  {
   "cell_type": "markdown",
   "metadata": {},
   "source": [
    "## Начальные условия (актуально до ввода источника)"
   ]
  },
  {
   "cell_type": "code",
   "execution_count": 72,
   "metadata": {},
   "outputs": [],
   "source": [
    "for j in range(M):\n",
    "    for i in range(M):\n",
    "        if (i > M / 3.0) and (i < 2.0 * M / 3.0) and (j > M / 3.0) and (j < 2.0 * M / 3.0):\n",
    "            data_current[i, j]['sxx'] = 1.0\n",
    "            data_current[i, j]['syy'] = 1.0\n",
    "            data_current[i, j]['sxy'] = 0.0\n",
    "            data_current[i, j]['vx']  = 1.0\n",
    "            data_current[i, j]['vy']  = 1.0\n",
    "data_current[0, 0]['sxx'] = 5\n",
    "data_start = data_current.copy()\n",
    "#print(data_current['sxx'])"
   ]
  },
  {
   "cell_type": "markdown",
   "metadata": {},
   "source": [
    "## Расчёт"
   ]
  },
  {
   "cell_type": "code",
   "execution_count": 73,
   "metadata": {},
   "outputs": [],
   "source": [
    "c1x, c2x = Lamx[3][3], Lamx[4][4]\n",
    "c1y, c2y = Lamy[1][1], Lamy[4][4]\n",
    "for k in range(int(T / dt)): # w1 for 0, w2, w3 for c-, w4, w5 for c+\n",
    "    # Шаг по X\n",
    "    for j in range(M):\n",
    "        for i in range(M):\n",
    "            if i == 0:       # Граница слева\n",
    "                (w1 , w2 , w3 , w4 , w5 ) = Omega(list(data_current[j, i]), Omegax)\n",
    "                (w1n, w2n, w3n, w4n, w5n) = Omega(list(data_current[j, i + 1]), Omegax)\n",
    "                (w1p, w2p, w3p, w4p, w5p) = (0, 0, 0, 0, 0)\n",
    "                w1_new = w1 # Характеристика не меняется, это видно в уравнениях\n",
    "                w2_new = w2 + c2x * dt / h * (w2n - w2)\n",
    "                w3_new = w3 + c1x * dt / h * (w3n - w3)\n",
    "                w4_new = w4 - c1x * dt / h * (w4 - w4p)\n",
    "                w5_new = w5 - c2x * dt / h * (w5 - w5p)\n",
    "                qeq = Omega_inv((w1_new, w2_new, w3_new, w4_new, w5_new), Omegax_inv)\n",
    "                #print(qeq)\n",
    "                #print(list(qeq))\n",
    "                #print(data_next[j, i])\n",
    "                data_next[j, i] = Omega_inv((w1_new, w2_new, w3_new, w4_new, w5_new), Omegax_inv)\n",
    "            elif i == M - 1: # Граница справа\n",
    "                (w1 , w2 , w3 , w4 , w5 ) = Omega(list(data_current[j, i]), Omegax)\n",
    "                (w1n, w2n, w3n, w4n, w5n) = (0, 0, 0, 0, 0)\n",
    "                (w1p, w2p, w3p, w4p, w5p) = Omega(list(data_current[j, i - 1]), Omegax)\n",
    "                w1_new = w1 # Характеристика не меняется, это видно в уравнениях\n",
    "                w2_new = w2 + c2x * dt / h * (w2n - w2)\n",
    "                w3_new = w3 + c1x * dt / h * (w3n - w3)\n",
    "                w4_new = w4 - c1x * dt / h * (w4 - w4p)\n",
    "                w5_new = w5 - c2x * dt / h * (w5 - w5p)\n",
    "                data_next[j, i] = Omega_inv((w1_new, w2_new, w3_new, w4_new, w5_new), Omegax_inv)\n",
    "            else:            # Не граница\n",
    "                (w1 , w2 , w3 , w4 , w5 ) = Omega(list(data_current[j, i]), Omegax)\n",
    "                (w1n, w2n, w3n, w4n, w5n) = Omega(list(data_current[j, i + 1]), Omegax)\n",
    "                (w1p, w2p, w3p, w4p, w5p) = Omega(list(data_current[j, i - 1]), Omegax)\n",
    "                w1_new = w1 # Характеристика не меняется, это видно в уравнениях\n",
    "                w2_new = w2 + c2x * dt / h * (w2n - w2)\n",
    "                w3_new = w3 + c1x * dt / h * (w3n - w3)\n",
    "                w4_new = w4 - c1x * dt / h * (w4 - w4p)\n",
    "                w5_new = w5 - c2x * dt / h * (w5 - w5p)\n",
    "                data_next[j, i] = Omega_inv((w1_new, w2_new, w3_new, w4_new, w5_new), Omegax_inv)\n",
    "    # Шаг по Y\n",
    "    for i in range(M):\n",
    "        for j in range(M):\n",
    "            if j == 0:       # Граница слева\n",
    "                (w1 , w2 , w3 , w4 , w5 ) = Omega(list(data_next[j, i]), Omegay)\n",
    "                (w1n, w2n, w3n, w4n, w5n) = Omega(list(data_next[j + 1, i]), Omegay)\n",
    "                (w1p, w2p, w3p, w4p, w5p) = (0, 0, 0, 0, 0)\n",
    "                w1_new = w1 # Характеристика не меняется, это видно в уравнениях\n",
    "                w2_new = w2 - c1y * dt / h * (w2 - w2p)\n",
    "                w3_new = w3 + c1y * dt / h * (w3n - w3)\n",
    "                w4_new = w4 + c2y * dt / h * (w4n - w4)\n",
    "                w5_new = w5 - c2y * dt / h * (w5 - w5p)\n",
    "                data_current[j, i] = Omega_inv((w1_new, w2_new, w3_new, w4_new, w5_new), Omegay_inv)\n",
    "            elif j == M - 1: # Граница справа\n",
    "                (w1 , w2 , w3 , w4 , w5 ) = Omega(list(data_next[j, i]), Omegay)\n",
    "                (w1n, w2n, w3n, w4n, w5n) = (0, 0, 0, 0, 0)\n",
    "                (w1p, w2p, w3p, w4p, w5p) = Omega(list(data_next[j - 1, i]), Omegay)\n",
    "                w1_new = w1 # Характеристика не меняется, это видно в уравнениях\n",
    "                w2_new = w2 - c1y * dt / h * (w2 - w2p)\n",
    "                w3_new = w3 + c1y * dt / h * (w3n - w3)\n",
    "                w4_new = w4 + c2y * dt / h * (w4n - w4)\n",
    "                w5_new = w5 - c2y * dt / h * (w5 - w5p)\n",
    "                data_current[j, i] = Omega_inv((w1_new, w2_new, w3_new, w4_new, w5_new), Omegay_inv)\n",
    "            else:            # Не граница\n",
    "                (w1 , w2 , w3 , w4 , w5 ) = Omega(list(data_next[j, i]), Omegay)\n",
    "                (w1n, w2n, w3n, w4n, w5n) = Omega(list(data_next[j + 1, i]), Omegay)\n",
    "                (w1p, w2p, w3p, w4p, w5p) = Omega(list(data_next[j - 1, i]), Omegay)\n",
    "                w1_new = w1 # Характеристика не меняется, это видно в уравнениях\n",
    "                w2_new = w2 - c1y * dt / h * (w2 - w2p)\n",
    "                w3_new = w3 + c1y * dt / h * (w3n - w3)\n",
    "                w4_new = w4 + c2y * dt / h * (w4n - w4)\n",
    "                w5_new = w5 - c2y * dt / h * (w5 - w5p)\n",
    "                data_current[j, i] = Omega_inv((w1_new, w2_new, w3_new, w4_new, w5_new), Omegay_inv)"
   ]
  },
  {
   "cell_type": "markdown",
   "metadata": {},
   "source": [
    "## Визуальное отображение"
   ]
  },
  {
   "cell_type": "code",
   "execution_count": 76,
   "metadata": {},
   "outputs": [
    {
     "data": {
      "text/plain": [
       "<matplotlib.colorbar.Colorbar at 0x1d4c5aff370>"
      ]
     },
     "execution_count": 76,
     "metadata": {},
     "output_type": "execute_result"
    },
    {
     "data": {
      "image/png": "[encoded data removed]",
      "text/plain": [
       "<Figure size 432x288 with 2 Axes>"
      ]
     },
     "metadata": {
      "needs_background": "light"
     },
     "output_type": "display_data"
    },
    {
     "data": {
      "image/png": "[encoded data removed]",
      "text/plain": [
       "<Figure size 432x288 with 2 Axes>"
      ]
     },
     "metadata": {
      "needs_background": "light"
     },
     "output_type": "display_data"
    },
    {
     "data": {
      "image/png": "[encoded data removed]",
      "text/plain": [
       "<Figure size 432x288 with 2 Axes>"
      ]
     },
     "metadata": {
      "needs_background": "light"
     },
     "output_type": "display_data"
    },
    {
     "data": {
      "image/png": "[encoded data removed]",
      "text/plain": [
       "<Figure size 432x288 with 2 Axes>"
      ]
     },
     "metadata": {
      "needs_background": "light"
     },
     "output_type": "display_data"
    }
   ],
   "source": [
    "fig1, ax1 = plt.subplots()\n",
    "ax1.set_title('Начальные напряжения')\n",
    "img1 = ax1.imshow((data_start['sxx'] ** 2 + data_start['syy'] ** 2), vmin = 0, vmax = 1, origin = 'lower')\n",
    "plt.colorbar(img1)\n",
    "fig2, ax2 = plt.subplots()\n",
    "ax2.set_title('Распределение напряжений через t = ' + str(T / (L / abs(np.max(C)))) + ' T')\n",
    "#_ = ax2.set_xlabel('Горизонталь OX, м')\n",
    "#_ = ax2.set_ylabel('Вертикаль OY, м')\n",
    "img2 = ax2.imshow((data_current['sxx'] ** 2 + data_current['syy'] ** 2), vmin = 0, vmax = 1, origin = 'lower')\n",
    "plt.colorbar(img2)\n",
    "\n",
    "fig3, ax3 = plt.subplots()\n",
    "ax3.set_title('Начальные скорости')\n",
    "img3 = ax3.imshow((data_start['vx'] ** 2 + data_start['vy'] ** 2), vmin = 0, vmax = 1, origin = 'lower')\n",
    "plt.colorbar(img3)\n",
    "fig4, ax4 = plt.subplots()\n",
    "ax4.set_title('Распределение скоростей через t = ' + str(T / (L / abs(np.max(C)))) + ' T')\n",
    "#_ = ax2.set_xlabel('Горизонталь OX, м')\n",
    "#_ = ax2.set_ylabel('Вертикаль OY, м')\n",
    "img4 = ax4.imshow((data_current['vx'] ** 2 + data_current['vy'] ** 2), vmin = 0, vmax = 1, origin = 'lower')\n",
    "plt.colorbar(img4)\n"
   ]
  },
  {
   "cell_type": "code",
   "execution_count": null,
   "metadata": {},
   "outputs": [],
   "source": []
  }
 ],
 "metadata": {
  "kernelspec": {
   "display_name": "Python 3",
   "language": "python",
   "name": "python3"
  },
  "language_info": {
   "codemirror_mode": {
    "name": "ipython",
    "version": 3
   },
   "file_extension": ".py",
   "mimetype": "text/x-python",
   "name": "python",
   "nbconvert_exporter": "python",
   "pygments_lexer": "ipython3",
   "version": "3.8.5"
  }
 },
 "nbformat": 4,
 "nbformat_minor": 4
}
