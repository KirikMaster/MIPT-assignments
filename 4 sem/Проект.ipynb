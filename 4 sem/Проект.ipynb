{
 "cells": [
  {
   "cell_type": "markdown",
   "metadata": {},
   "source": [
    "## Библиотеки"
   ]
  },
  {
   "cell_type": "code",
   "execution_count": 95,
   "metadata": {},
   "outputs": [],
   "source": [
    "import numpy as np\n",
    "import matplotlib.pyplot as plt"
   ]
  },
  {
   "cell_type": "markdown",
   "metadata": {},
   "source": [
    "## Функции"
   ]
  },
  {
   "cell_type": "code",
   "execution_count": 100,
   "metadata": {},
   "outputs": [],
   "source": [
    "def fill_C(): # Заполнить сетку ненулевыми лямбдами\n",
    "    C11 = 12.98344389516936\n",
    "    C12 = 2.76656283641825\n",
    "    C16 = 5.00630996992227\n",
    "    C22 = 79.21121100901908\n",
    "    C26 = 4.88188079023485\n",
    "    C66 = 13.05325089362048\n",
    "    C = np.array([(C11, C12, C16),\n",
    "                  (C12, C22, C26),\n",
    "                  (C16, C26, C66)])\n",
    "    C *= 1e-9 # Гигапаскали - 10^9\n",
    "    return C\n",
    "            \n",
    "def Omega(q, Omega):\n",
    "    return Omega @ q\n",
    "\n",
    "def Omega_inv(w, Omega_inv):\n",
    "    q = Omega_inv @ w\n",
    "    return (q[0], q[1], q[2], q[3], q[4])"
   ]
  },
  {
   "cell_type": "markdown",
   "metadata": {},
   "source": [
    "## Переменные"
   ]
  },
  {
   "cell_type": "code",
   "execution_count": 102,
   "metadata": {},
   "outputs": [
    {
     "name": "stdout",
     "output_type": "stream",
     "text": [
      "Matrix C = \n",
      " [[1.29834439e-08 2.76656284e-09 5.00630997e-09]\n",
      " [2.76656284e-09 7.92112110e-08 4.88188079e-09]\n",
      " [5.00630997e-09 4.88188079e-09 1.30532509e-08]]\n"
     ]
    }
   ],
   "source": [
    "L = 1 # масштаб координатных осей\n",
    "M = 51 # количество узлов вдоль оси\n",
    "#C =  np.ones((3, 3)) # Сетка лямбд\n",
    "C = fill_C()\n",
    "print(\"Matrix C =\", '\\n', C)\n",
    "rho = 1.0\n",
    "h = L / M # шаг по координате, h\n",
    "data_current = np.zeros((M, M), dtype=[('vx', np.float64), ('vy', np.float64), # По умолчанию нулевые элекменты\n",
    "                                  ('sxx', np.float64), ('syy', np.float64), ('sxy', np.float64)])\n",
    "data_next = np.zeros((M, M), dtype=[('vx', np.float64), ('vy', np.float64),\n",
    "                                  ('sxx', np.float64), ('syy', np.float64), ('sxy', np.float64)])\n",
    "#print(data_current[0, 0])"
   ]
  },
  {
   "cell_type": "markdown",
   "metadata": {},
   "source": [
    "## Численные вычисления матриц"
   ]
  },
  {
   "cell_type": "code",
   "execution_count": 103,
   "metadata": {},
   "outputs": [],
   "source": [
    "import scipy.linalg as sci"
   ]
  },
  {
   "cell_type": "code",
   "execution_count": 104,
   "metadata": {},
   "outputs": [
    {
     "name": "stdout",
     "output_type": "stream",
     "text": [
      "[[ 0.00000000e+00  0.00000000e+00  0.00000000e+00  0.00000000e+00\n",
      "   0.00000000e+00]\n",
      " [ 0.00000000e+00 -1.20607166e-04  0.00000000e+00  0.00000000e+00\n",
      "   0.00000000e+00]\n",
      " [ 0.00000000e+00  0.00000000e+00 -7.04555245e-05  0.00000000e+00\n",
      "   0.00000000e+00]\n",
      " [ 0.00000000e+00  0.00000000e+00  0.00000000e+00  1.20607166e-04\n",
      "   0.00000000e+00]\n",
      " [ 0.00000000e+00  0.00000000e+00  0.00000000e+00  0.00000000e+00\n",
      "   7.04555245e-05]] \n",
      " [[ 0.00000000e+00 -8.48276500e-01  2.97957544e-01  8.48276500e-01\n",
      "   2.97957544e-01]\n",
      " [ 0.00000000e+00 -5.29553552e-01 -9.54579120e-01  5.29553552e-01\n",
      "  -9.54579120e-01]\n",
      " [ 0.00000000e+00 -1.02308224e-04  2.09927550e-05 -1.02308224e-04\n",
      "  -2.09927550e-05]\n",
      " [ 1.00000000e+00 -3.01758098e-05 -2.13716735e-05 -3.01758098e-05\n",
      "   2.13716735e-05]\n",
      " [ 0.00000000e+00 -6.38679530e-05 -6.72553726e-05 -6.38679530e-05\n",
      "   6.72553726e-05]] \n",
      " [[ 2.88233415e-20 -2.06863300e-20 -8.08267223e-02  1.00000000e+00\n",
      "  -3.42997863e-01]\n",
      " [-4.93306476e-01 -1.53978212e-01 -4.09019210e+03 -0.00000000e+00\n",
      "  -1.27669207e+03]\n",
      " [ 2.73662174e-01 -4.38371511e-01  3.88418333e+03 -0.00000000e+00\n",
      "  -6.22196078e+03]\n",
      " [ 4.93306476e-01  1.53978212e-01 -4.09019210e+03 -0.00000000e+00\n",
      "  -1.27669207e+03]\n",
      " [ 2.73662174e-01 -4.38371511e-01 -3.88418333e+03  0.00000000e+00\n",
      "   6.22196078e+03]]\n",
      "[[ 0.00000000e+00  0.00000000e+00 -1.00000000e+00  0.00000000e+00\n",
      "   0.00000000e+00]\n",
      " [ 0.00000000e+00  0.00000000e+00  0.00000000e+00  0.00000000e+00\n",
      "  -1.00000000e+00]\n",
      " [-1.29834439e-08 -2.50315498e-09  0.00000000e+00  0.00000000e+00\n",
      "   0.00000000e+00]\n",
      " [-2.76656284e-09 -2.44094040e-09  0.00000000e+00  0.00000000e+00\n",
      "   0.00000000e+00]\n",
      " [-5.00630997e-09 -6.52662545e-09  0.00000000e+00  0.00000000e+00\n",
      "   0.00000000e+00]] \n",
      " [[-7.24109554e-20  1.47247677e-20 -1.00000000e+00  0.00000000e+00\n",
      "  -1.15262455e-16]\n",
      " [ 1.42666423e-19 -6.52236037e-20  3.35395727e-15  0.00000000e+00\n",
      "  -1.00000000e+00]\n",
      " [-1.29834439e-08 -2.50315498e-09 -4.94668931e-20  0.00000000e+00\n",
      "  -7.27680661e-21]\n",
      " [-2.76656284e-09 -2.44094040e-09 -4.81838487e-20  0.00000000e+00\n",
      "  -6.49931991e-21]\n",
      " [-5.00630997e-09 -6.52662545e-09 -2.15435195e-19  0.00000000e+00\n",
      "   3.27285501e-20]]\n",
      "[[ 0.00000000e+00 -8.48276500e-01  2.97957544e-01  8.48276500e-01\n",
      "   2.97957544e-01]\n",
      " [-0.00000000e+00 -5.29553552e-01 -9.54579120e-01  5.29553552e-01\n",
      "  -9.54579120e-01]\n",
      " [-0.00000000e+00 -1.02308224e-04  2.09927550e-05 -1.02308224e-04\n",
      "  -2.09927550e-05]\n",
      " [ 1.00000000e+00 -3.01758098e-05 -2.13716735e-05 -3.01758098e-05\n",
      "   2.13716735e-05]\n",
      " [ 0.00000000e+00 -6.38679530e-05 -6.72553726e-05 -6.38679530e-05\n",
      "   6.72553726e-05]] \n",
      "\n",
      "[[ 0.00000000e+00  0.00000000e+00  0.00000000e+00  0.00000000e+00\n",
      "   0.00000000e+00]\n",
      " [ 0.00000000e+00  2.81735318e-04  0.00000000e+00  0.00000000e+00\n",
      "   0.00000000e+00]\n",
      " [ 0.00000000e+00  0.00000000e+00 -2.81735318e-04  0.00000000e+00\n",
      "   0.00000000e+00]\n",
      " [ 0.00000000e+00  0.00000000e+00  0.00000000e+00 -7.97687102e-05\n",
      "   0.00000000e+00]\n",
      " [ 0.00000000e+00  0.00000000e+00  0.00000000e+00  0.00000000e+00\n",
      "   7.97687102e-05]] \n",
      " [[ 0.00000000e+00  6.68644892e-02  6.68644892e-02 -9.99439101e-01\n",
      "  -9.99439101e-01]\n",
      " [ 0.00000000e+00  9.97762026e-01  9.97762026e-01  3.34884388e-02\n",
      "   3.34884388e-02]\n",
      " [ 1.00000000e+00 -1.03918229e-05  1.03918229e-05 -3.02011038e-05\n",
      "   3.02011038e-05]\n",
      " [ 0.00000000e+00 -2.81104802e-04  2.81104802e-04  2.67132957e-06\n",
      "  -2.67132957e-06]\n",
      " [ 0.00000000e+00 -1.88380881e-05  1.88380881e-05 -7.97239681e-05\n",
      "   7.97239681e-05]] \n",
      " [[-2.75161678e-21 -5.43832218e-21  1.00000000e+00 -1.15553624e-02\n",
      "  -3.79208069e-01]\n",
      " [ 1.67535751e-02  4.99998765e-01  0.00000000e+00 -1.77471099e+03\n",
      "  -5.94656545e+01]\n",
      " [ 1.67535751e-02  4.99998765e-01  0.00000000e+00  1.77471099e+03\n",
      "   5.94656545e+01]\n",
      " [-4.99159759e-01  3.34509246e-02 -0.00000000e+00  4.19348947e+02\n",
      "  -6.25758844e+03]\n",
      " [-4.99159759e-01  3.34509246e-02  0.00000000e+00 -4.19348947e+02\n",
      "   6.25758844e+03]]\n",
      "[[ 0.00000000e+00  0.00000000e+00  0.00000000e+00  0.00000000e+00\n",
      "  -1.00000000e+00]\n",
      " [ 0.00000000e+00  0.00000000e+00  0.00000000e+00 -1.00000000e+00\n",
      "   0.00000000e+00]\n",
      " [-2.50315498e-09 -2.76656284e-09  0.00000000e+00  0.00000000e+00\n",
      "   0.00000000e+00]\n",
      " [-2.44094040e-09 -7.92112110e-08  0.00000000e+00  0.00000000e+00\n",
      "   0.00000000e+00]\n",
      " [-6.52662545e-09 -4.88188079e-09  0.00000000e+00  0.00000000e+00\n",
      "   0.00000000e+00]] \n",
      " [[ 1.34201440e-20 -7.66966797e-21  0.00000000e+00 -5.39553820e-17\n",
      "  -1.00000000e+00]\n",
      " [-5.08785921e-21 -2.80254255e-21  0.00000000e+00 -1.00000000e+00\n",
      "   5.22634962e-17]\n",
      " [-2.50315498e-09 -2.76656284e-09  0.00000000e+00 -3.11969842e-21\n",
      "  -8.24202106e-21]\n",
      " [-2.44094040e-09 -7.92112110e-08  0.00000000e+00  5.03646175e-20\n",
      "  -1.34329595e-20]\n",
      " [-6.52662545e-09 -4.88188079e-09  0.00000000e+00  8.54622046e-21\n",
      "  -2.55523654e-20]]\n",
      "[[-0.00000000e+00  6.68644892e-02  6.68644892e-02 -9.99439101e-01\n",
      "  -9.99439101e-01]\n",
      " [ 0.00000000e+00  9.97762026e-01  9.97762026e-01  3.34884388e-02\n",
      "   3.34884388e-02]\n",
      " [ 1.00000000e+00 -1.03918229e-05  1.03918229e-05 -3.02011038e-05\n",
      "   3.02011038e-05]\n",
      " [ 0.00000000e+00 -2.81104802e-04  2.81104802e-04  2.67132957e-06\n",
      "  -2.67132957e-06]\n",
      " [-0.00000000e+00 -1.88380881e-05  1.88380881e-05 -7.97239681e-05\n",
      "   7.97239681e-05]]\n"
     ]
    }
   ],
   "source": [
    "Ax = np.array([[0,         0,         -1/rho, 0, 0     ],\n",
    "               [0,         0,         0,      0, -1/rho],\n",
    "               [-C[0][0], -C[0][2]/2, 0,      0, 0     ],\n",
    "               [-C[0][1], -C[1][2]/2, 0,      0, 0     ],\n",
    "               [-C[0][2], -C[2][2]/2, 0,      0, 0     ]])\n",
    "\n",
    "Ay = np.array([[0,           0,       0, 0,      -1/rho],\n",
    "               [0,           0,       0, -1/rho, 0     ],\n",
    "               [-C[0][2]/2, -C[0][1], 0, 0,      0     ],\n",
    "               [-C[1][2]/2, -C[1][1], 0, 0,      0     ],\n",
    "               [-C[2][2]/2, -C[1][2], 0, 0,      0,    ]])\n",
    "eigo_x = sci.eig(Ax) #Функция считает СВ и СЗ и сохраняет их в кортеж. Векторы в столбцы.\n",
    "eigo_y = sci.eig(Ay)\n",
    "Omegax_inv = eigo_x[1]\n",
    "Omegay_inv = eigo_y[1]\n",
    "Lamx = np.diag(eigo_x[0])\n",
    "Lamx = Lamx.real #Берём действительную часть, мы же знаем, что у матрицы СЗ действительные\n",
    "Lamy = np.diag(eigo_y[0])\n",
    "Lamy = Lamy.real\n",
    "Omegax = np.linalg.inv(Omegax_inv)\n",
    "Omegay = np.linalg.inv(Omegay_inv)\n",
    "print(Lamx, '\\n', Omegax_inv, '\\n', Omegax)\n",
    "print(Ax, '\\n', Omegax_inv @ Lamx @ Omegax)\n",
    "print(np.linalg.inv(Omegax), '\\n')\n",
    "print(Lamy, '\\n', Omegay_inv, '\\n', Omegay)\n",
    "print(Ay, '\\n', Omegay_inv @ Lamy @ Omegay)\n",
    "print(np.linalg.inv(Omegay))"
   ]
  },
  {
   "cell_type": "markdown",
   "metadata": {},
   "source": [
    "Оставлю, как историческое назидание невежству, что перемножение матриц в numpy производится с помощью \"@\", а то, что производится звёздочкой - поэлементное умножение"
   ]
  },
  {
   "cell_type": "markdown",
   "metadata": {},
   "source": [
    "## Начальные условия (актуально до ввода источника)"
   ]
  },
  {
   "cell_type": "code",
   "execution_count": 105,
   "metadata": {},
   "outputs": [],
   "source": [
    "for j in range(M):\n",
    "    for i in range(M):\n",
    "        if (i > M / 3.0) and (i < 2.0 * M / 3.0) and (j > M / 3.0) and (j < 2.0 * M / 3.0):\n",
    "            data_current[i, j]['sxx'] = 1.0\n",
    "            data_current[i, j]['syy'] = 1.0\n",
    "            data_current[i, j]['sxy'] = 0.0\n",
    "            data_current[i, j]['vx']  = -1.0\n",
    "            data_current[i, j]['vy']  = 1.0\n",
    "#data_current[0, 0]['sxx'] = 5\n",
    "data_start = data_current.copy()\n",
    "#print(data_current['sxx'])"
   ]
  },
  {
   "cell_type": "markdown",
   "metadata": {},
   "source": [
    "## Расчёт"
   ]
  },
  {
   "cell_type": "code",
   "execution_count": 111,
   "metadata": {},
   "outputs": [],
   "source": [
    "c1x, c2x = Lamx[3][3], Lamx[4][4]\n",
    "c1y, c2y = Lamy[1][1], Lamy[4][4]\n",
    "T = 0.0001 * L / max(c1x, c2x, c1y, c2y) # 1 полный оборот начального возмущения\n",
    "dt = 0.4 * h / max(c1x, c2x, c1y, c2y) # коэффициент должен быть меньше единицы\n",
    "\n",
    "for k in range(int(T / dt)): # w1 for 0, w2, w3 for c-, w4, w5 for c+\n",
    "    # Шаг по X\n",
    "    for j in range(M):\n",
    "        for i in range(M):\n",
    "            if i == 0:       # Граница слева\n",
    "                (w1 , w2 , w3 , w4 , w5 ) = Omega(list(data_current[j, i]), Omegax)\n",
    "                (w1n, w2n, w3n, w4n, w5n) = Omega(list(data_current[j, i + 1]), Omegax)\n",
    "                (w1p, w2p, w3p, w4p, w5p) = (0, 0, 0, 0, 0)\n",
    "                w1_new = w1 # Характеристика не меняется, это видно в уравнениях\n",
    "                w2_new = w2 + c2x * dt / h * (w2n - w2)\n",
    "                w3_new = w3 + c1x * dt / h * (w3n - w3)\n",
    "                w4_new = w4 - c2x * dt / h * (w4 - w4p)\n",
    "                w5_new = w5 - c1x * dt / h * (w5 - w5p)\n",
    "                qeq = Omega_inv((w1_new, w2_new, w3_new, w4_new, w5_new), Omegax_inv)\n",
    "                #print(qeq)\n",
    "                #print(list(qeq))\n",
    "                #print(data_next[j, i])\n",
    "                data_next[j, i] = Omega_inv((w1_new, w2_new, w3_new, w4_new, w5_new), Omegax_inv)\n",
    "            elif i == M - 1: # Граница справа\n",
    "                (w1 , w2 , w3 , w4 , w5 ) = Omega(list(data_current[j, i]), Omegax)\n",
    "                (w1n, w2n, w3n, w4n, w5n) = (0, 0, 0, 0, 0)\n",
    "                (w1p, w2p, w3p, w4p, w5p) = Omega(list(data_current[j, i - 1]), Omegax)\n",
    "                w1_new = w1 # Характеристика не меняется, это видно в уравнениях\n",
    "                w2_new = w2 + c2x * dt / h * (w2n - w2)\n",
    "                w3_new = w3 + c1x * dt / h * (w3n - w3)\n",
    "                w4_new = w4 - c2x * dt / h * (w4 - w4p)\n",
    "                w5_new = w5 - c1x * dt / h * (w5 - w5p)\n",
    "                data_next[j, i] = Omega_inv((w1_new, w2_new, w3_new, w4_new, w5_new), Omegax_inv)\n",
    "            else:            # Не граница\n",
    "                (w1 , w2 , w3 , w4 , w5 ) = Omega(list(data_current[j, i]), Omegax)\n",
    "                (w1n, w2n, w3n, w4n, w5n) = Omega(list(data_current[j, i + 1]), Omegax)\n",
    "                (w1p, w2p, w3p, w4p, w5p) = Omega(list(data_current[j, i - 1]), Omegax)\n",
    "                w1_new = w1 # Характеристика не меняется, это видно в уравнениях\n",
    "                w2_new = w2 + c2x * dt / h * (w2n - w2)\n",
    "                w3_new = w3 + c1x * dt / h * (w3n - w3)\n",
    "                w4_new = w4 - c2x * dt / h * (w4 - w4p)\n",
    "                w5_new = w5 - c1x * dt / h * (w5 - w5p)\n",
    "                data_next[j, i] = Omega_inv((w1_new, w2_new, w3_new, w4_new, w5_new), Omegax_inv)\n",
    "    # Шаг по Y\n",
    "    for i in range(M):\n",
    "        for j in range(M):\n",
    "            if j == 0:       # Граница слева\n",
    "                (w1 , w2 , w3 , w4 , w5 ) = Omega(list(data_next[j, i]), Omegay)\n",
    "                (w1n, w2n, w3n, w4n, w5n) = Omega(list(data_next[j + 1, i]), Omegay)\n",
    "                (w1p, w2p, w3p, w4p, w5p) = (0, 0, 0, 0, 0)\n",
    "                w1_new = w1 # Характеристика не меняется, это видно в уравнениях\n",
    "                w2_new = w2 - c1y * dt / h * (w2 - w2p)\n",
    "                w3_new = w3 + c1y * dt / h * (w3n - w3)\n",
    "                w4_new = w4 + c2y * dt / h * (w4n - w4)\n",
    "                w5_new = w5 - c2y * dt / h * (w5 - w5p)\n",
    "                data_current[j, i] = Omega_inv((w1_new, w2_new, w3_new, w4_new, w5_new), Omegay_inv)\n",
    "            elif j == M - 1: # Граница справа\n",
    "                (w1 , w2 , w3 , w4 , w5 ) = Omega(list(data_next[j, i]), Omegay)\n",
    "                (w1n, w2n, w3n, w4n, w5n) = (0, 0, 0, 0, 0)\n",
    "                (w1p, w2p, w3p, w4p, w5p) = Omega(list(data_next[j - 1, i]), Omegay)\n",
    "                w1_new = w1 # Характеристика не меняется, это видно в уравнениях\n",
    "                w2_new = w2 - c1y * dt / h * (w2 - w2p)\n",
    "                w3_new = w3 + c1y * dt / h * (w3n - w3)\n",
    "                w4_new = w4 + c2y * dt / h * (w4n - w4)\n",
    "                w5_new = w5 - c2y * dt / h * (w5 - w5p)\n",
    "                data_current[j, i] = Omega_inv((w1_new, w2_new, w3_new, w4_new, w5_new), Omegay_inv)\n",
    "            else:            # Не граница\n",
    "                (w1 , w2 , w3 , w4 , w5 ) = Omega(list(data_next[j, i]), Omegay)\n",
    "                (w1n, w2n, w3n, w4n, w5n) = Omega(list(data_next[j + 1, i]), Omegay)\n",
    "                (w1p, w2p, w3p, w4p, w5p) = Omega(list(data_next[j - 1, i]), Omegay)\n",
    "                w1_new = w1 # Характеристика не меняется, это видно в уравнениях\n",
    "                w2_new = w2 - c1y * dt / h * (w2 - w2p)\n",
    "                w3_new = w3 + c1y * dt / h * (w3n - w3)\n",
    "                w4_new = w4 + c2y * dt / h * (w4n - w4)\n",
    "                w5_new = w5 - c2y * dt / h * (w5 - w5p)\n",
    "                data_current[j, i] = Omega_inv((w1_new, w2_new, w3_new, w4_new, w5_new), Omegay_inv)"
   ]
  },
  {
   "cell_type": "markdown",
   "metadata": {},
   "source": [
    "## Визуальное отображение"
   ]
  },
  {
   "cell_type": "code",
   "execution_count": 114,
   "metadata": {},
   "outputs": [
    {
     "data": {
      "text/plain": [
       "<matplotlib.colorbar.Colorbar at 0x1d4c7858070>"
      ]
     },
     "execution_count": 114,
     "metadata": {},
     "output_type": "execute_result"
    },
    {
     "data": {
      "image/png": "[encoded data removed]",
      "text/plain": [
       "<Figure size 432x288 with 2 Axes>"
      ]
     },
     "metadata": {
      "needs_background": "light"
     },
     "output_type": "display_data"
    },
    {
     "data": {
      "image/png": "[encoded data removed]",
      "text/plain": [
       "<Figure size 432x288 with 2 Axes>"
      ]
     },
     "metadata": {
      "needs_background": "light"
     },
     "output_type": "display_data"
    },
    {
     "data": {
      "image/png": "[encoded data removed]",
      "text/plain": [
       "<Figure size 432x288 with 2 Axes>"
      ]
     },
     "metadata": {
      "needs_background": "light"
     },
     "output_type": "display_data"
    },
    {
     "data": {
      "image/png": "[encoded data removed]",
      "text/plain": [
       "<Figure size 432x288 with 2 Axes>"
      ]
     },
     "metadata": {
      "needs_background": "light"
     },
     "output_type": "display_data"
    }
   ],
   "source": [
    "fig1, ax1 = plt.subplots()\n",
    "ax1.set_title('Начальные напряжения')\n",
    "img1 = ax1.imshow(np.sqrt(data_start['sxx'] ** 2 + data_start['syy'] ** 2 + 4 * data_start['sxy'] ** 2), vmin = 0, vmax = 1, origin = 'lower')\n",
    "plt.colorbar(img1)\n",
    "fig2, ax2 = plt.subplots()\n",
    "ax2.set_title('Распределение напряжений через t = ' + str(T / (L / max(c1x, c2x, c1y, c2y))) + ' T')\n",
    "#_ = ax2.set_xlabel('Горизонталь OX, м')\n",
    "#_ = ax2.set_ylabel('Вертикаль OY, м')\n",
    "img2 = ax2.imshow(np.sqrt(data_current['sxx'] ** 2 + data_current['syy'] ** 2 + 4 * data_current['sxy'] ** 2), vmin = 0, vmax = 1, origin = 'lower')\n",
    "plt.colorbar(img2)\n",
    "\n",
    "fig3, ax3 = plt.subplots()\n",
    "ax3.set_title('Начальные скорости')\n",
    "img3 = ax3.imshow(np.sqrt(data_start['vx'] ** 2 + data_start['vy'] ** 2), vmin = 0, vmax = 1, origin = 'lower')\n",
    "plt.colorbar(img3)\n",
    "fig4, ax4 = plt.subplots()\n",
    "ax4.set_title('Распределение скоростей через t = ' + str(T / (L / max(c1x, c2x, c1y, c2y))) + ' T')\n",
    "#_ = ax2.set_xlabel('Горизонталь OX, м')\n",
    "#_ = ax2.set_ylabel('Вертикаль OY, м')\n",
    "img4 = ax4.imshow(np.sqrt(data_current['vx'] ** 2 + data_current['vy'] ** 2), origin = 'lower')\n",
    "plt.colorbar(img4)\n"
   ]
  },
  {
   "cell_type": "code",
   "execution_count": null,
   "metadata": {},
   "outputs": [],
   "source": []
  }
 ],
 "metadata": {
  "kernelspec": {
   "display_name": "Python 3",
   "language": "python",
   "name": "python3"
  },
  "language_info": {
   "codemirror_mode": {
    "name": "ipython",
    "version": 3
   },
   "file_extension": ".py",
   "mimetype": "text/x-python",
   "name": "python",
   "nbconvert_exporter": "python",
   "pygments_lexer": "ipython3",
   "version": "3.8.5"
  }
 },
 "nbformat": 4,
 "nbformat_minor": 4
}
