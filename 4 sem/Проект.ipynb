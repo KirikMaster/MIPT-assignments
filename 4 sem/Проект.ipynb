{
 "cells": [
  {
   "cell_type": "markdown",
   "metadata": {},
   "source": [
    "## Библиотеки"
   ]
  },
  {
   "cell_type": "code",
   "execution_count": 145,
   "metadata": {},
   "outputs": [],
   "source": [
    "import numpy as np\n",
    "import matplotlib.pyplot as plt"
   ]
  },
  {
   "cell_type": "markdown",
   "metadata": {},
   "source": [
    "## Функции"
   ]
  },
  {
   "cell_type": "code",
   "execution_count": 171,
   "metadata": {},
   "outputs": [],
   "source": [
    "def fill_C(): # Заполнить сетку ненулевыми лямбдами\n",
    "    C11 = 12.98344389516936\n",
    "    C12 = 2.76656283641825\n",
    "    C16 = 5.00630996992227\n",
    "    C22 = 79.21121100901908\n",
    "    C26 = 4.88188079023485\n",
    "    C66 = 13.05325089362048\n",
    "    C = np.array([(C11, C12, C16),\n",
    "                  (C12, C22, C26),\n",
    "                  (C16, C26, C66)])\n",
    "    C *= 1e-9 # Гигапаскали - 10^9\n",
    "    return C\n",
    "            \n",
    "def Omega(q, Omega):\n",
    "    return Omega @ q\n",
    "\n",
    "def Omega_inv(w, Omega_inv):\n",
    "    q = Omega_inv @ w\n",
    "    return (q[0], q[1], q[2], q[3], q[4])\n",
    "\n",
    "def source(t):\n",
    "    return A * np.sin(2 * np.pi * f * t) # F = sin(2πft)"
   ]
  },
  {
   "cell_type": "markdown",
   "metadata": {},
   "source": [
    "## Переменные"
   ]
  },
  {
   "cell_type": "code",
   "execution_count": 192,
   "metadata": {},
   "outputs": [
    {
     "name": "stdout",
     "output_type": "stream",
     "text": [
      "Matrix C = \n",
      " [[1.29834439e-08 2.76656284e-09 5.00630997e-09]\n",
      " [2.76656284e-09 7.92112110e-08 4.88188079e-09]\n",
      " [5.00630997e-09 4.88188079e-09 1.30532509e-08]]\n"
     ]
    }
   ],
   "source": [
    "L = 1 # масштаб координатных осей\n",
    "M = 51 # количество узлов вдоль оси\n",
    "#C =  np.ones((3, 3)) # Сетка лямбд\n",
    "C = fill_C()\n",
    "print(\"Matrix C =\", '\\n', C)\n",
    "rho = 2200\n",
    "h = L / M # шаг по координате, h\n",
    "f = 0.2 # Гц - частота источника\n",
    "A = 1 # Амплитуда источника\n",
    "data_current = np.zeros((M, M), dtype=[('vx', np.float64), ('vy', np.float64), # По умолчанию нулевые элекменты\n",
    "                                  ('sxx', np.float64), ('syy', np.float64), ('sxy', np.float64)])\n",
    "data_next = np.zeros((M, M), dtype=[('vx', np.float64), ('vy', np.float64),\n",
    "                                  ('sxx', np.float64), ('syy', np.float64), ('sxy', np.float64)])\n",
    "#print(data_current[0, 0])"
   ]
  },
  {
   "cell_type": "markdown",
   "metadata": {},
   "source": [
    "## Численные вычисления матриц"
   ]
  },
  {
   "cell_type": "code",
   "execution_count": 188,
   "metadata": {},
   "outputs": [],
   "source": [
    "import scipy.linalg as sci"
   ]
  },
  {
   "cell_type": "code",
   "execution_count": 189,
   "metadata": {
    "collapsed": true,
    "jupyter": {
     "outputs_hidden": true,
     "source_hidden": true
    }
   },
   "outputs": [
    {
     "name": "stdout",
     "output_type": "stream",
     "text": [
      "[[ 0.00000000e+00  0.00000000e+00  0.00000000e+00  0.00000000e+00\n",
      "   0.00000000e+00]\n",
      " [ 0.00000000e+00 -2.57135341e-06  0.00000000e+00  0.00000000e+00\n",
      "   0.00000000e+00]\n",
      " [ 0.00000000e+00  0.00000000e+00 -1.50211683e-06  0.00000000e+00\n",
      "   0.00000000e+00]\n",
      " [ 0.00000000e+00  0.00000000e+00  0.00000000e+00  2.57135341e-06\n",
      "   0.00000000e+00]\n",
      " [ 0.00000000e+00  0.00000000e+00  0.00000000e+00  0.00000000e+00\n",
      "   1.50211683e-06]] \n",
      " [[ 0.00000000e+00  8.48262084e-01 -2.97955768e-01 -8.48262084e-01\n",
      "   2.97955768e-01]\n",
      " [ 0.00000000e+00  5.29544553e-01  9.54573431e-01 -5.29544553e-01\n",
      "  -9.54573431e-01]\n",
      " [ 0.00000000e+00  4.79859953e-03 -9.84641621e-04  4.79859953e-03\n",
      "  -9.84641621e-04]\n",
      " [ 1.00000000e+00  1.41534689e-03  1.00241437e-03  1.41534689e-03\n",
      "   1.00241437e-03]\n",
      " [ 0.00000000e+00  2.99562162e-03  3.15453780e-03  2.99562162e-03\n",
      "   3.15453780e-03]] \n",
      " [[-1.06407616e-18  1.03793521e-18 -8.08267223e-02  1.00000000e+00\n",
      "  -3.42997863e-01]\n",
      " [ 4.93314860e-01  1.53980829e-01  8.72046706e+01  0.00000000e+00\n",
      "   2.72196289e+01]\n",
      " [-2.73663805e-01  4.38374123e-01 -8.28115603e+01  0.00000000e+00\n",
      "   1.32653440e+02]\n",
      " [-4.93314860e-01 -1.53980829e-01  8.72046706e+01  0.00000000e+00\n",
      "   2.72196289e+01]\n",
      " [ 2.73663805e-01 -4.38374123e-01 -8.28115603e+01  0.00000000e+00\n",
      "   1.32653440e+02]]\n",
      "[[ 0.00000000e+00  0.00000000e+00 -4.54545455e-04  0.00000000e+00\n",
      "   0.00000000e+00]\n",
      " [ 0.00000000e+00  0.00000000e+00  0.00000000e+00  0.00000000e+00\n",
      "  -4.54545455e-04]\n",
      " [-1.29834439e-08 -2.50315498e-09  0.00000000e+00  0.00000000e+00\n",
      "   0.00000000e+00]\n",
      " [-2.76656284e-09 -2.44094040e-09  0.00000000e+00  0.00000000e+00\n",
      "   0.00000000e+00]\n",
      " [-5.00630997e-09 -6.52662545e-09  0.00000000e+00  0.00000000e+00\n",
      "   0.00000000e+00]] \n",
      " [[ 1.18639236e-21  1.64254834e-22 -4.54545455e-04  0.00000000e+00\n",
      "  -3.83846555e-20]\n",
      " [-5.10381297e-21 -1.19788719e-21 -2.02441027e-19  0.00000000e+00\n",
      "  -4.54545455e-04]\n",
      " [-1.29834439e-08 -2.50315498e-09  1.10287658e-21  0.00000000e+00\n",
      "  -1.77496155e-22]\n",
      " [-2.76656284e-09 -2.44094040e-09  7.45534555e-23  0.00000000e+00\n",
      "   1.23655405e-22]\n",
      " [-5.00630997e-09 -6.52662545e-09  1.21833253e-21  0.00000000e+00\n",
      "  -1.12665228e-21]]\n",
      "[[ 0.00000000e+00  8.48262084e-01 -2.97955768e-01 -8.48262084e-01\n",
      "   2.97955768e-01]\n",
      " [-0.00000000e+00  5.29544553e-01  9.54573431e-01 -5.29544553e-01\n",
      "  -9.54573431e-01]\n",
      " [ 0.00000000e+00  4.79859953e-03 -9.84641621e-04  4.79859953e-03\n",
      "  -9.84641621e-04]\n",
      " [ 1.00000000e+00  1.41534689e-03  1.00241437e-03  1.41534689e-03\n",
      "   1.00241437e-03]\n",
      " [ 0.00000000e+00  2.99562162e-03  3.15453780e-03  2.99562162e-03\n",
      "   3.15453780e-03]] \n",
      "\n",
      "[[ 0.00000000e+00  0.00000000e+00  0.00000000e+00  0.00000000e+00\n",
      "   0.00000000e+00]\n",
      " [ 0.00000000e+00  6.00661716e-06  0.00000000e+00  0.00000000e+00\n",
      "   0.00000000e+00]\n",
      " [ 0.00000000e+00  0.00000000e+00 -6.00661716e-06  0.00000000e+00\n",
      "   0.00000000e+00]\n",
      " [ 0.00000000e+00  0.00000000e+00  0.00000000e+00 -1.70067462e-06\n",
      "   0.00000000e+00]\n",
      " [ 0.00000000e+00  0.00000000e+00  0.00000000e+00  0.00000000e+00\n",
      "   1.70067462e-06]] \n",
      " [[ 0.00000000e+00  6.68586466e-02  6.68586466e-02 -9.99431107e-01\n",
      "  -9.99431107e-01]\n",
      " [ 0.00000000e+00  9.97674842e-01  9.97674842e-01  3.34881709e-02\n",
      "   3.34881709e-02]\n",
      " [ 1.00000000e+00 -4.87377107e-04  4.87377107e-04 -1.41654600e-03\n",
      "   1.41654600e-03]\n",
      " [ 0.00000000e+00 -1.31838318e-02  1.31838318e-02  1.25295461e-04\n",
      "  -1.25295461e-04]\n",
      " [ 0.00000000e+00 -8.83507447e-04  8.83507447e-04 -3.73935565e-03\n",
      "   3.73935565e-03]] \n",
      " [[ 1.89331521e-19 -2.09368156e-19  1.00000000e+00 -1.15553624e-02\n",
      "  -3.79208069e-01]\n",
      " [ 1.67550391e-02  5.00042459e-01  0.00000000e+00 -3.78402719e+01\n",
      "  -1.26792281e+00]\n",
      " [ 1.67550391e-02  5.00042459e-01  0.00000000e+00  3.78402719e+01\n",
      "   1.26792281e+00]\n",
      " [-4.99163752e-01  3.34511922e-02 -0.00000000e+00  8.94062110e+00\n",
      "  -1.33413301e+02]\n",
      " [-4.99163752e-01  3.34511922e-02  0.00000000e+00 -8.94062110e+00\n",
      "   1.33413301e+02]]\n",
      "[[ 0.00000000e+00  0.00000000e+00  0.00000000e+00  0.00000000e+00\n",
      "  -4.54545455e-04]\n",
      " [ 0.00000000e+00  0.00000000e+00  0.00000000e+00 -4.54545455e-04\n",
      "   0.00000000e+00]\n",
      " [-2.50315498e-09 -2.76656284e-09  0.00000000e+00  0.00000000e+00\n",
      "   0.00000000e+00]\n",
      " [-2.44094040e-09 -7.92112110e-08  0.00000000e+00  0.00000000e+00\n",
      "   0.00000000e+00]\n",
      " [-6.52662545e-09 -4.88188079e-09  0.00000000e+00  0.00000000e+00\n",
      "   0.00000000e+00]] \n",
      " [[ 2.01951979e-22  1.06600401e-22  0.00000000e+00  1.37250527e-20\n",
      "  -4.54545455e-04]\n",
      " [ 1.68942108e-22  3.26643488e-21  0.00000000e+00 -4.54545455e-04\n",
      "   9.85991415e-21]\n",
      " [-2.50315498e-09 -2.76656284e-09  0.00000000e+00  2.00414925e-24\n",
      "  -4.36640391e-24]\n",
      " [-2.44094040e-09 -7.92112110e-08  0.00000000e+00  1.97534654e-21\n",
      "  -1.36131933e-23]\n",
      " [-6.52662545e-09 -4.88188079e-09  0.00000000e+00  1.74368793e-22\n",
      "  -2.10000926e-22]]\n",
      "[[-0.00000000e+00  6.68586466e-02  6.68586466e-02 -9.99431107e-01\n",
      "  -9.99431107e-01]\n",
      " [ 0.00000000e+00  9.97674842e-01  9.97674842e-01  3.34881709e-02\n",
      "   3.34881709e-02]\n",
      " [ 1.00000000e+00 -4.87377107e-04  4.87377107e-04 -1.41654600e-03\n",
      "   1.41654600e-03]\n",
      " [ 0.00000000e+00 -1.31838318e-02  1.31838318e-02  1.25295461e-04\n",
      "  -1.25295461e-04]\n",
      " [-0.00000000e+00 -8.83507447e-04  8.83507447e-04 -3.73935565e-03\n",
      "   3.73935565e-03]]\n"
     ]
    }
   ],
   "source": [
    "Ax = np.array([[0,         0,         -1/rho, 0, 0     ],\n",
    "               [0,         0,         0,      0, -1/rho],\n",
    "               [-C[0][0], -C[0][2]/2, 0,      0, 0     ],\n",
    "               [-C[0][1], -C[1][2]/2, 0,      0, 0     ],\n",
    "               [-C[0][2], -C[2][2]/2, 0,      0, 0     ]])\n",
    "\n",
    "Ay = np.array([[0,           0,       0, 0,      -1/rho],\n",
    "               [0,           0,       0, -1/rho, 0     ],\n",
    "               [-C[0][2]/2, -C[0][1], 0, 0,      0     ],\n",
    "               [-C[1][2]/2, -C[1][1], 0, 0,      0     ],\n",
    "               [-C[2][2]/2, -C[1][2], 0, 0,      0,    ]])\n",
    "eigo_x = sci.eig(Ax) #Функция считает СВ и СЗ и сохраняет их в кортеж. Векторы в столбцы.\n",
    "eigo_y = sci.eig(Ay)\n",
    "Omegax_inv = eigo_x[1]\n",
    "Omegay_inv = eigo_y[1]\n",
    "Lamx = np.diag(eigo_x[0])\n",
    "Lamx = Lamx.real #Берём действительную часть, мы же знаем, что у матрицы СЗ действительные\n",
    "Lamy = np.diag(eigo_y[0])\n",
    "Lamy = Lamy.real\n",
    "Omegax = np.linalg.inv(Omegax_inv)\n",
    "Omegay = np.linalg.inv(Omegay_inv)\n",
    "print(Lamx, '\\n', Omegax_inv, '\\n', Omegax)\n",
    "print(Ax, '\\n', Omegax_inv @ Lamx @ Omegax)\n",
    "print(np.linalg.inv(Omegax), '\\n')\n",
    "print(Lamy, '\\n', Omegay_inv, '\\n', Omegay)\n",
    "print(Ay, '\\n', Omegay_inv @ Lamy @ Omegay)\n",
    "print(np.linalg.inv(Omegay))"
   ]
  },
  {
   "cell_type": "markdown",
   "metadata": {},
   "source": [
    "Оставлю, как историческое назидание невежству, что перемножение матриц в numpy производится с помощью \"@\", а то, что производится звёздочкой - поэлементное умножение"
   ]
  },
  {
   "cell_type": "markdown",
   "metadata": {},
   "source": [
    "## Расчёт"
   ]
  },
  {
   "cell_type": "code",
   "execution_count": 198,
   "metadata": {},
   "outputs": [],
   "source": [
    "c1x, c2x = Lamx[3][3], Lamx[4][4]\n",
    "c1y, c2y = Lamy[1][1], Lamy[4][4]\n",
    "T = 1.0 * L / max(c1x, c2x, c1y, c2y) # 1 полный оборот начального возмущения\n",
    "dt = 0.4 * h / max(c1x, c2x, c1y, c2y) # коэффициент должен быть меньше единицы\n",
    "\n",
    "for k in range(int(T / dt)): # w1 for 0, w2, w3 for c-, w4, w5 for c+\n",
    "    # Шаг по X\n",
    "    for j in range(M):\n",
    "        for i in range(M):\n",
    "            if i == 0:       # Граница слева\n",
    "                (w1 , w2 , w3 , w4 , w5 ) = Omega(list(data_current[j, i]), Omegax)\n",
    "                (w1n, w2n, w3n, w4n, w5n) = Omega(list(data_current[j, i + 1]), Omegax)\n",
    "                (w1p, w2p, w3p, w4p, w5p) = (0, 0, 0, 0, 0)\n",
    "                w1_new = w1 # Характеристика не меняется, это видно в уравнениях\n",
    "                w2_new = w2 + c2x * dt / h * (w2n - w2)\n",
    "                w3_new = w3 + c1x * dt / h * (w3n - w3)\n",
    "                w4_new = w4 - c2x * dt / h * (w4 - w4p)\n",
    "                w5_new = w5 - c1x * dt / h * (w5 - w5p)\n",
    "                qeq = Omega_inv((w1_new, w2_new, w3_new, w4_new, w5_new), Omegax_inv)\n",
    "                #print(qeq)\n",
    "                #print(list(qeq))\n",
    "                #print(data_next[j, i])\n",
    "                data_next[j, i] = Omega_inv((w1_new, w2_new, w3_new, w4_new, w5_new), Omegax_inv)\n",
    "            elif i == M - 1: # Граница справа\n",
    "                (w1 , w2 , w3 , w4 , w5 ) = Omega(list(data_current[j, i]), Omegax)\n",
    "                (w1n, w2n, w3n, w4n, w5n) = (0, 0, 0, 0, 0)\n",
    "                (w1p, w2p, w3p, w4p, w5p) = Omega(list(data_current[j, i - 1]), Omegax)\n",
    "                w1_new = w1 # Характеристика не меняется, это видно в уравнениях\n",
    "                w2_new = w2 + c2x * dt / h * (w2n - w2)\n",
    "                w3_new = w3 + c1x * dt / h * (w3n - w3)\n",
    "                w4_new = w4 - c2x * dt / h * (w4 - w4p)\n",
    "                w5_new = w5 - c1x * dt / h * (w5 - w5p)\n",
    "                data_next[j, i] = Omega_inv((w1_new, w2_new, w3_new, w4_new, w5_new), Omegax_inv)            \n",
    "            else:            # Не граница\n",
    "                (w1 , w2 , w3 , w4 , w5 ) = Omega(list(data_current[j, i]), Omegax)\n",
    "                (w1n, w2n, w3n, w4n, w5n) = Omega(list(data_current[j, i + 1]), Omegax)\n",
    "                (w1p, w2p, w3p, w4p, w5p) = Omega(list(data_current[j, i - 1]), Omegax)\n",
    "                w1_new = w1 # Характеристика не меняется, это видно в уравнениях\n",
    "                w2_new = w2 + c2x * dt / h * (w2n - w2)\n",
    "                w3_new = w3 + c1x * dt / h * (w3n - w3)\n",
    "                w4_new = w4 - c2x * dt / h * (w4 - w4p)\n",
    "                w5_new = w5 - c1x * dt / h * (w5 - w5p)\n",
    "                data_next[j, i] = Omega_inv((w1_new, w2_new, w3_new, w4_new, w5_new), Omegax_inv)\n",
    "    # Шаг по Y\n",
    "    for i in range(M):\n",
    "        for j in range(M):\n",
    "            if j == 0:       # Граница слева\n",
    "                (w1 , w2 , w3 , w4 , w5 ) = Omega(list(data_next[j, i]), Omegay)\n",
    "                (w1n, w2n, w3n, w4n, w5n) = Omega(list(data_next[j + 1, i]), Omegay)\n",
    "                (w1p, w2p, w3p, w4p, w5p) = (0, 0, 0, 0, 0)\n",
    "                w1_new = w1 # Характеристика не меняется, это видно в уравнениях\n",
    "                w2_new = w2 - c1y * dt / h * (w2 - w2p)\n",
    "                w3_new = w3 + c1y * dt / h * (w3n - w3)\n",
    "                w4_new = w4 + c2y * dt / h * (w4n - w4)\n",
    "                w5_new = w5 - c2y * dt / h * (w5 - w5p)\n",
    "                data_current[j, i] = Omega_inv((w1_new, w2_new, w3_new, w4_new, w5_new), Omegay_inv)\n",
    "            elif j == M - 1: # Граница справа\n",
    "                (w1 , w2 , w3 , w4 , w5 ) = Omega(list(data_next[j, i]), Omegay)\n",
    "                (w1n, w2n, w3n, w4n, w5n) = (0, 0, 0, 0, 0)\n",
    "                (w1p, w2p, w3p, w4p, w5p) = Omega(list(data_next[j - 1, i]), Omegay)\n",
    "                w1_new = w1 # Характеристика не меняется, это видно в уравнениях\n",
    "                w2_new = w2 - c1y * dt / h * (w2 - w2p)\n",
    "                w3_new = w3 + c1y * dt / h * (w3n - w3)\n",
    "                w4_new = w4 + c2y * dt / h * (w4n - w4)\n",
    "                w5_new = w5 - c2y * dt / h * (w5 - w5p)\n",
    "                data_current[j, i] = Omega_inv((w1_new, w2_new, w3_new, w4_new, w5_new), Omegay_inv)\n",
    "            else:            # Не граница\n",
    "                (w1 , w2 , w3 , w4 , w5 ) = Omega(list(data_next[j, i]), Omegay)\n",
    "                (w1n, w2n, w3n, w4n, w5n) = Omega(list(data_next[j + 1, i]), Omegay)\n",
    "                (w1p, w2p, w3p, w4p, w5p) = Omega(list(data_next[j - 1, i]), Omegay)\n",
    "                w1_new = w1 # Характеристика не меняется, это видно в уравнениях\n",
    "                w2_new = w2 - c1y * dt / h * (w2 - w2p)\n",
    "                w3_new = w3 + c1y * dt / h * (w3n - w3)\n",
    "                w4_new = w4 + c2y * dt / h * (w4n - w4)\n",
    "                w5_new = w5 - c2y * dt / h * (w5 - w5p)\n",
    "                data_current[j, i] = Omega_inv((w1_new, w2_new, w3_new, w4_new, w5_new), Omegay_inv)\n",
    "    data_current[M // 2, M // 2]['sxx'] += source(k)\n",
    "    data_current[M // 2, M // 2]['syy'] += source(k)\n",
    "    data_current[M // 2, M // 2]['sxy'] += source(k)        "
   ]
  },
  {
   "cell_type": "markdown",
   "metadata": {},
   "source": [
    "## Визуальное отображение"
   ]
  },
  {
   "cell_type": "code",
   "execution_count": 199,
   "metadata": {},
   "outputs": [
    {
     "data": {
      "text/plain": [
       "<matplotlib.colorbar.Colorbar at 0x1d4c96e8370>"
      ]
     },
     "execution_count": 199,
     "metadata": {},
     "output_type": "execute_result"
    },
    {
     "data": {
      "image/png": "[encoded data removed]",
      "text/plain": [
       "<Figure size 432x288 with 2 Axes>"
      ]
     },
     "metadata": {
      "needs_background": "light"
     },
     "output_type": "display_data"
    },
    {
     "data": {
      "image/png": "[encoded data removed]",
      "text/plain": [
       "<Figure size 432x288 with 2 Axes>"
      ]
     },
     "metadata": {
      "needs_background": "light"
     },
     "output_type": "display_data"
    },
    {
     "data": {
      "image/png": "[encoded data removed]",
      "text/plain": [
       "<Figure size 432x288 with 2 Axes>"
      ]
     },
     "metadata": {
      "needs_background": "light"
     },
     "output_type": "display_data"
    },
    {
     "data": {
      "image/png": "[encoded data removed]",
      "text/plain": [
       "<Figure size 432x288 with 2 Axes>"
      ]
     },
     "metadata": {
      "needs_background": "light"
     },
     "output_type": "display_data"
    }
   ],
   "source": [
    "fig1, ax1 = plt.subplots()\n",
    "ax1.set_title('Распределение напряжений через t = ' + str(T / (L / max(c1x, c2x, c1y, c2y))) + ' T')\n",
    "img1 = ax1.imshow(np.sqrt(data_current['sxx'] ** 2 + data_current['syy'] ** 2 + 4 * data_current['sxy'] ** 2), origin = 'lower')\n",
    "plt.colorbar(img1)\n",
    "fig2, ax2 = plt.subplots()\n",
    "ax2.set_title('Логарифм распределения напряжений через t = ' + str(T / (L / max(c1x, c2x, c1y, c2y))) + ' T')\n",
    "#_ = ax2.set_xlabel('Горизонталь OX, м')\n",
    "#_ = ax2.set_ylabel('Вертикаль OY, м')\n",
    "img2 = ax2.imshow(np.log(np.sqrt(data_current['sxx'] ** 2 + data_current['syy'] ** 2 + 4 * data_current['sxy'] ** 2) + 1), origin = 'lower')\n",
    "plt.colorbar(img2)\n",
    "\n",
    "fig3, ax3 = plt.subplots()\n",
    "ax3.set_title('Распределение скоростей через t = ' + str(T / (L / max(c1x, c2x, c1y, c2y))) + ' T')\n",
    "img3 = ax3.imshow(np.sqrt(data_current['vx'] ** 2 + data_current['vy'] ** 2), origin = 'lower')\n",
    "plt.colorbar(img3)\n",
    "fig4, ax4 = plt.subplots()\n",
    "ax4.set_title('Логарифм распределения скоростей через t = ' + str(T / (L / max(c1x, c2x, c1y, c2y))) + ' T')\n",
    "#_ = ax2.set_xlabel('Горизонталь OX, м')\n",
    "#_ = ax2.set_ylabel('Вертикаль OY, м')\n",
    "img4 = ax4.imshow(np.log(np.sqrt(data_current['vx'] ** 2 + data_current['vy'] ** 2) + 1), origin = 'lower')\n",
    "plt.colorbar(img4)\n"
   ]
  },
  {
   "cell_type": "code",
   "execution_count": null,
   "metadata": {},
   "outputs": [],
   "source": []
  }
 ],
 "metadata": {
  "kernelspec": {
   "display_name": "Python 3",
   "language": "python",
   "name": "python3"
  },
  "language_info": {
   "codemirror_mode": {
    "name": "ipython",
    "version": 3
   },
   "file_extension": ".py",
   "mimetype": "text/x-python",
   "name": "python",
   "nbconvert_exporter": "python",
   "pygments_lexer": "ipython3",
   "version": "3.8.5"
  }
 },
 "nbformat": 4,
 "nbformat_minor": 4
}
