{
 "cells": [
  {
   "cell_type": "code",
   "execution_count": 1,
   "id": "fba7a465-9a35-429e-801d-74a8bfff12b6",
   "metadata": {},
   "outputs": [],
   "source": [
    "import numpy as np\n",
    "import pandas as pd\n",
    "import matplotlib.pyplot as plt\n",
    "\n",
    "from sklearn.metrics import mean_squared_error, accuracy_score\n",
    "from sklearn.model_selection import train_test_split\n",
    "\n",
    "import torch\n",
    "from torch import nn\n",
    "from torch.nn import functional as F"
   ]
  },
  {
   "cell_type": "code",
   "execution_count": 2,
   "id": "0fea9bb6-1bc7-46a5-9ea8-f206466f3fab",
   "metadata": {},
   "outputs": [],
   "source": [
    "# Максимальное количество отображаемых столбцов\n",
    "pd.set_option('display.max_columns', 13)\n",
    "# Максимальное количество отображаемых строк\n",
    "pd.set_option('display.max_rows', 10)\n",
    "# Максимальная ширина столбца\n",
    "pd.set_option('display.max_colwidth', 45)\n",
    "# Максимальная ширина отображения\n",
    "pd.set_option('display.width', 80)"
   ]
  },
  {
   "cell_type": "markdown",
   "id": "1ec61936-1e5e-4720-811a-7d5b1adff520",
   "metadata": {},
   "source": [
    "## Предобработка данных из датасета"
   ]
  },
  {
   "cell_type": "code",
   "execution_count": 3,
   "id": "7850d3b4-06eb-4784-bde5-edf953938524",
   "metadata": {},
   "outputs": [
    {
     "data": {
      "text/html": [
       "<div>\n",
       "<style scoped>\n",
       "    .dataframe tbody tr th:only-of-type {\n",
       "        vertical-align: middle;\n",
       "    }\n",
       "\n",
       "    .dataframe tbody tr th {\n",
       "        vertical-align: top;\n",
       "    }\n",
       "\n",
       "    .dataframe thead th {\n",
       "        text-align: right;\n",
       "    }\n",
       "</style>\n",
       "<table border=\"1\" class=\"dataframe\">\n",
       "  <thead>\n",
       "    <tr style=\"text-align: right;\">\n",
       "      <th></th>\n",
       "      <th>popularity</th>\n",
       "      <th>duration_ms</th>\n",
       "      <th>explicit</th>\n",
       "      <th>danceability</th>\n",
       "      <th>energy</th>\n",
       "      <th>key</th>\n",
       "      <th>...</th>\n",
       "      <th>instrumentalness</th>\n",
       "      <th>liveness</th>\n",
       "      <th>valence</th>\n",
       "      <th>tempo</th>\n",
       "      <th>time_signature</th>\n",
       "      <th>track_genre</th>\n",
       "    </tr>\n",
       "  </thead>\n",
       "  <tbody>\n",
       "    <tr>\n",
       "      <th>1233</th>\n",
       "      <td>-1.348206</td>\n",
       "      <td>-0.362849</td>\n",
       "      <td>-0.278098</td>\n",
       "      <td>0.385466</td>\n",
       "      <td>-1.004434</td>\n",
       "      <td>-1.512838</td>\n",
       "      <td>...</td>\n",
       "      <td>7.789777</td>\n",
       "      <td>-0.374744</td>\n",
       "      <td>-0.774437</td>\n",
       "      <td>-0.316892</td>\n",
       "      <td>0.216636</td>\n",
       "      <td>-0.707036</td>\n",
       "    </tr>\n",
       "    <tr>\n",
       "      <th>1056</th>\n",
       "      <td>1.228249</td>\n",
       "      <td>-0.679809</td>\n",
       "      <td>-0.278098</td>\n",
       "      <td>0.906171</td>\n",
       "      <td>0.672831</td>\n",
       "      <td>0.463621</td>\n",
       "      <td>...</td>\n",
       "      <td>-0.217156</td>\n",
       "      <td>2.173298</td>\n",
       "      <td>-1.167189</td>\n",
       "      <td>-0.807731</td>\n",
       "      <td>0.216636</td>\n",
       "      <td>-0.707036</td>\n",
       "    </tr>\n",
       "    <tr>\n",
       "      <th>1686</th>\n",
       "      <td>0.910604</td>\n",
       "      <td>-0.530295</td>\n",
       "      <td>-0.278098</td>\n",
       "      <td>-0.169953</td>\n",
       "      <td>-0.026029</td>\n",
       "      <td>-0.948136</td>\n",
       "      <td>...</td>\n",
       "      <td>-0.227910</td>\n",
       "      <td>-0.499474</td>\n",
       "      <td>-0.589093</td>\n",
       "      <td>0.893621</td>\n",
       "      <td>0.216636</td>\n",
       "      <td>-0.707036</td>\n",
       "    </tr>\n",
       "    <tr>\n",
       "      <th>187</th>\n",
       "      <td>-1.348206</td>\n",
       "      <td>-0.198054</td>\n",
       "      <td>-0.278098</td>\n",
       "      <td>0.996427</td>\n",
       "      <td>0.238540</td>\n",
       "      <td>1.310675</td>\n",
       "      <td>...</td>\n",
       "      <td>-0.227267</td>\n",
       "      <td>-0.368805</td>\n",
       "      <td>-0.399337</td>\n",
       "      <td>-0.319413</td>\n",
       "      <td>0.216636</td>\n",
       "      <td>-1.414072</td>\n",
       "    </tr>\n",
       "    <tr>\n",
       "      <th>3840</th>\n",
       "      <td>-0.112919</td>\n",
       "      <td>-0.944179</td>\n",
       "      <td>-0.278098</td>\n",
       "      <td>-0.412948</td>\n",
       "      <td>1.276846</td>\n",
       "      <td>-1.230487</td>\n",
       "      <td>...</td>\n",
       "      <td>-0.227910</td>\n",
       "      <td>3.509684</td>\n",
       "      <td>-0.456705</td>\n",
       "      <td>-0.985063</td>\n",
       "      <td>0.216636</td>\n",
       "      <td>0.707036</td>\n",
       "    </tr>\n",
       "    <tr>\n",
       "      <th>...</th>\n",
       "      <td>...</td>\n",
       "      <td>...</td>\n",
       "      <td>...</td>\n",
       "      <td>...</td>\n",
       "      <td>...</td>\n",
       "      <td>...</td>\n",
       "      <td>...</td>\n",
       "      <td>...</td>\n",
       "      <td>...</td>\n",
       "      <td>...</td>\n",
       "      <td>...</td>\n",
       "      <td>...</td>\n",
       "      <td>...</td>\n",
       "    </tr>\n",
       "    <tr>\n",
       "      <th>2895</th>\n",
       "      <td>0.945898</td>\n",
       "      <td>-0.997070</td>\n",
       "      <td>-0.278098</td>\n",
       "      <td>-0.780913</td>\n",
       "      <td>-1.523587</td>\n",
       "      <td>0.463621</td>\n",
       "      <td>...</td>\n",
       "      <td>-0.227910</td>\n",
       "      <td>-0.588566</td>\n",
       "      <td>0.041958</td>\n",
       "      <td>1.211810</td>\n",
       "      <td>0.216636</td>\n",
       "      <td>0.000000</td>\n",
       "    </tr>\n",
       "    <tr>\n",
       "      <th>2763</th>\n",
       "      <td>0.945898</td>\n",
       "      <td>0.468509</td>\n",
       "      <td>-0.278098</td>\n",
       "      <td>-0.426834</td>\n",
       "      <td>0.577986</td>\n",
       "      <td>1.310675</td>\n",
       "      <td>...</td>\n",
       "      <td>-0.227910</td>\n",
       "      <td>0.605272</td>\n",
       "      <td>-0.880348</td>\n",
       "      <td>-1.399219</td>\n",
       "      <td>0.216636</td>\n",
       "      <td>0.000000</td>\n",
       "    </tr>\n",
       "    <tr>\n",
       "      <th>905</th>\n",
       "      <td>0.134138</td>\n",
       "      <td>0.345097</td>\n",
       "      <td>-0.278098</td>\n",
       "      <td>-1.134992</td>\n",
       "      <td>-0.495264</td>\n",
       "      <td>-0.665784</td>\n",
       "      <td>...</td>\n",
       "      <td>-0.197046</td>\n",
       "      <td>-0.576687</td>\n",
       "      <td>-1.692329</td>\n",
       "      <td>0.566068</td>\n",
       "      <td>0.216636</td>\n",
       "      <td>-1.414072</td>\n",
       "    </tr>\n",
       "    <tr>\n",
       "      <th>3980</th>\n",
       "      <td>-0.112919</td>\n",
       "      <td>0.304737</td>\n",
       "      <td>-0.278098</td>\n",
       "      <td>-0.773970</td>\n",
       "      <td>0.203597</td>\n",
       "      <td>1.593026</td>\n",
       "      <td>...</td>\n",
       "      <td>-0.227910</td>\n",
       "      <td>0.260781</td>\n",
       "      <td>1.233452</td>\n",
       "      <td>0.429762</td>\n",
       "      <td>0.216636</td>\n",
       "      <td>0.707036</td>\n",
       "    </tr>\n",
       "    <tr>\n",
       "      <th>235</th>\n",
       "      <td>-1.348206</td>\n",
       "      <td>-0.909019</td>\n",
       "      <td>-0.278098</td>\n",
       "      <td>0.378523</td>\n",
       "      <td>1.007286</td>\n",
       "      <td>1.310675</td>\n",
       "      <td>...</td>\n",
       "      <td>-0.227596</td>\n",
       "      <td>0.361753</td>\n",
       "      <td>1.811548</td>\n",
       "      <td>0.957665</td>\n",
       "      <td>0.216636</td>\n",
       "      <td>-1.414072</td>\n",
       "    </tr>\n",
       "  </tbody>\n",
       "</table>\n",
       "<p>4000 rows × 16 columns</p>\n",
       "</div>"
      ],
      "text/plain": [
       "      popularity  duration_ms  explicit  danceability    energy       key  \\\n",
       "1233   -1.348206    -0.362849 -0.278098      0.385466 -1.004434 -1.512838   \n",
       "1056    1.228249    -0.679809 -0.278098      0.906171  0.672831  0.463621   \n",
       "1686    0.910604    -0.530295 -0.278098     -0.169953 -0.026029 -0.948136   \n",
       "187    -1.348206    -0.198054 -0.278098      0.996427  0.238540  1.310675   \n",
       "3840   -0.112919    -0.944179 -0.278098     -0.412948  1.276846 -1.230487   \n",
       "...          ...          ...       ...           ...       ...       ...   \n",
       "2895    0.945898    -0.997070 -0.278098     -0.780913 -1.523587  0.463621   \n",
       "2763    0.945898     0.468509 -0.278098     -0.426834  0.577986  1.310675   \n",
       "905     0.134138     0.345097 -0.278098     -1.134992 -0.495264 -0.665784   \n",
       "3980   -0.112919     0.304737 -0.278098     -0.773970  0.203597  1.593026   \n",
       "235    -1.348206    -0.909019 -0.278098      0.378523  1.007286  1.310675   \n",
       "\n",
       "      ...  instrumentalness  liveness   valence     tempo  time_signature  \\\n",
       "1233  ...          7.789777 -0.374744 -0.774437 -0.316892        0.216636   \n",
       "1056  ...         -0.217156  2.173298 -1.167189 -0.807731        0.216636   \n",
       "1686  ...         -0.227910 -0.499474 -0.589093  0.893621        0.216636   \n",
       "187   ...         -0.227267 -0.368805 -0.399337 -0.319413        0.216636   \n",
       "3840  ...         -0.227910  3.509684 -0.456705 -0.985063        0.216636   \n",
       "...   ...               ...       ...       ...       ...             ...   \n",
       "2895  ...         -0.227910 -0.588566  0.041958  1.211810        0.216636   \n",
       "2763  ...         -0.227910  0.605272 -0.880348 -1.399219        0.216636   \n",
       "905   ...         -0.197046 -0.576687 -1.692329  0.566068        0.216636   \n",
       "3980  ...         -0.227910  0.260781  1.233452  0.429762        0.216636   \n",
       "235   ...         -0.227596  0.361753  1.811548  0.957665        0.216636   \n",
       "\n",
       "      track_genre  \n",
       "1233    -0.707036  \n",
       "1056    -0.707036  \n",
       "1686    -0.707036  \n",
       "187     -1.414072  \n",
       "3840     0.707036  \n",
       "...           ...  \n",
       "2895     0.000000  \n",
       "2763     0.000000  \n",
       "905     -1.414072  \n",
       "3980     0.707036  \n",
       "235     -1.414072  \n",
       "\n",
       "[4000 rows x 16 columns]"
      ]
     },
     "execution_count": 3,
     "metadata": {},
     "output_type": "execute_result"
    }
   ],
   "source": [
    "df = pd.read_csv('music_prepared.csv')\n",
    "df['explicit'] = df['explicit'].astype(float)\n",
    "df = (df - df.mean()) / df.std()\n",
    "df_train, df_test = train_test_split(df, train_size=0.8, random_state=1)\n",
    "\n",
    "df_train"
   ]
  },
  {
   "cell_type": "code",
   "execution_count": 4,
   "id": "56edec43-c9d5-4ccc-be44-5718e2e11a1b",
   "metadata": {},
   "outputs": [],
   "source": [
    "y_train = torch.tensor(df_train['popularity'].values).float()\n",
    "y_test = torch.tensor(df_test['popularity'].values).float()\n",
    "X_train = torch.tensor(df_train.drop(columns='popularity', inplace=False).values).float()\n",
    "X_test = torch.tensor(df_test.drop(columns='popularity', inplace=False).values).float()"
   ]
  },
  {
   "cell_type": "markdown",
   "id": "1d6a5cc3-4692-4fe9-a328-2e8f64cf9797",
   "metadata": {},
   "source": [
    "## Глубокое обучение\n",
    "### Задание 1\n",
    "Создание начальной нейросети:"
   ]
  },
  {
   "cell_type": "code",
   "execution_count": 5,
   "id": "b6af5e62-ddcd-45e5-8249-51a54ddb6f6a",
   "metadata": {},
   "outputs": [],
   "source": [
    "def create_model(hid_size=50, num_features=15, n_out=1):\n",
    "    torch.manual_seed(1)\n",
    "    model = nn.Sequential(\n",
    "        nn.Linear(num_features, hid_size),\n",
    "        nn.ReLU(),\n",
    "        nn.Linear(hid_size, hid_size // 2),\n",
    "        nn.ReLU(),\n",
    "        nn.Linear(hid_size // 2, n_out), \n",
    "    )\n",
    "    return model"
   ]
  },
  {
   "cell_type": "code",
   "execution_count": 6,
   "id": "93a4eb2b-b5ee-4a67-a927-1513335d2441",
   "metadata": {},
   "outputs": [],
   "source": [
    "model = create_model()"
   ]
  },
  {
   "cell_type": "code",
   "execution_count": 7,
   "id": "cd9010ba-1117-403c-b107-f6b8b92b84e2",
   "metadata": {},
   "outputs": [
    {
     "data": {
      "text/plain": [
       "tensor(0.1330, grad_fn=<SelectBackward0>)"
      ]
     },
     "execution_count": 7,
     "metadata": {},
     "output_type": "execute_result"
    }
   ],
   "source": [
    "model[0].weight[0][0]"
   ]
  },
  {
   "cell_type": "markdown",
   "id": "540e3363-19ae-4296-b240-8140d8e71bdc",
   "metadata": {},
   "source": [
    "### Задание 2\n",
    "Обучение созданной нейросети:"
   ]
  },
  {
   "cell_type": "code",
   "execution_count": 8,
   "id": "b8214ce2-3513-489a-b84a-50ddc3f23ecc",
   "metadata": {},
   "outputs": [],
   "source": [
    "def train_model(model, opt, X_train, y_train, X_test, y_test, n_epoch=100):\n",
    "    loss_fn = F.mse_loss\n",
    "    loss_train, loss_test = [], []\n",
    "\n",
    "\n",
    "    for epoch_num in range(n_epoch):\n",
    "        opt.zero_grad()  # обнуление градиентов\n",
    "        y_predicted = model(X_train.float()).view(-1)  # получение предсказаний\n",
    "        loss = loss_fn(y_predicted, y_train)  # подсчет функции потерь\n",
    "\n",
    "        loss.backward()  # обратный проход\n",
    "        opt.step()  # шаг оптимизации\n",
    "        loss_train.append(np.sqrt(loss.item()))\n",
    "\n",
    "        y_pred = model(X_test).view(-1)  # получение предсказаний на тесте\n",
    "        mse = loss_fn(y_pred, y_test)  # подсчет функции потерь на тесте\n",
    "        loss_test.append(np.sqrt(mse.item()))\n",
    "        \n",
    "    return model, loss_train, loss_test "
   ]
  },
  {
   "cell_type": "code",
   "execution_count": 9,
   "id": "a7d214da-a5dc-4547-a321-6f334eb9e5b4",
   "metadata": {},
   "outputs": [
    {
     "name": "stdout",
     "output_type": "stream",
     "text": [
      "SGD: 1.011600620045289, Adagrad: 0.9305364755474225, Adam: 0.9241168677829904\n"
     ]
    }
   ],
   "source": [
    "lr = 0.01\n",
    "RMSE_model = create_model()\n",
    "RMSE_SGD = train_model(RMSE_model, torch.optim.SGD(RMSE_model.parameters(), lr=lr), X_train, y_train, X_test, y_test, 100)[-1][-1]\n",
    "Adagrad_model = create_model()\n",
    "RMSE_Adagrad = train_model(Adagrad_model, torch.optim.Adagrad(Adagrad_model.parameters(), lr=lr), X_train, y_train, X_test, y_test, 100)[-1][-1]\n",
    "Adam_model = create_model()\n",
    "RMSE_Adam = train_model(Adam_model, torch.optim.Adam(Adam_model.parameters(), lr=lr), X_train, y_train, X_test, y_test, 100)[-1][-1]\n",
    "print(f'SGD: {RMSE_SGD}, Adagrad: {RMSE_Adagrad}, Adam: {RMSE_Adam}')"
   ]
  },
  {
   "cell_type": "markdown",
   "id": "9d878ced-957f-4e16-b52a-859e8e163145",
   "metadata": {},
   "source": [
    "### Задания 3 и 4\n",
    "Переход к задаче классификации:"
   ]
  },
  {
   "cell_type": "code",
   "execution_count": 10,
   "id": "152b9388-c168-48a5-995b-dc7e69e18575",
   "metadata": {},
   "outputs": [],
   "source": [
    "df = pd.read_csv('music_prepared.csv')\n",
    "df['explicit'] = df['explicit'].astype(float)\n",
    "df_train, df_test = train_test_split(df, train_size=0.8, random_state=1)\n",
    "y_train = torch.tensor(df_train['popularity'].values).float()\n",
    "y_test = torch.tensor(df_test['popularity'].values).float()\n",
    "\n",
    "y_train_bin = y_train.clone().detach()\n",
    "for i in range(len(y_train_bin)): y_train_bin[i] = 1. if (y_train[i] > 50) else 0.\n",
    "y_test_bin = y_test.clone().detach()\n",
    "for i in range(len(y_test_bin)): y_test_bin[i] = 1. if (y_test[i] > 50) else 0."
   ]
  },
  {
   "cell_type": "code",
   "execution_count": 26,
   "id": "9ca8cfb4-35bd-4db5-bef8-c744b63075b2",
   "metadata": {},
   "outputs": [],
   "source": [
    "def create_model(hid_size=50, num_features=15, n_out=1):\n",
    "    torch.manual_seed(1)\n",
    "    model = nn.Sequential(\n",
    "        nn.Linear(num_features, hid_size),\n",
    "        nn.ReLU(),\n",
    "        nn.Linear(hid_size, hid_size),\n",
    "        nn.ReLU(),\n",
    "        nn.Linear(hid_size, n_out), \n",
    "        nn.Sigmoid()\n",
    "    )\n",
    "    return model"
   ]
  },
  {
   "cell_type": "code",
   "execution_count": 27,
   "id": "b78b7136-1fec-4607-a77d-ce032c6e7471",
   "metadata": {},
   "outputs": [
    {
     "data": {
      "text/plain": [
       "tensor([0.4741], grad_fn=<SigmoidBackward0>)"
      ]
     },
     "execution_count": 27,
     "metadata": {},
     "output_type": "execute_result"
    }
   ],
   "source": [
    "model = create_model()\n",
    "model(X_test[0])"
   ]
  },
  {
   "cell_type": "code",
   "execution_count": 28,
   "id": "342929cd-b9b0-40a3-a131-5c0dfd8a2ffc",
   "metadata": {},
   "outputs": [],
   "source": [
    "def train_model(model, opt, X_train, y_train, X_test, y_test, n_epoch=100, log_period=10):\n",
    "    loss_fn = F.binary_cross_entropy\n",
    "    loss_train, loss_test = [], []\n",
    "    acc_train, acc_test = [], []\n",
    "\n",
    "    for epoch_num in range(n_epoch):\n",
    "        opt.zero_grad()  # обнуление градиентов\n",
    "        y_predicted = model(X_train).view(-1)  # получение предсказаний\n",
    "        loss = loss_fn(y_predicted, y_train) # подсчет функции потерь\n",
    "\n",
    "        loss.backward()  # обратный проход\n",
    "        opt.step()  # шаг оптимизации\n",
    "\n",
    "        if epoch_num % log_period == 0:\n",
    "            loss_train.append(loss.item())\n",
    "            \n",
    "            acc = accuracy_score(torch.round(y_predicted).detach().numpy(), y_train.detach().numpy())  # подсчет метрики на обучении\n",
    "            acc_train.append(acc)\n",
    "\n",
    "            y_pred = model(X_test).view(-1)  # получение предсказаний на тесте\n",
    "            bce = loss_fn(y_pred, y_test)  # подсчет функции потерь на тесте\n",
    "            loss_test.append(bce.item())\n",
    "\n",
    "            acc = accuracy_score(torch.round(y_pred).detach().numpy(), y_test.detach().numpy())  # подсчет метрики на тесте\n",
    "            acc_test.append(acc)\n",
    "\n",
    "    return model, loss_train, loss_test, acc_train, acc_test "
   ]
  },
  {
   "cell_type": "code",
   "execution_count": 29,
   "id": "0fcce0a8-bece-4935-88b0-cfb1979b3dac",
   "metadata": {},
   "outputs": [],
   "source": [
    "opt = torch.optim.Adam(model.parameters(), lr=0.01)\n",
    "model, loss_train, loss_test, acc_train, acc_test = train_model(model, opt, X_train, y_train_bin, X_test, y_test_bin, n_epoch=200)\n",
    "epochs = [epoch_num for epoch_num in range(200) if epoch_num % 10 == 0]"
   ]
  },
  {
   "cell_type": "code",
   "execution_count": 30,
   "id": "130aba5c-1519-459a-ba38-2f623535f7c0",
   "metadata": {},
   "outputs": [
    {
     "data": {
      "text/plain": [
       "<matplotlib.legend.Legend at 0x240efc989a0>"
      ]
     },
     "execution_count": 30,
     "metadata": {},
     "output_type": "execute_result"
    },
    {
     "data": {
      "image/png": "[encoded data removed]",
      "text/plain": [
       "<Figure size 640x480 with 1 Axes>"
      ]
     },
     "metadata": {},
     "output_type": "display_data"
    }
   ],
   "source": [
    "plt.plot(epochs, acc_train, epochs, acc_test)\n",
    "plt.legend(('train', 'test'))"
   ]
  },
  {
   "cell_type": "markdown",
   "id": "80707691-138e-4fcd-818f-4f39f5b1c9f9",
   "metadata": {},
   "source": [
    "### Задание 5\n",
    "Добавление дополнительных слоёв в нейросеть:"
   ]
  },
  {
   "cell_type": "code",
   "execution_count": 34,
   "id": "dd1e51e6-62e4-4a7c-9c62-d206f5512456",
   "metadata": {},
   "outputs": [],
   "source": [
    "def create_model(hid_size=50, num_features=15, n_out=1):\n",
    "    torch.manual_seed(1)\n",
    "    model = nn.Sequential(\n",
    "        nn.Linear(num_features, hid_size),\n",
    "        nn.BatchNorm1d(num_features=hid_size),\n",
    "        nn.ReLU(),\n",
    "        nn.Dropout(),\n",
    "        nn.Linear(hid_size, hid_size),\n",
    "        nn.BatchNorm1d(num_features=hid_size),\n",
    "        nn.ReLU(),\n",
    "        nn.Dropout(),\n",
    "        nn.Linear(hid_size, n_out), \n",
    "        nn.Sigmoid()\n",
    "    )\n",
    "    return model"
   ]
  },
  {
   "cell_type": "code",
   "execution_count": 35,
   "id": "b385155f-8e28-41bc-95fc-a659a01d3fb5",
   "metadata": {},
   "outputs": [],
   "source": [
    "model = create_model()\n",
    "opt = torch.optim.Adam(model.parameters(), lr=0.01)\n",
    "model, loss_train, loss_test, acc_train, acc_test = train_model(model, opt, X_train, y_train_bin, X_test, y_test_bin, n_epoch=200)\n",
    "epochs = [epoch_num for epoch_num in range(200) if epoch_num % 10 == 0]"
   ]
  },
  {
   "cell_type": "code",
   "execution_count": 36,
   "id": "c7e1d271-cb11-43d9-9c17-fbd1d6f1e8a4",
   "metadata": {},
   "outputs": [
    {
     "data": {
      "text/plain": [
       "<matplotlib.legend.Legend at 0x240f005e640>"
      ]
     },
     "execution_count": 36,
     "metadata": {},
     "output_type": "execute_result"
    },
    {
     "data": {
      "image/png": "[encoded data removed]",
      "text/plain": [
       "<Figure size 640x480 with 1 Axes>"
      ]
     },
     "metadata": {},
     "output_type": "display_data"
    }
   ],
   "source": [
    "plt.plot(epochs, acc_train, epochs, acc_test)\n",
    "plt.legend(('train', 'test'))"
   ]
  },
  {
   "cell_type": "code",
   "execution_count": 37,
   "id": "2bd3c1a4-3f51-47d4-9c25-0e4187c620e0",
   "metadata": {},
   "outputs": [
    {
     "data": {
      "text/plain": [
       "0.020500000000000074"
      ]
     },
     "execution_count": 37,
     "metadata": {},
     "output_type": "execute_result"
    }
   ],
   "source": [
    "acc_train[-1] - acc_test[-1]"
   ]
  },
  {
   "cell_type": "code",
   "execution_count": null,
   "id": "599e4186-c6ac-48da-a878-8575993eb7f9",
   "metadata": {},
   "outputs": [],
   "source": []
  }
 ],
 "metadata": {
  "kernelspec": {
   "display_name": "Python 3 (ipykernel)",
   "language": "python",
   "name": "python3"
  },
  "language_info": {
   "codemirror_mode": {
    "name": "ipython",
    "version": 3
   },
   "file_extension": ".py",
   "mimetype": "text/x-python",
   "name": "python",
   "nbconvert_exporter": "python",
   "pygments_lexer": "ipython3",
   "version": "3.9.13"
  }
 },
 "nbformat": 4,
 "nbformat_minor": 5
}
