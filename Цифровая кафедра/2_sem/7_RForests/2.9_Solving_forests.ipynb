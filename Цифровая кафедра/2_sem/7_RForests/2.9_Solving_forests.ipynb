{
 "cells": [
  {
   "cell_type": "code",
   "execution_count": 1,
   "id": "aa702581-f5a8-47f2-b103-0b909724b3aa",
   "metadata": {},
   "outputs": [],
   "source": [
    "import numpy as np\n",
    "import pandas as pd\n",
    "import matplotlib.pyplot as plt\n",
    "from sklearn import tree\n",
    "from sklearn.tree import DecisionTreeRegressor\n",
    "from sklearn.tree import DecisionTreeClassifier\n",
    "from sklearn.ensemble import RandomForestRegressor\n",
    "from sklearn.ensemble import RandomForestClassifier"
   ]
  },
  {
   "cell_type": "markdown",
   "id": "42dfe6be-42cc-4aea-be8e-0d43edc1afa3",
   "metadata": {},
   "source": [
    "## Датасет музыкальных композиций"
   ]
  },
  {
   "cell_type": "code",
   "execution_count": 2,
   "id": "d3346e62-b9bd-4396-8e3c-da090926c2f3",
   "metadata": {},
   "outputs": [],
   "source": [
    "from sklearn.model_selection import train_test_split\n",
    "from sklearn.preprocessing import OrdinalEncoder\n",
    "from sklearn.metrics import mean_squared_error, accuracy_score\n",
    "\n",
    "# Максимальное количество отображаемых столбцов\n",
    "pd.set_option('display.max_columns', 13)\n",
    "# Максимальное количество отображаемых строк\n",
    "pd.set_option('display.max_rows', 10)\n",
    "# Максимальная ширина столбца\n",
    "pd.set_option('display.max_colwidth', 45)\n",
    "# Максимальная ширина отображения\n",
    "pd.set_option('display.width', 80)"
   ]
  },
  {
   "cell_type": "code",
   "execution_count": 3,
   "id": "86b3b508-ec5b-437d-8b88-ef47e9280780",
   "metadata": {},
   "outputs": [
    {
     "data": {
      "text/html": [
       "<div>\n",
       "<style scoped>\n",
       "    .dataframe tbody tr th:only-of-type {\n",
       "        vertical-align: middle;\n",
       "    }\n",
       "\n",
       "    .dataframe tbody tr th {\n",
       "        vertical-align: top;\n",
       "    }\n",
       "\n",
       "    .dataframe thead th {\n",
       "        text-align: right;\n",
       "    }\n",
       "</style>\n",
       "<table border=\"1\" class=\"dataframe\">\n",
       "  <thead>\n",
       "    <tr style=\"text-align: right;\">\n",
       "      <th></th>\n",
       "      <th>duration_ms</th>\n",
       "      <th>explicit</th>\n",
       "      <th>danceability</th>\n",
       "      <th>energy</th>\n",
       "      <th>key</th>\n",
       "      <th>loudness</th>\n",
       "      <th>...</th>\n",
       "      <th>instrumentalness</th>\n",
       "      <th>liveness</th>\n",
       "      <th>valence</th>\n",
       "      <th>tempo</th>\n",
       "      <th>time_signature</th>\n",
       "      <th>track_genre</th>\n",
       "    </tr>\n",
       "  </thead>\n",
       "  <tbody>\n",
       "    <tr>\n",
       "      <th>1233</th>\n",
       "      <td>195456</td>\n",
       "      <td>False</td>\n",
       "      <td>0.648</td>\n",
       "      <td>0.473</td>\n",
       "      <td>0</td>\n",
       "      <td>-14.604</td>\n",
       "      <td>...</td>\n",
       "      <td>0.917000</td>\n",
       "      <td>0.136</td>\n",
       "      <td>0.363</td>\n",
       "      <td>112.998</td>\n",
       "      <td>4</td>\n",
       "      <td>electro</td>\n",
       "    </tr>\n",
       "    <tr>\n",
       "      <th>1056</th>\n",
       "      <td>176561</td>\n",
       "      <td>False</td>\n",
       "      <td>0.723</td>\n",
       "      <td>0.809</td>\n",
       "      <td>7</td>\n",
       "      <td>-3.081</td>\n",
       "      <td>...</td>\n",
       "      <td>0.001230</td>\n",
       "      <td>0.565</td>\n",
       "      <td>0.274</td>\n",
       "      <td>98.007</td>\n",
       "      <td>4</td>\n",
       "      <td>electro</td>\n",
       "    </tr>\n",
       "    <tr>\n",
       "      <th>1686</th>\n",
       "      <td>185474</td>\n",
       "      <td>False</td>\n",
       "      <td>0.568</td>\n",
       "      <td>0.669</td>\n",
       "      <td>2</td>\n",
       "      <td>-5.698</td>\n",
       "      <td>...</td>\n",
       "      <td>0.000000</td>\n",
       "      <td>0.115</td>\n",
       "      <td>0.405</td>\n",
       "      <td>149.969</td>\n",
       "      <td>4</td>\n",
       "      <td>electro</td>\n",
       "    </tr>\n",
       "    <tr>\n",
       "      <th>187</th>\n",
       "      <td>205280</td>\n",
       "      <td>False</td>\n",
       "      <td>0.736</td>\n",
       "      <td>0.722</td>\n",
       "      <td>10</td>\n",
       "      <td>-5.908</td>\n",
       "      <td>...</td>\n",
       "      <td>0.000074</td>\n",
       "      <td>0.137</td>\n",
       "      <td>0.448</td>\n",
       "      <td>112.921</td>\n",
       "      <td>4</td>\n",
       "      <td>blues</td>\n",
       "    </tr>\n",
       "    <tr>\n",
       "      <th>3840</th>\n",
       "      <td>160801</td>\n",
       "      <td>False</td>\n",
       "      <td>0.533</td>\n",
       "      <td>0.930</td>\n",
       "      <td>1</td>\n",
       "      <td>-4.208</td>\n",
       "      <td>...</td>\n",
       "      <td>0.000000</td>\n",
       "      <td>0.790</td>\n",
       "      <td>0.435</td>\n",
       "      <td>92.591</td>\n",
       "      <td>4</td>\n",
       "      <td>punk-rock</td>\n",
       "    </tr>\n",
       "    <tr>\n",
       "      <th>...</th>\n",
       "      <td>...</td>\n",
       "      <td>...</td>\n",
       "      <td>...</td>\n",
       "      <td>...</td>\n",
       "      <td>...</td>\n",
       "      <td>...</td>\n",
       "      <td>...</td>\n",
       "      <td>...</td>\n",
       "      <td>...</td>\n",
       "      <td>...</td>\n",
       "      <td>...</td>\n",
       "      <td>...</td>\n",
       "      <td>...</td>\n",
       "    </tr>\n",
       "    <tr>\n",
       "      <th>2895</th>\n",
       "      <td>157648</td>\n",
       "      <td>False</td>\n",
       "      <td>0.480</td>\n",
       "      <td>0.369</td>\n",
       "      <td>7</td>\n",
       "      <td>-8.766</td>\n",
       "      <td>...</td>\n",
       "      <td>0.000000</td>\n",
       "      <td>0.100</td>\n",
       "      <td>0.548</td>\n",
       "      <td>159.687</td>\n",
       "      <td>4</td>\n",
       "      <td>pop</td>\n",
       "    </tr>\n",
       "    <tr>\n",
       "      <th>2763</th>\n",
       "      <td>245016</td>\n",
       "      <td>False</td>\n",
       "      <td>0.531</td>\n",
       "      <td>0.790</td>\n",
       "      <td>10</td>\n",
       "      <td>-7.213</td>\n",
       "      <td>...</td>\n",
       "      <td>0.000000</td>\n",
       "      <td>0.301</td>\n",
       "      <td>0.339</td>\n",
       "      <td>79.942</td>\n",
       "      <td>4</td>\n",
       "      <td>pop</td>\n",
       "    </tr>\n",
       "    <tr>\n",
       "      <th>905</th>\n",
       "      <td>237659</td>\n",
       "      <td>False</td>\n",
       "      <td>0.429</td>\n",
       "      <td>0.575</td>\n",
       "      <td>3</td>\n",
       "      <td>-7.626</td>\n",
       "      <td>...</td>\n",
       "      <td>0.003530</td>\n",
       "      <td>0.102</td>\n",
       "      <td>0.155</td>\n",
       "      <td>139.965</td>\n",
       "      <td>4</td>\n",
       "      <td>blues</td>\n",
       "    </tr>\n",
       "    <tr>\n",
       "      <th>3980</th>\n",
       "      <td>235253</td>\n",
       "      <td>False</td>\n",
       "      <td>0.481</td>\n",
       "      <td>0.715</td>\n",
       "      <td>11</td>\n",
       "      <td>-4.729</td>\n",
       "      <td>...</td>\n",
       "      <td>0.000000</td>\n",
       "      <td>0.243</td>\n",
       "      <td>0.818</td>\n",
       "      <td>135.802</td>\n",
       "      <td>4</td>\n",
       "      <td>punk-rock</td>\n",
       "    </tr>\n",
       "    <tr>\n",
       "      <th>235</th>\n",
       "      <td>162897</td>\n",
       "      <td>False</td>\n",
       "      <td>0.647</td>\n",
       "      <td>0.876</td>\n",
       "      <td>10</td>\n",
       "      <td>-5.662</td>\n",
       "      <td>...</td>\n",
       "      <td>0.000036</td>\n",
       "      <td>0.260</td>\n",
       "      <td>0.949</td>\n",
       "      <td>151.925</td>\n",
       "      <td>4</td>\n",
       "      <td>blues</td>\n",
       "    </tr>\n",
       "  </tbody>\n",
       "</table>\n",
       "<p>4000 rows × 15 columns</p>\n",
       "</div>"
      ],
      "text/plain": [
       "      duration_ms  explicit  danceability  energy  key  loudness  ...  \\\n",
       "1233       195456     False         0.648   0.473    0   -14.604  ...   \n",
       "1056       176561     False         0.723   0.809    7    -3.081  ...   \n",
       "1686       185474     False         0.568   0.669    2    -5.698  ...   \n",
       "187        205280     False         0.736   0.722   10    -5.908  ...   \n",
       "3840       160801     False         0.533   0.930    1    -4.208  ...   \n",
       "...           ...       ...           ...     ...  ...       ...  ...   \n",
       "2895       157648     False         0.480   0.369    7    -8.766  ...   \n",
       "2763       245016     False         0.531   0.790   10    -7.213  ...   \n",
       "905        237659     False         0.429   0.575    3    -7.626  ...   \n",
       "3980       235253     False         0.481   0.715   11    -4.729  ...   \n",
       "235        162897     False         0.647   0.876   10    -5.662  ...   \n",
       "\n",
       "      instrumentalness  liveness  valence    tempo  time_signature  \\\n",
       "1233          0.917000     0.136    0.363  112.998               4   \n",
       "1056          0.001230     0.565    0.274   98.007               4   \n",
       "1686          0.000000     0.115    0.405  149.969               4   \n",
       "187           0.000074     0.137    0.448  112.921               4   \n",
       "3840          0.000000     0.790    0.435   92.591               4   \n",
       "...                ...       ...      ...      ...             ...   \n",
       "2895          0.000000     0.100    0.548  159.687               4   \n",
       "2763          0.000000     0.301    0.339   79.942               4   \n",
       "905           0.003530     0.102    0.155  139.965               4   \n",
       "3980          0.000000     0.243    0.818  135.802               4   \n",
       "235           0.000036     0.260    0.949  151.925               4   \n",
       "\n",
       "      track_genre  \n",
       "1233      electro  \n",
       "1056      electro  \n",
       "1686      electro  \n",
       "187         blues  \n",
       "3840    punk-rock  \n",
       "...           ...  \n",
       "2895          pop  \n",
       "2763          pop  \n",
       "905         blues  \n",
       "3980    punk-rock  \n",
       "235         blues  \n",
       "\n",
       "[4000 rows x 15 columns]"
      ]
     },
     "execution_count": 3,
     "metadata": {},
     "output_type": "execute_result"
    }
   ],
   "source": [
    "df = pd.read_csv(\"light_music.csv\")\n",
    "df_train, df_test = train_test_split(df, train_size=0.8, random_state=1)\n",
    "y_train, y_test = df_train['popularity'], df_test['popularity']\n",
    "df_train.drop(columns='popularity', inplace=True)\n",
    "df_test.drop(columns='popularity', inplace=True)\n",
    "df_train"
   ]
  },
  {
   "cell_type": "code",
   "execution_count": 4,
   "id": "d80f2a8d-9446-48ef-828e-1100a9ec1ed7",
   "metadata": {},
   "outputs": [
    {
     "data": {
      "text/plain": [
       "OrdinalEncoder()"
      ]
     },
     "execution_count": 4,
     "metadata": {},
     "output_type": "execute_result"
    }
   ],
   "source": [
    "Enc = OrdinalEncoder()\n",
    "Enc.fit(df_train[['explicit', 'track_genre']])"
   ]
  },
  {
   "cell_type": "code",
   "execution_count": 5,
   "id": "6ebeb69c-f85e-4d0f-a988-8ba59f8381ad",
   "metadata": {},
   "outputs": [
    {
     "data": {
      "text/plain": [
       "[array([False,  True]),\n",
       " array(['blues', 'electro', 'pop', 'punk-rock', 'spanish'], dtype=object)]"
      ]
     },
     "execution_count": 5,
     "metadata": {},
     "output_type": "execute_result"
    }
   ],
   "source": [
    "Enc.categories_"
   ]
  },
  {
   "cell_type": "code",
   "execution_count": 6,
   "id": "760b6da6-e0e1-4390-a225-687083714aaa",
   "metadata": {},
   "outputs": [],
   "source": [
    "df_train[['explicit', 'track_genre']] = Enc.transform(df_train[['explicit', 'track_genre']])\n",
    "df_test[['explicit', 'track_genre']] = Enc.transform(df_test[['explicit', 'track_genre']])"
   ]
  },
  {
   "cell_type": "code",
   "execution_count": 7,
   "id": "a1d55f5d-8d7d-4e63-ac13-e0c6965ba59a",
   "metadata": {},
   "outputs": [
    {
     "data": {
      "text/html": [
       "<div>\n",
       "<style scoped>\n",
       "    .dataframe tbody tr th:only-of-type {\n",
       "        vertical-align: middle;\n",
       "    }\n",
       "\n",
       "    .dataframe tbody tr th {\n",
       "        vertical-align: top;\n",
       "    }\n",
       "\n",
       "    .dataframe thead th {\n",
       "        text-align: right;\n",
       "    }\n",
       "</style>\n",
       "<table border=\"1\" class=\"dataframe\">\n",
       "  <thead>\n",
       "    <tr style=\"text-align: right;\">\n",
       "      <th></th>\n",
       "      <th>duration_ms</th>\n",
       "      <th>explicit</th>\n",
       "      <th>danceability</th>\n",
       "      <th>energy</th>\n",
       "      <th>key</th>\n",
       "      <th>loudness</th>\n",
       "      <th>...</th>\n",
       "      <th>instrumentalness</th>\n",
       "      <th>liveness</th>\n",
       "      <th>valence</th>\n",
       "      <th>tempo</th>\n",
       "      <th>time_signature</th>\n",
       "      <th>track_genre</th>\n",
       "    </tr>\n",
       "  </thead>\n",
       "  <tbody>\n",
       "    <tr>\n",
       "      <th>1233</th>\n",
       "      <td>195456</td>\n",
       "      <td>0.0</td>\n",
       "      <td>0.648</td>\n",
       "      <td>0.473</td>\n",
       "      <td>0</td>\n",
       "      <td>-14.604</td>\n",
       "      <td>...</td>\n",
       "      <td>0.917000</td>\n",
       "      <td>0.136</td>\n",
       "      <td>0.363</td>\n",
       "      <td>112.998</td>\n",
       "      <td>4</td>\n",
       "      <td>1.0</td>\n",
       "    </tr>\n",
       "    <tr>\n",
       "      <th>1056</th>\n",
       "      <td>176561</td>\n",
       "      <td>0.0</td>\n",
       "      <td>0.723</td>\n",
       "      <td>0.809</td>\n",
       "      <td>7</td>\n",
       "      <td>-3.081</td>\n",
       "      <td>...</td>\n",
       "      <td>0.001230</td>\n",
       "      <td>0.565</td>\n",
       "      <td>0.274</td>\n",
       "      <td>98.007</td>\n",
       "      <td>4</td>\n",
       "      <td>1.0</td>\n",
       "    </tr>\n",
       "    <tr>\n",
       "      <th>1686</th>\n",
       "      <td>185474</td>\n",
       "      <td>0.0</td>\n",
       "      <td>0.568</td>\n",
       "      <td>0.669</td>\n",
       "      <td>2</td>\n",
       "      <td>-5.698</td>\n",
       "      <td>...</td>\n",
       "      <td>0.000000</td>\n",
       "      <td>0.115</td>\n",
       "      <td>0.405</td>\n",
       "      <td>149.969</td>\n",
       "      <td>4</td>\n",
       "      <td>1.0</td>\n",
       "    </tr>\n",
       "    <tr>\n",
       "      <th>187</th>\n",
       "      <td>205280</td>\n",
       "      <td>0.0</td>\n",
       "      <td>0.736</td>\n",
       "      <td>0.722</td>\n",
       "      <td>10</td>\n",
       "      <td>-5.908</td>\n",
       "      <td>...</td>\n",
       "      <td>0.000074</td>\n",
       "      <td>0.137</td>\n",
       "      <td>0.448</td>\n",
       "      <td>112.921</td>\n",
       "      <td>4</td>\n",
       "      <td>0.0</td>\n",
       "    </tr>\n",
       "    <tr>\n",
       "      <th>3840</th>\n",
       "      <td>160801</td>\n",
       "      <td>0.0</td>\n",
       "      <td>0.533</td>\n",
       "      <td>0.930</td>\n",
       "      <td>1</td>\n",
       "      <td>-4.208</td>\n",
       "      <td>...</td>\n",
       "      <td>0.000000</td>\n",
       "      <td>0.790</td>\n",
       "      <td>0.435</td>\n",
       "      <td>92.591</td>\n",
       "      <td>4</td>\n",
       "      <td>3.0</td>\n",
       "    </tr>\n",
       "    <tr>\n",
       "      <th>...</th>\n",
       "      <td>...</td>\n",
       "      <td>...</td>\n",
       "      <td>...</td>\n",
       "      <td>...</td>\n",
       "      <td>...</td>\n",
       "      <td>...</td>\n",
       "      <td>...</td>\n",
       "      <td>...</td>\n",
       "      <td>...</td>\n",
       "      <td>...</td>\n",
       "      <td>...</td>\n",
       "      <td>...</td>\n",
       "      <td>...</td>\n",
       "    </tr>\n",
       "    <tr>\n",
       "      <th>2895</th>\n",
       "      <td>157648</td>\n",
       "      <td>0.0</td>\n",
       "      <td>0.480</td>\n",
       "      <td>0.369</td>\n",
       "      <td>7</td>\n",
       "      <td>-8.766</td>\n",
       "      <td>...</td>\n",
       "      <td>0.000000</td>\n",
       "      <td>0.100</td>\n",
       "      <td>0.548</td>\n",
       "      <td>159.687</td>\n",
       "      <td>4</td>\n",
       "      <td>2.0</td>\n",
       "    </tr>\n",
       "    <tr>\n",
       "      <th>2763</th>\n",
       "      <td>245016</td>\n",
       "      <td>0.0</td>\n",
       "      <td>0.531</td>\n",
       "      <td>0.790</td>\n",
       "      <td>10</td>\n",
       "      <td>-7.213</td>\n",
       "      <td>...</td>\n",
       "      <td>0.000000</td>\n",
       "      <td>0.301</td>\n",
       "      <td>0.339</td>\n",
       "      <td>79.942</td>\n",
       "      <td>4</td>\n",
       "      <td>2.0</td>\n",
       "    </tr>\n",
       "    <tr>\n",
       "      <th>905</th>\n",
       "      <td>237659</td>\n",
       "      <td>0.0</td>\n",
       "      <td>0.429</td>\n",
       "      <td>0.575</td>\n",
       "      <td>3</td>\n",
       "      <td>-7.626</td>\n",
       "      <td>...</td>\n",
       "      <td>0.003530</td>\n",
       "      <td>0.102</td>\n",
       "      <td>0.155</td>\n",
       "      <td>139.965</td>\n",
       "      <td>4</td>\n",
       "      <td>0.0</td>\n",
       "    </tr>\n",
       "    <tr>\n",
       "      <th>3980</th>\n",
       "      <td>235253</td>\n",
       "      <td>0.0</td>\n",
       "      <td>0.481</td>\n",
       "      <td>0.715</td>\n",
       "      <td>11</td>\n",
       "      <td>-4.729</td>\n",
       "      <td>...</td>\n",
       "      <td>0.000000</td>\n",
       "      <td>0.243</td>\n",
       "      <td>0.818</td>\n",
       "      <td>135.802</td>\n",
       "      <td>4</td>\n",
       "      <td>3.0</td>\n",
       "    </tr>\n",
       "    <tr>\n",
       "      <th>235</th>\n",
       "      <td>162897</td>\n",
       "      <td>0.0</td>\n",
       "      <td>0.647</td>\n",
       "      <td>0.876</td>\n",
       "      <td>10</td>\n",
       "      <td>-5.662</td>\n",
       "      <td>...</td>\n",
       "      <td>0.000036</td>\n",
       "      <td>0.260</td>\n",
       "      <td>0.949</td>\n",
       "      <td>151.925</td>\n",
       "      <td>4</td>\n",
       "      <td>0.0</td>\n",
       "    </tr>\n",
       "  </tbody>\n",
       "</table>\n",
       "<p>4000 rows × 15 columns</p>\n",
       "</div>"
      ],
      "text/plain": [
       "      duration_ms  explicit  danceability  energy  key  loudness  ...  \\\n",
       "1233       195456       0.0         0.648   0.473    0   -14.604  ...   \n",
       "1056       176561       0.0         0.723   0.809    7    -3.081  ...   \n",
       "1686       185474       0.0         0.568   0.669    2    -5.698  ...   \n",
       "187        205280       0.0         0.736   0.722   10    -5.908  ...   \n",
       "3840       160801       0.0         0.533   0.930    1    -4.208  ...   \n",
       "...           ...       ...           ...     ...  ...       ...  ...   \n",
       "2895       157648       0.0         0.480   0.369    7    -8.766  ...   \n",
       "2763       245016       0.0         0.531   0.790   10    -7.213  ...   \n",
       "905        237659       0.0         0.429   0.575    3    -7.626  ...   \n",
       "3980       235253       0.0         0.481   0.715   11    -4.729  ...   \n",
       "235        162897       0.0         0.647   0.876   10    -5.662  ...   \n",
       "\n",
       "      instrumentalness  liveness  valence    tempo  time_signature  \\\n",
       "1233          0.917000     0.136    0.363  112.998               4   \n",
       "1056          0.001230     0.565    0.274   98.007               4   \n",
       "1686          0.000000     0.115    0.405  149.969               4   \n",
       "187           0.000074     0.137    0.448  112.921               4   \n",
       "3840          0.000000     0.790    0.435   92.591               4   \n",
       "...                ...       ...      ...      ...             ...   \n",
       "2895          0.000000     0.100    0.548  159.687               4   \n",
       "2763          0.000000     0.301    0.339   79.942               4   \n",
       "905           0.003530     0.102    0.155  139.965               4   \n",
       "3980          0.000000     0.243    0.818  135.802               4   \n",
       "235           0.000036     0.260    0.949  151.925               4   \n",
       "\n",
       "      track_genre  \n",
       "1233          1.0  \n",
       "1056          1.0  \n",
       "1686          1.0  \n",
       "187           0.0  \n",
       "3840          3.0  \n",
       "...           ...  \n",
       "2895          2.0  \n",
       "2763          2.0  \n",
       "905           0.0  \n",
       "3980          3.0  \n",
       "235           0.0  \n",
       "\n",
       "[4000 rows x 15 columns]"
      ]
     },
     "execution_count": 7,
     "metadata": {},
     "output_type": "execute_result"
    }
   ],
   "source": [
    "df_train"
   ]
  },
  {
   "cell_type": "markdown",
   "id": "a5584f60-2c30-4b68-a701-7bf8ff339701",
   "metadata": {},
   "source": [
    "### 1 и 2 задания\n",
    "Построение дерева и случайного леса под задачу регрессии:"
   ]
  },
  {
   "cell_type": "code",
   "execution_count": 8,
   "id": "277e6ab1-08c1-4abf-b8bb-a195d9796b8a",
   "metadata": {},
   "outputs": [
    {
     "data": {
      "text/plain": [
       "RandomForestRegressor(random_state=1)"
      ]
     },
     "execution_count": 8,
     "metadata": {},
     "output_type": "execute_result"
    }
   ],
   "source": [
    "TreeRegr = DecisionTreeRegressor(random_state=1)\n",
    "TreeRegr.fit(df_train, y_train)\n",
    "RanForRegr = RandomForestRegressor(random_state=1)\n",
    "RanForRegr.fit(df_train, y_train)"
   ]
  },
  {
   "cell_type": "code",
   "execution_count": 14,
   "id": "c529c892-1862-4870-831b-b30437bd90f7",
   "metadata": {},
   "outputs": [
    {
     "name": "stdout",
     "output_type": "stream",
     "text": [
      "RMSE for tree: 29.700319451538643\n",
      "RMSE for random forest: 22.691988372811892\n",
      "Difference: -7.008331078726751\n"
     ]
    }
   ],
   "source": [
    "print(f'RMSE for tree: {mean_squared_error(y_test, TreeRegr.predict(df_test))**0.5}')\n",
    "print(f'RMSE for random forest: {mean_squared_error(y_test, RanForRegr.predict(df_test))**0.5}')\n",
    "print(f'Difference: {mean_squared_error(y_test, RanForRegr.predict(df_test))**0.5 - mean_squared_error(y_test, TreeRegr.predict(df_test))**0.5}')"
   ]
  },
  {
   "cell_type": "code",
   "execution_count": 28,
   "id": "a27488fd-2a2c-4942-b592-9cafb191a66e",
   "metadata": {},
   "outputs": [],
   "source": [
    "depths = np.arange(1, 50, 3)\n",
    "RMSEs = np.ones_like(depths)\n",
    "for i in range(len(depths)):\n",
    "    RanForRegr = RandomForestRegressor(random_state=1, max_depth=depths[i])\n",
    "    RanForRegr.fit(df_train, y_train)\n",
    "    RMSEs[i] = mean_squared_error(y_test, RanForRegr.predict(df_test))**0.5"
   ]
  },
  {
   "cell_type": "code",
   "execution_count": 29,
   "id": "f335a602-8dfa-42e8-a5bb-8c47be5ba51d",
   "metadata": {},
   "outputs": [
    {
     "data": {
      "text/plain": [
       "Text(0.5, 1.0, 'RMSE for a different depth in a random forest')"
      ]
     },
     "execution_count": 29,
     "metadata": {},
     "output_type": "execute_result"
    },
    {
     "data": {
      "image/png": "[encoded data removed]",
      "text/plain": [
       "<Figure size 640x480 with 1 Axes>"
      ]
     },
     "metadata": {},
     "output_type": "display_data"
    }
   ],
   "source": [
    "plt.plot(depths, RMSEs)\n",
    "plt.xlabel('depth')\n",
    "plt.ylabel('RMSE')\n",
    "plt.title('RMSE for a different depth in a random forest')"
   ]
  },
  {
   "cell_type": "markdown",
   "id": "3a0dd438-6cb6-4c61-a187-ad36cd756241",
   "metadata": {},
   "source": [
    "### 3 и 4 задания\n",
    "Построение дерева и случайного леса под задачу классификации:"
   ]
  },
  {
   "cell_type": "code",
   "execution_count": 10,
   "id": "708d3f69-069c-4a1a-9cb3-5b03936ee130",
   "metadata": {},
   "outputs": [],
   "source": [
    "y_train_bin = y_train.copy()\n",
    "for i in range(len(y_train_bin)): y_train_bin.iloc[i] = 'True' if (y_train.iloc[i] > 50) else 'False'\n",
    "y_test_bin = y_test.copy()\n",
    "for i in range(len(y_test_bin)): y_test_bin.iloc[i] = 'True' if (y_test.iloc[i] > 50) else 'False'"
   ]
  },
  {
   "cell_type": "code",
   "execution_count": 11,
   "id": "76c1cf82-b23d-4150-b942-6b6edda6ef1f",
   "metadata": {},
   "outputs": [
    {
     "name": "stdout",
     "output_type": "stream",
     "text": [
      "Ratio of classes in y_train_bin: \n",
      "False    2373\n",
      "True     1627\n",
      "Name: popularity, dtype: int64 \n",
      "\n",
      "Ratio of classes in y_test_bin: \n",
      "False    599\n",
      "True     401\n",
      "Name: popularity, dtype: int64\n"
     ]
    }
   ],
   "source": [
    "print(f'Ratio of classes in y_train_bin: \\n{y_train_bin.value_counts()} \\n')\n",
    "print(f'Ratio of classes in y_test_bin: \\n{y_test_bin.value_counts()}')"
   ]
  },
  {
   "cell_type": "code",
   "execution_count": 15,
   "id": "63d186cc-d38c-4cc6-93b7-3534391c8a3c",
   "metadata": {},
   "outputs": [
    {
     "data": {
      "text/plain": [
       "RandomForestClassifier(random_state=1)"
      ]
     },
     "execution_count": 15,
     "metadata": {},
     "output_type": "execute_result"
    }
   ],
   "source": [
    "TreeClass = DecisionTreeClassifier(random_state=1, max_depth=17)\n",
    "TreeClass.fit(df_train, y_train_bin)\n",
    "RanForClass = RandomForestClassifier(random_state=1)\n",
    "RanForClass.fit(df_train, y_train_bin)"
   ]
  },
  {
   "cell_type": "code",
   "execution_count": 16,
   "id": "0b5c1a3f-726b-44ea-8723-08f0d0c69718",
   "metadata": {},
   "outputs": [
    {
     "name": "stdout",
     "output_type": "stream",
     "text": [
      "Accuracy for tree: 0.698\n",
      "Accuracy for random forest: 0.777\n",
      "Difference: 0.07900000000000007\n"
     ]
    }
   ],
   "source": [
    "print(f'Accuracy for tree: {accuracy_score(y_test_bin, TreeClass.predict(df_test))}')\n",
    "print(f'Accuracy for random forest: {accuracy_score(y_test_bin, RanForClass.predict(df_test))}')\n",
    "print(f'Difference: {accuracy_score(y_test_bin, RanForClass.predict(df_test)) - accuracy_score(y_test_bin, TreeClass.predict(df_test))}')"
   ]
  },
  {
   "cell_type": "code",
   "execution_count": 30,
   "id": "1a011984-6d17-4461-b9a6-c2086d517449",
   "metadata": {},
   "outputs": [],
   "source": [
    "num_trees = np.arange(1, 150, 10)\n",
    "accs = np.ones_like(num_trees, dtype='float')\n",
    "for i in range(len(num_trees)):\n",
    "    RanForClass = RandomForestClassifier(random_state=1, max_depth=17, n_estimators=num_trees[i])\n",
    "    RanForClass.fit(df_train, y_train_bin)\n",
    "    accs[i] = accuracy_score(y_test_bin, RanForClass.predict(df_test))"
   ]
  },
  {
   "cell_type": "code",
   "execution_count": 31,
   "id": "7c1ec177-6f8c-4f1e-af52-1c5c42e5d998",
   "metadata": {},
   "outputs": [
    {
     "data": {
      "text/plain": [
       "Text(0.5, 1.0, 'Accuracy for a different number of trees in a random forest')"
      ]
     },
     "execution_count": 31,
     "metadata": {},
     "output_type": "execute_result"
    },
    {
     "data": {
      "image/png": "[encoded data removed]",
      "text/plain": [
       "<Figure size 640x480 with 1 Axes>"
      ]
     },
     "metadata": {},
     "output_type": "display_data"
    }
   ],
   "source": [
    "plt.plot(num_trees, accs)\n",
    "plt.xlabel('depth')\n",
    "plt.ylabel('accuracy')\n",
    "plt.title('Accuracy for a different number of trees in a random forest')"
   ]
  },
  {
   "cell_type": "markdown",
   "id": "053b672e-df82-4bc4-9ad3-8308b2d5054a",
   "metadata": {
    "tags": []
   },
   "source": [
    "### 5 и 6 задания\n",
    "Создание функций bootstrap-а и RSM для создание собственного случайного леса:"
   ]
  },
  {
   "cell_type": "code",
   "execution_count": 32,
   "id": "d4f8df85-3349-445b-a5b7-4390d9b7a6f3",
   "metadata": {},
   "outputs": [],
   "source": [
    "np.random.seed(42)  # для фиксации случайности\n",
    "\n",
    "def get_bootstrap(data, labels, n=100, max_samples=1.0):\n",
    "    if isinstance(data, pd.DataFrame):  \n",
    "        data = data.copy().values  # перевод таблицы в numpy array\n",
    "\n",
    "    if isinstance(labels, pd.DataFrame) or isinstance(labels, pd.Series):\n",
    "        labels = labels.copy().values  # перевод целевого признака в numpy array\n",
    "\n",
    "    n_samples = round(len(data) * max_samples)  # подсчет кол-ва объектов в подвыборках\n",
    "    bootstrap = []  # список для будущих подвыборок\n",
    "\n",
    "    for i in range(n):\n",
    "\n",
    "        sample_index = np.random.randint(0, len(data), n_samples)  # взятие случайных индексов в кол-ве n_samples\n",
    "        b_data = data[sample_index]  # взятие объектов по выбранным индексам\n",
    "        b_labels = labels[sample_index]  # взятие целевых значений по выбранным индексам\n",
    "\n",
    "        bootstrap.append((b_data, b_labels))  # добавление в список подвыборок\n",
    "\n",
    "    return bootstrap\n",
    "\n",
    "def get_subsample(features, max_features=1.0):\n",
    "    if not isinstance(features, np.ndarray):\n",
    "        features = np.array(features.copy())  # перевод признаков в numpy array\n",
    "\n",
    "    len_features = round(len(features) * max_features)  # подсчет кол-ва признаков в подвыборках\n",
    "    sample_indexes = list(range(len(features)))  # получение списка индексов признаков\n",
    "\n",
    "    subsample = np.random.choice(  # взятие случайных индексов признаков\n",
    "        len(features),\n",
    "        size=len_features,  # в кол-ве len_features\n",
    "        replace=False  # без повторений\n",
    "    )\n",
    "\n",
    "    return features[subsample]  # на список выходе признаки"
   ]
  },
  {
   "cell_type": "code",
   "execution_count": 33,
   "id": "0c8a7231-30d0-484c-a8ea-12b906229fed",
   "metadata": {
    "tags": []
   },
   "outputs": [
    {
     "data": {
      "text/plain": [
       "(array(['False', 'True'], dtype=object), array([28, 12], dtype=int64))"
      ]
     },
     "execution_count": 33,
     "metadata": {},
     "output_type": "execute_result"
    }
   ],
   "source": [
    "bootstrap = get_bootstrap(df_train, y_train_bin, n=3, max_samples=0.01)\n",
    "np.unique(bootstrap[0][1], return_counts=True)"
   ]
  },
  {
   "cell_type": "code",
   "execution_count": 34,
   "id": "b4764dbb-8414-4210-9e05-b714fb648dd0",
   "metadata": {},
   "outputs": [
    {
     "name": "stdout",
     "output_type": "stream",
     "text": [
      "['time_signature' 'energy']\n"
     ]
    }
   ],
   "source": [
    "features_sample = get_subsample(df_train.keys(), max_features=0.1)\n",
    "print(features_sample)"
   ]
  },
  {
   "cell_type": "markdown",
   "id": "520446a7-252f-43f2-9b47-ee192c886b30",
   "metadata": {
    "tags": []
   },
   "source": [
    "### 7 и 8 задания\n",
    "Создание собственного случайного леса:"
   ]
  },
  {
   "cell_type": "code",
   "execution_count": 35,
   "id": "9fd0aa15-4a61-4f09-a75e-6b24d79934b4",
   "metadata": {},
   "outputs": [
    {
     "data": {
      "text/plain": [
       "[DecisionTreeClassifier(random_state=1),\n",
       " DecisionTreeClassifier(random_state=1),\n",
       " DecisionTreeClassifier(random_state=1),\n",
       " DecisionTreeClassifier(random_state=1),\n",
       " DecisionTreeClassifier(random_state=1),\n",
       " DecisionTreeClassifier(random_state=1),\n",
       " DecisionTreeClassifier(random_state=1),\n",
       " DecisionTreeClassifier(random_state=1),\n",
       " DecisionTreeClassifier(random_state=1),\n",
       " DecisionTreeClassifier(random_state=1),\n",
       " DecisionTreeClassifier(random_state=1),\n",
       " DecisionTreeClassifier(random_state=1),\n",
       " DecisionTreeClassifier(random_state=1),\n",
       " DecisionTreeClassifier(random_state=1),\n",
       " DecisionTreeClassifier(random_state=1),\n",
       " DecisionTreeClassifier(random_state=1),\n",
       " DecisionTreeClassifier(random_state=1),\n",
       " DecisionTreeClassifier(random_state=1),\n",
       " DecisionTreeClassifier(random_state=1),\n",
       " DecisionTreeClassifier(random_state=1),\n",
       " DecisionTreeClassifier(random_state=1),\n",
       " DecisionTreeClassifier(random_state=1),\n",
       " DecisionTreeClassifier(random_state=1),\n",
       " DecisionTreeClassifier(random_state=1),\n",
       " DecisionTreeClassifier(random_state=1),\n",
       " DecisionTreeClassifier(random_state=1),\n",
       " DecisionTreeClassifier(random_state=1),\n",
       " DecisionTreeClassifier(random_state=1),\n",
       " DecisionTreeClassifier(random_state=1),\n",
       " DecisionTreeClassifier(random_state=1),\n",
       " DecisionTreeClassifier(random_state=1),\n",
       " DecisionTreeClassifier(random_state=1),\n",
       " DecisionTreeClassifier(random_state=1),\n",
       " DecisionTreeClassifier(random_state=1),\n",
       " DecisionTreeClassifier(random_state=1),\n",
       " DecisionTreeClassifier(random_state=1),\n",
       " DecisionTreeClassifier(random_state=1),\n",
       " DecisionTreeClassifier(random_state=1),\n",
       " DecisionTreeClassifier(random_state=1),\n",
       " DecisionTreeClassifier(random_state=1),\n",
       " DecisionTreeClassifier(random_state=1),\n",
       " DecisionTreeClassifier(random_state=1),\n",
       " DecisionTreeClassifier(random_state=1),\n",
       " DecisionTreeClassifier(random_state=1),\n",
       " DecisionTreeClassifier(random_state=1),\n",
       " DecisionTreeClassifier(random_state=1),\n",
       " DecisionTreeClassifier(random_state=1),\n",
       " DecisionTreeClassifier(random_state=1),\n",
       " DecisionTreeClassifier(random_state=1),\n",
       " DecisionTreeClassifier(random_state=1),\n",
       " DecisionTreeClassifier(random_state=1),\n",
       " DecisionTreeClassifier(random_state=1),\n",
       " DecisionTreeClassifier(random_state=1),\n",
       " DecisionTreeClassifier(random_state=1),\n",
       " DecisionTreeClassifier(random_state=1),\n",
       " DecisionTreeClassifier(random_state=1),\n",
       " DecisionTreeClassifier(random_state=1),\n",
       " DecisionTreeClassifier(random_state=1),\n",
       " DecisionTreeClassifier(random_state=1),\n",
       " DecisionTreeClassifier(random_state=1),\n",
       " DecisionTreeClassifier(random_state=1),\n",
       " DecisionTreeClassifier(random_state=1),\n",
       " DecisionTreeClassifier(random_state=1),\n",
       " DecisionTreeClassifier(random_state=1),\n",
       " DecisionTreeClassifier(random_state=1),\n",
       " DecisionTreeClassifier(random_state=1),\n",
       " DecisionTreeClassifier(random_state=1),\n",
       " DecisionTreeClassifier(random_state=1),\n",
       " DecisionTreeClassifier(random_state=1),\n",
       " DecisionTreeClassifier(random_state=1),\n",
       " DecisionTreeClassifier(random_state=1),\n",
       " DecisionTreeClassifier(random_state=1),\n",
       " DecisionTreeClassifier(random_state=1),\n",
       " DecisionTreeClassifier(random_state=1),\n",
       " DecisionTreeClassifier(random_state=1),\n",
       " DecisionTreeClassifier(random_state=1),\n",
       " DecisionTreeClassifier(random_state=1),\n",
       " DecisionTreeClassifier(random_state=1),\n",
       " DecisionTreeClassifier(random_state=1),\n",
       " DecisionTreeClassifier(random_state=1),\n",
       " DecisionTreeClassifier(random_state=1),\n",
       " DecisionTreeClassifier(random_state=1),\n",
       " DecisionTreeClassifier(random_state=1),\n",
       " DecisionTreeClassifier(random_state=1),\n",
       " DecisionTreeClassifier(random_state=1),\n",
       " DecisionTreeClassifier(random_state=1),\n",
       " DecisionTreeClassifier(random_state=1),\n",
       " DecisionTreeClassifier(random_state=1),\n",
       " DecisionTreeClassifier(random_state=1),\n",
       " DecisionTreeClassifier(random_state=1),\n",
       " DecisionTreeClassifier(random_state=1),\n",
       " DecisionTreeClassifier(random_state=1),\n",
       " DecisionTreeClassifier(random_state=1),\n",
       " DecisionTreeClassifier(random_state=1),\n",
       " DecisionTreeClassifier(random_state=1),\n",
       " DecisionTreeClassifier(random_state=1),\n",
       " DecisionTreeClassifier(random_state=1),\n",
       " DecisionTreeClassifier(random_state=1),\n",
       " DecisionTreeClassifier(random_state=1),\n",
       " DecisionTreeClassifier(random_state=1)]"
      ]
     },
     "execution_count": 35,
     "metadata": {},
     "output_type": "execute_result"
    }
   ],
   "source": [
    "np.random.seed(42)  # для фиксации случайности\n",
    "\n",
    "forest = []\n",
    "bootstrap = get_bootstrap(df_train, y_train_bin, n=100, max_samples=0.5)  # получаем подвыборки\n",
    "\n",
    "for b_data, b_labels in bootstrap:\n",
    "    b_data = pd.DataFrame(b_data, columns=df_train.columns)  \n",
    "    features = get_subsample(df_train.keys(), max_features=0.5)  # получаем признаки\n",
    "\n",
    "    dt = DecisionTreeClassifier(random_state=1).fit(b_data[features], b_labels)\n",
    "    forest.append(dt)\n",
    "\n",
    "forest"
   ]
  },
  {
   "cell_type": "code",
   "execution_count": 37,
   "id": "fa66652f-d3d0-47f0-a5df-cb04c962cd96",
   "metadata": {},
   "outputs": [
    {
     "data": {
      "text/plain": [
       "21"
      ]
     },
     "execution_count": 37,
     "metadata": {},
     "output_type": "execute_result"
    }
   ],
   "source": [
    "DecisionTreeClassifier.get_depth(forest[0])"
   ]
  },
  {
   "cell_type": "code",
   "execution_count": 38,
   "id": "24ffb977-66c0-40ca-a600-163c83235573",
   "metadata": {},
   "outputs": [],
   "source": [
    "# добавим предсказания всех деревьев в список\n",
    "predictions = []\n",
    "for tree in forest:\n",
    "    predictions.append(tree.predict(df_test[tree.feature_names_in_]))\n",
    "\n",
    "# сформируем список с предсказаниями для каждого объекта\n",
    "predictions_per_object = list(zip(*predictions))\n",
    "\n",
    "# выберем в качестве итогового предсказания для каждого объекта тот класс,\n",
    "# за который проголосовало большинство деревьев\n",
    "voted_predictions = []\n",
    "for obj in predictions_per_object:\n",
    "    voted_predictions.append('True' if obj.count('True') > obj.count('False') else 'False')"
   ]
  },
  {
   "cell_type": "code",
   "execution_count": 39,
   "id": "1a6d2363-d73b-4e7c-ad23-a66a50b14986",
   "metadata": {},
   "outputs": [
    {
     "name": "stdout",
     "output_type": "stream",
     "text": [
      "0.766\n"
     ]
    }
   ],
   "source": [
    "print(accuracy_score(y_test_bin, voted_predictions))"
   ]
  },
  {
   "cell_type": "code",
   "execution_count": null,
   "id": "8d930bc4-fdd1-4d02-a024-b0e53e9d6d07",
   "metadata": {},
   "outputs": [],
   "source": []
  }
 ],
 "metadata": {
  "kernelspec": {
   "display_name": "Python 3 (ipykernel)",
   "language": "python",
   "name": "python3"
  },
  "language_info": {
   "codemirror_mode": {
    "name": "ipython",
    "version": 3
   },
   "file_extension": ".py",
   "mimetype": "text/x-python",
   "name": "python",
   "nbconvert_exporter": "python",
   "pygments_lexer": "ipython3",
   "version": "3.9.13"
  }
 },
 "nbformat": 4,
 "nbformat_minor": 5
}
