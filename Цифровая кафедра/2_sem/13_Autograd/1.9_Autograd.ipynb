{
 "cells": [
  {
   "cell_type": "code",
   "execution_count": 9,
   "id": "3591c1e6-203d-4d8c-8b37-40f03b23c8dd",
   "metadata": {},
   "outputs": [],
   "source": [
    "import torch\n",
    "from torch.autograd import Function"
   ]
  },
  {
   "cell_type": "code",
   "execution_count": 216,
   "id": "7f56e219-226f-4468-8274-3d138e17d5fa",
   "metadata": {},
   "outputs": [],
   "source": [
    "class f(Function):\n",
    "    @staticmethod\n",
    "    def forward(ctx, i):\n",
    "        func = (i / 5).sin() * (i / 10).exp() + 5 * (-i / 5).exp()\n",
    "        der = 0.1 * (i / 5).sin() * (i / 10).exp() + 0.2 * (i / 5).cos() * (i / 10).exp() - (-i / 5).exp()\n",
    "        ctx.save_for_backward(func, der)\n",
    "        return func\n",
    "\n",
    "    @staticmethod\n",
    "    def backward(ctx, grad_output):\n",
    "        func, der = ctx.saved_tensors\n",
    "        return grad_output * der"
   ]
  },
  {
   "cell_type": "code",
   "execution_count": 250,
   "id": "d2d44420-64aa-48a4-96d2-e1e142f347e7",
   "metadata": {},
   "outputs": [
    {
     "data": {
      "text/plain": [
       "tensor([15.], requires_grad=True)"
      ]
     },
     "execution_count": 250,
     "metadata": {},
     "output_type": "execute_result"
    }
   ],
   "source": [
    "tensor = torch.tensor([15.], requires_grad=True)\n",
    "\n",
    "opt = torch.optim.Adam([tensor], lr=0.3) \n",
    "tensor"
   ]
  },
  {
   "cell_type": "code",
   "execution_count": 251,
   "id": "3f481b3e-6209-417f-961b-c358369745f4",
   "metadata": {},
   "outputs": [],
   "source": [
    "for i in range(45):\n",
    "    f_res = f.apply(tensor)\n",
    "    f_res.backward()\n",
    "    opt.step()\n",
    "    opt.zero_grad()\n",
    "    #print(tensor, f_res)"
   ]
  },
  {
   "cell_type": "code",
   "execution_count": 252,
   "id": "0eada30d-be16-4b97-81d2-53803a38c82e",
   "metadata": {},
   "outputs": [
    {
     "data": {
      "text/plain": [
       "tensor([26.8365], requires_grad=True)"
      ]
     },
     "execution_count": 252,
     "metadata": {},
     "output_type": "execute_result"
    }
   ],
   "source": [
    "tensor"
   ]
  },
  {
   "cell_type": "code",
   "execution_count": null,
   "id": "0f8d42ff-d437-45fc-a19a-b94128d36011",
   "metadata": {},
   "outputs": [],
   "source": []
  }
 ],
 "metadata": {
  "kernelspec": {
   "display_name": "Python 3 (ipykernel)",
   "language": "python",
   "name": "python3"
  },
  "language_info": {
   "codemirror_mode": {
    "name": "ipython",
    "version": 3
   },
   "file_extension": ".py",
   "mimetype": "text/x-python",
   "name": "python",
   "nbconvert_exporter": "python",
   "pygments_lexer": "ipython3",
   "version": "3.9.13"
  }
 },
 "nbformat": 4,
 "nbformat_minor": 5
}
