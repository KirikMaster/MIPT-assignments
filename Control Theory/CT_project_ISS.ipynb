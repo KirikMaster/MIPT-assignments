{
 "cells": [
  {
   "cell_type": "markdown",
   "metadata": {},
   "source": [
    "# Истинная орбита МСС - фильтр Калмана"
   ]
  },
  {
   "cell_type": "markdown",
   "metadata": {},
   "source": [
    "## Импорт Необходимых библиотек"
   ]
  },
  {
   "cell_type": "code",
   "execution_count": 153,
   "metadata": {},
   "outputs": [],
   "source": [
    "import numpy as np\n",
    "import pandas as pd\n",
    "import matplotlib.pyplot as plt"
   ]
  },
  {
   "cell_type": "markdown",
   "metadata": {},
   "source": [
    "## Функции"
   ]
  },
  {
   "cell_type": "code",
   "execution_count": 166,
   "metadata": {},
   "outputs": [],
   "source": [
    "def FuncOrbite(t, x): # Функция f(x, t)\n",
    "    r = np.copy(x[:3])\n",
    "    r_abs = np.linalg.norm(r)\n",
    "    v = np.copy(x[3:])\n",
    "    second_order = (np.array([r[0]*r[2]**2, r[1]*r[2]**2, r[2]**3]) * 15 / r_abs**7 -\n",
    "                    np.array([3*r[0], 3*r[1], 9*r[2]]) / r_abs**5) * mu * J2 * R**2 / 2 \n",
    "    return np.concatenate((v, -mu * r / r_abs**3 + second_order), axis=0)\n",
    "\n",
    "def FuncMeasure(x): # Функция h(x)\n",
    "    return x\n",
    "\n",
    "def ModelError(t): # Функция шума модели состояния. Функция может быть любой, но ограниченной\n",
    "    rng = np.random.default_rng()\n",
    "    return Ampl_w * rng.random(6)\n",
    "\n",
    "def MeasureError(t): # Функция шума модели наблюдения. Функция может быть любой, но ограниченной\n",
    "    rng = np.random.default_rng()\n",
    "    return Ampl_v * rng.random(6)\n",
    "\n",
    "def GessianF(x):\n",
    "    r = np.copy(x[:3])\n",
    "    r_abs = np.linalg.norm(r)\n",
    "    Phi = np.zeros((6,6))\n",
    "    Phi[3:6, 0:3] = np.eye(3)\n",
    "    a = mu * J2 * R**2 / 2 * (15 * r[2]**2 / r_abs**7 - 3 / r_abs**5)\n",
    "    b = 15 * mu * J2 * R**2 / r_abs**7 * r[2]\n",
    "    Phi[4:0] = -mu / r_abs**3 + a\n",
    "    Phi[5:1] = -mu / r_abs**3 + a\n",
    "    Phi[6:2] = -mu / r_abs**3 + 3*a\n",
    "    Phi[4:2] = b * r[0]\n",
    "    Phi[5:2] = b * r[1]\n",
    "    return Phi\n",
    "\n",
    "def GessianH(x):\n",
    "    return np.eye(6)\n",
    "\n",
    "def time(str_t):\n",
    "    A = str_t.split(':')\n",
    "    for i in range(len(A)):\n",
    "        if A[i][0:2] == '00':\n",
    "            if len(A[i]) <= 2:\n",
    "                A[i] = '0'\n",
    "            else:\n",
    "                A[i] = '0' + A[i][2:]\n",
    "    return int(A[0]) * 3600 + int(A[1]) * 60 + float(A[2])"
   ]
  },
  {
   "cell_type": "markdown",
   "metadata": {},
   "source": [
    "## Расширенный фильтр Калмана"
   ]
  },
  {
   "cell_type": "markdown",
   "metadata": {},
   "source": [
    "### Предиктор"
   ]
  },
  {
   "cell_type": "code",
   "execution_count": 155,
   "metadata": {},
   "outputs": [],
   "source": [
    "def predictorStatus(xk_1, tk_1, tk):\n",
    "    dt = tk - tk_1\n",
    "    xk_estimated = xk_1 + FuncOrbite(tk, xk_1) * dt\n",
    "    return xk_estimated\n",
    "\n",
    "def predictorCovar(Pk_1, xk_1, tk_1, tk):\n",
    "    dt = tk - tk_1\n",
    "    Phi = np.eye(6) + GessianF(xk_1) * dt\n",
    "    wk = ModelError(tk_1)\n",
    "    Q = np.outer(wk, wk) # Матрица ковариаций шумов модели\n",
    "    Pk_estimated = Phi @ Pk_1 @ Phi.T + Q\n",
    "    return Pk_estimated"
   ]
  },
  {
   "cell_type": "markdown",
   "metadata": {},
   "source": [
    "### Корректор"
   ]
  },
  {
   "cell_type": "code",
   "execution_count": 159,
   "metadata": {},
   "outputs": [],
   "source": [
    "def MatrixK(Pk_estimated, xk_estimated, tk):\n",
    "    vk = MeasureError(tk)\n",
    "    R = np.outer(vk, vk) # Матрица ковариаций шумов модели\n",
    "    H = GessianH(xk_estimated)\n",
    "    K = Pk_estimated @ H.T @ np.linalg.inv(H @ Pk_estimated @ H.T + R)\n",
    "    return K\n",
    "\n",
    "def correctorStatus(xk_estimated, zk, K):\n",
    "    xk = xk_estimated + K @ (zk - FuncMeasure(xk_estimated))\n",
    "    return xk\n",
    "\n",
    "def correctorCovar(Pk_estimated, xk, K):\n",
    "    Pk = (np.eye(6) - K @ GessianH(xk)) @ Pk_estimated\n",
    "    return Pk"
   ]
  },
  {
   "cell_type": "markdown",
   "metadata": {},
   "source": [
    "## Параметры"
   ]
  },
  {
   "cell_type": "code",
   "execution_count": 157,
   "metadata": {},
   "outputs": [],
   "source": [
    "mu = 3.986004418e14\n",
    "J2 = 0.0010827\n",
    "R = 6378.137\n",
    "\n",
    "# Параметры для w(t):\n",
    "Ampl_w = 1\n",
    "\n",
    "# Параметры для v(t):\n",
    "Ampl_v = 1"
   ]
  },
  {
   "cell_type": "markdown",
   "metadata": {},
   "source": [
    "## Рабочая область"
   ]
  },
  {
   "cell_type": "code",
   "execution_count": 167,
   "metadata": {},
   "outputs": [
    {
     "name": "stderr",
     "output_type": "stream",
     "text": [
      "<ipython-input-166-9b162ff5540e>:5: RuntimeWarning: overflow encountered in double_scalars\n",
      "  second_order = (np.array([r[0]*r[2]**2, r[1]*r[2]**2, r[2]**3]) * 15 / r_abs**7 -\n",
      "<ipython-input-166-9b162ff5540e>:25: RuntimeWarning: overflow encountered in double_scalars\n",
      "  a = mu * J2 * R**2 / 2 * (15 * r[2]**2 / r_abs**7 - 3 / r_abs**5)\n",
      "<ipython-input-166-9b162ff5540e>:26: RuntimeWarning: overflow encountered in double_scalars\n",
      "  b = 15 * mu * J2 * R**2 / r_abs**7 * r[2]\n",
      "<ipython-input-166-9b162ff5540e>:6: RuntimeWarning: overflow encountered in double_scalars\n",
      "  np.array([3*r[0], 3*r[1], 9*r[2]]) / r_abs**5) * mu * J2 * R**2 / 2\n",
      "<ipython-input-166-9b162ff5540e>:5: RuntimeWarning: overflow encountered in multiply\n",
      "  second_order = (np.array([r[0]*r[2]**2, r[1]*r[2]**2, r[2]**3]) * 15 / r_abs**7 -\n",
      "<ipython-input-166-9b162ff5540e>:5: RuntimeWarning: invalid value encountered in true_divide\n",
      "  second_order = (np.array([r[0]*r[2]**2, r[1]*r[2]**2, r[2]**3]) * 15 / r_abs**7 -\n"
     ]
    }
   ],
   "source": [
    "data = pd.read_csv(\"iss_test.txt\", delim_whitespace=True)\n",
    "x = np.array(data.iloc[0, 1:])\n",
    "P = np.zeros((6, 6))\n",
    "status = data.copy(deep=True)\n",
    "for i in range(1, data.shape[0]):\n",
    "    t_curr = time(data.iloc[i, 0])\n",
    "    t_prev = time(data.iloc[i-1, 0])\n",
    "    x_est = predictorStatus(x, t_prev, t_curr)\n",
    "    P_est = predictorCovar(P, x, t_prev, t_curr)\n",
    "    K = MatrixK(P_est, x_est, t_curr)\n",
    "    z = np.array(data.iloc[i, 1:])\n",
    "    x = correctorStatus(x_est, z, K)\n",
    "    P = correctorCovar(P_est, x, K)\n",
    "    status.iloc[i, 1:] = x"
   ]
  },
  {
   "cell_type": "markdown",
   "metadata": {},
   "source": [
    "## Отображение результатов:"
   ]
  },
  {
   "cell_type": "code",
   "execution_count": null,
   "metadata": {},
   "outputs": [],
   "source": [
    "plt.plot(status.iloc[1, :], status.iloc[2, :])\n",
    "plt.show()"
   ]
  }
 ],
 "metadata": {
  "kernelspec": {
   "display_name": "Python 3",
   "language": "python",
   "name": "python3"
  },
  "language_info": {
   "codemirror_mode": {
    "name": "ipython",
    "version": 3
   },
   "file_extension": ".py",
   "mimetype": "text/x-python",
   "name": "python",
   "nbconvert_exporter": "python",
   "pygments_lexer": "ipython3",
   "version": "3.8.5"
  }
 },
 "nbformat": 4,
 "nbformat_minor": 4
}
