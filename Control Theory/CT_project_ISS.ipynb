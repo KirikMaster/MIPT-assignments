{
 "cells": [
  {
   "cell_type": "markdown",
   "metadata": {},
   "source": [
    "# Истинная орбита МКС - фильтр Калмана"
   ]
  },
  {
   "cell_type": "markdown",
   "metadata": {},
   "source": [
    "## Импорт Необходимых библиотек"
   ]
  },
  {
   "cell_type": "code",
   "execution_count": 1,
   "metadata": {},
   "outputs": [],
   "source": [
    "import numpy as np\n",
    "import pandas as pd\n",
    "import matplotlib.pyplot as plt\n",
    "from numpy.linalg import norm"
   ]
  },
  {
   "cell_type": "markdown",
   "metadata": {},
   "source": [
    "## Функции"
   ]
  },
  {
   "cell_type": "code",
   "execution_count": 2,
   "metadata": {},
   "outputs": [],
   "source": [
    "def FuncOrbite(t, x): # Функция f(x, t)\n",
    "    r = np.copy(x[:3])\n",
    "    r_abs = np.linalg.norm(r)\n",
    "    v = np.copy(x[3:])\n",
    "    second_order = (np.array([r[0]*r[2]**2, r[1]*r[2]**2, r[2]**3]) * 15 / r_abs**7 -\n",
    "                    np.array([3*r[0], 3*r[1], 9*r[2]]) / r_abs**5) * mu * J2 * R**2 / 2 \n",
    "    return np.concatenate((v, -mu * r / r_abs**3 + second_order), axis=0)\n",
    "\n",
    "def FuncMeasure(x): # Функция h(x)\n",
    "    return x\n",
    "\n",
    "def ModelError(t): # Функция шума модели состояния. Функция может быть любой, но ограниченной\n",
    "    rng = np.random.default_rng()\n",
    "    return np.append(Ampl_w_r * rng.random(3), Ampl_w_v * rng.random(3))\n",
    "\n",
    "def MeasureError(t): # Функция шума модели наблюдения. Функция может быть любой, но ограниченной\n",
    "    rng = np.random.default_rng()\n",
    "    return np.append(Ampl_v_r * rng.random(3), Ampl_v_v * rng.random(3))\n",
    "\n",
    "def JacobianF(x):\n",
    "    r = np.copy(x[:3])\n",
    "    r_abs = np.linalg.norm(r)\n",
    "    Phi = np.zeros((6,6))\n",
    "    Phi[0:3, 3:6] = np.eye(3)\n",
    "    a = mu * J2 * R**2 / 2 * (15 * r[2]**2 / r_abs**7 - 3 / r_abs**5)\n",
    "    b = 15 * mu * J2 * R**2 / r_abs**7 * r[2]\n",
    "    Phi[3, 0] = -mu / r_abs**3 + a\n",
    "    Phi[4, 1] = -mu / r_abs**3 + a\n",
    "    Phi[5, 2] = -mu / r_abs**3 + 3*a\n",
    "    Phi[3, 2] = b * r[0]\n",
    "    Phi[4, 2] = b * r[1]\n",
    "    return Phi\n",
    "\n",
    "def JacobianH(x):\n",
    "    return np.eye(6)\n",
    "\n",
    "def time(str_t):\n",
    "    A = str_t.split(':')\n",
    "    for i in range(len(A)):\n",
    "        if A[i][0:2] == '00':\n",
    "            if len(A[i]) <= 2:\n",
    "                A[i] = '0'\n",
    "            else:\n",
    "                A[i] = '0' + A[i][2:]\n",
    "    return int(A[0]) * 3600 + int(A[1]) * 60 + float(A[2])"
   ]
  },
  {
   "cell_type": "markdown",
   "metadata": {},
   "source": [
    "## Расширенный фильтр Калмана"
   ]
  },
  {
   "cell_type": "markdown",
   "metadata": {},
   "source": [
    "### Предиктор"
   ]
  },
  {
   "cell_type": "code",
   "execution_count": 3,
   "metadata": {},
   "outputs": [],
   "source": [
    "def predictorStatus(xk_1, tk_1, tk):\n",
    "    dt = tk - tk_1\n",
    "    xk_estimated = xk_1 + FuncOrbite(tk, xk_1) * dt\n",
    "    return xk_estimated\n",
    "\n",
    "def predictorCovar(Pk_1, xk_1, tk_1, tk):\n",
    "    dt = tk - tk_1\n",
    "    Phi = np.eye(6) + JacobianF(xk_1) * dt\n",
    "    wk = ModelError(tk_1)\n",
    "    Q = np.outer(wk, wk) # Матрица ковариаций шумов модели\n",
    "    Pk_estimated = Phi @ Pk_1 @ Phi.T + Q\n",
    "    return Pk_estimated"
   ]
  },
  {
   "cell_type": "markdown",
   "metadata": {},
   "source": [
    "### Корректор"
   ]
  },
  {
   "cell_type": "code",
   "execution_count": 4,
   "metadata": {},
   "outputs": [],
   "source": [
    "def MatrixK(Pk_estimated, xk_estimated, tk):\n",
    "    vk = MeasureError(tk)\n",
    "    R = np.outer(vk, vk) # Матрица ковариаций шумов модели\n",
    "    H = JacobianH(xk_estimated)\n",
    "    \n",
    "    pk_norm = norm(Pk_estimated @ H.T) # Норма произведения первых двух матриц\n",
    "    sm_norm = norm(H @ Pk_estimated @ H.T + R) # Second Matrix Norm (норма матрицы, от которой берётся обратная)\n",
    "    A = Pk_estimated @ H.T / pk_norm # Нормированная первая часть\n",
    "    B = H @ Pk_estimated @ H.T + R / sm_norm # Нормированная вторая часть\n",
    "    # K = pk_norm / sm_norm * (A @ B^(-1))\n",
    "    \n",
    "    if np.linalg.det(B) != 0:\n",
    "        K = pk_norm / sm_norm * (A @ np.linalg.inv(B))\n",
    "    else:\n",
    "        K = np.eye(6)\n",
    "    return K\n",
    "\n",
    "def correctorStatus(xk_estimated, zk, K):\n",
    "    xk = xk_estimated + K @ (zk - FuncMeasure(xk_estimated))\n",
    "    return xk\n",
    "\n",
    "def correctorCovar(Pk_estimated, xk, K):\n",
    "    Pk = (np.eye(6) - K @ JacobianH(xk)) @ Pk_estimated\n",
    "    return Pk"
   ]
  },
  {
   "cell_type": "markdown",
   "metadata": {},
   "source": [
    "## Параметры"
   ]
  },
  {
   "cell_type": "code",
   "execution_count": 5,
   "metadata": {},
   "outputs": [],
   "source": [
    "mu = 3.986004418e5\n",
    "J2 = 0.0010827\n",
    "R = 6378.137\n",
    "\n",
    "# Параметры для w(t) - погрешности модели:\n",
    "Ampl_w_r = 1e-2\n",
    "Ampl_w_v = 1e-5\n",
    "\n",
    "# Параметры для v(t) - погрешности измерения:\n",
    "Ampl_v_r = 1e-2\n",
    "Ampl_v_v = 1e-5"
   ]
  },
  {
   "cell_type": "markdown",
   "metadata": {},
   "source": [
    "## Рабочая область"
   ]
  },
  {
   "cell_type": "code",
   "execution_count": 6,
   "metadata": {},
   "outputs": [],
   "source": [
    "data = pd.read_csv(\"iss_test.txt\", delim_whitespace=True)\n",
    "x = np.array(data.iloc[0, 1:])\n",
    "P = np.diag([Ampl_w_r, Ampl_w_r, Ampl_w_r, Ampl_w_v, Ampl_w_v, Ampl_w_v])\n",
    "status = data.copy(deep=True)\n",
    "for i in range(1, data.shape[0]):\n",
    "    t_curr = time(data.iloc[i, 0])\n",
    "    t_prev = time(data.iloc[i-1, 0])\n",
    "    x_est = predictorStatus(x, t_prev, t_curr)\n",
    "    #x = x_est\n",
    "    P_est = predictorCovar(P, x, t_prev, t_curr)\n",
    "    #print(np.linalg.norm(P_est))\n",
    "    #P = P_est\n",
    "    K = MatrixK(P_est, x_est, t_curr)\n",
    "    z = np.array(data.iloc[i, 1:])\n",
    "    x = correctorStatus(x_est, z, K)\n",
    "    P = correctorCovar(P_est, x, K)\n",
    "    status.iloc[i, 1:] = x\n",
    "    #if norm(z[0:3] - x_est[0:3]) > 100:\n",
    "    #    print(\"# iteration: \", i)\n",
    "    #    print(\"x_est = \", x_est)\n",
    "    #    print(\"z = \", z)\n",
    "    #    print(\"x = \", x)\n",
    "    #    print(\"P_est (norm) = \", norm(P_est))\n",
    "    #    print(\"P (norm) = \", norm(P))\n",
    "    #    print(\"K (norm) = \", norm(K))\n",
    "    #    print(\"====================\")"
   ]
  },
  {
   "cell_type": "markdown",
   "metadata": {},
   "source": [
    "## Отображение результатов:"
   ]
  },
  {
   "cell_type": "code",
   "execution_count": 7,
   "metadata": {},
   "outputs": [
    {
     "name": "stdout",
     "output_type": "stream",
     "text": [
      "1  Jan  2000        0.000000\n",
      "        2000        4.742033\n",
      "        2000        9.422882\n",
      "        2000       14.169294\n",
      "        2000       18.850225\n",
      "                    ...     \n",
      "        2000    -3749.460011\n",
      "        2000    62750.264515\n",
      "        2000    -3560.755008\n",
      "        2000    61780.383195\n",
      "        2000    -3503.805286\n",
      "Name: DefaultSC.EarthMJ2000Eq.Y, Length: 6001, dtype: float64\n"
     ]
    },
    {
     "data": {
      "image/png": "[encoded data removed]",
      "text/plain": [
       "<Figure size 432x288 with 1 Axes>"
      ]
     },
     "metadata": {
      "needs_background": "light"
     },
     "output_type": "display_data"
    }
   ],
   "source": [
    "print(status.iloc[:, 2])\n",
    "plt.plot(status.iloc[:, 1], status.iloc[:, 2])\n",
    "plt.show()"
   ]
  },
  {
   "cell_type": "code",
   "execution_count": 8,
   "metadata": {},
   "outputs": [
    {
     "name": "stdout",
     "output_type": "stream",
     "text": [
      "[2.36955276e-03 3.53159267e-03 7.32099720e-03 5.78224818e-06\n",
      " 9.69641940e-06 9.14473971e-06]\n",
      "[[5.61478030e-06 8.36829516e-06 1.73474892e-05 1.37013422e-08\n",
      "  2.29761774e-08 2.16689432e-08]\n",
      " [8.36829516e-06 1.24721468e-05 2.58547800e-05 2.04205453e-08\n",
      "  3.42438036e-08 3.22954957e-08]\n",
      " [1.73474892e-05 2.58547800e-05 5.35970000e-05 4.23318228e-08\n",
      "  7.09874593e-08 6.69486138e-08]\n",
      " [1.37013422e-08 2.04205453e-08 4.23318228e-08 3.34343941e-11\n",
      "  5.60671035e-11 5.28771546e-11]\n",
      " [2.29761774e-08 3.42438036e-08 7.09874593e-08 5.60671035e-11\n",
      "  9.40205492e-11 8.86712315e-11]\n",
      " [2.16689432e-08 3.22954957e-08 6.69486138e-08 5.28771546e-11\n",
      "  8.86712315e-11 8.36262643e-11]]\n",
      "[[1.e-05 0.e+00 0.e+00 0.e+00 0.e+00 0.e+00]\n",
      " [0.e+00 1.e-05 0.e+00 0.e+00 0.e+00 0.e+00]\n",
      " [0.e+00 0.e+00 1.e-05 0.e+00 0.e+00 0.e+00]\n",
      " [0.e+00 0.e+00 0.e+00 1.e-02 0.e+00 0.e+00]\n",
      " [0.e+00 0.e+00 0.e+00 0.e+00 1.e-02 0.e+00]\n",
      " [0.e+00 0.e+00 0.e+00 0.e+00 0.e+00 1.e-02]]\n"
     ]
    }
   ],
   "source": [
    "wk = ModelError(0)\n",
    "print(wk)\n",
    "Q = np.outer(wk, wk) # Матрица ковариаций шумов модели\n",
    "print(Q)\n",
    "print(np.diag([1e-5, 1e-5, 1e-5, 0.01, 0.01, 0.01]))"
   ]
  },
  {
   "cell_type": "code",
   "execution_count": 9,
   "metadata": {},
   "outputs": [
    {
     "ename": "NameError",
     "evalue": "name 'rng' is not defined",
     "output_type": "error",
     "traceback": [
      "\u001b[1;31m---------------------------------------------------------------------------\u001b[0m",
      "\u001b[1;31mNameError\u001b[0m                                 Traceback (most recent call last)",
      "\u001b[1;32m<ipython-input-9-e6fdf35a72c1>\u001b[0m in \u001b[0;36m<module>\u001b[1;34m\u001b[0m\n\u001b[1;32m----> 1\u001b[1;33m \u001b[0mnp\u001b[0m\u001b[1;33m.\u001b[0m\u001b[0mappend\u001b[0m\u001b[1;33m(\u001b[0m\u001b[0mAmpl_w_r\u001b[0m \u001b[1;33m*\u001b[0m \u001b[0mrng\u001b[0m\u001b[1;33m.\u001b[0m\u001b[0mrandom\u001b[0m\u001b[1;33m(\u001b[0m\u001b[1;36m3\u001b[0m\u001b[1;33m)\u001b[0m\u001b[1;33m,\u001b[0m \u001b[0mAmpl_w_v\u001b[0m \u001b[1;33m*\u001b[0m \u001b[0mrng\u001b[0m\u001b[1;33m.\u001b[0m\u001b[0mrandom\u001b[0m\u001b[1;33m(\u001b[0m\u001b[1;36m3\u001b[0m\u001b[1;33m)\u001b[0m\u001b[1;33m)\u001b[0m\u001b[1;33m\u001b[0m\u001b[1;33m\u001b[0m\u001b[0m\n\u001b[0m",
      "\u001b[1;31mNameError\u001b[0m: name 'rng' is not defined"
     ]
    }
   ],
   "source": [
    "np.append(Ampl_w_r * rng.random(3), Ampl_w_v * rng.random(3))"
   ]
  },
  {
   "cell_type": "code",
   "execution_count": null,
   "metadata": {},
   "outputs": [],
   "source": [
    "A = np.array([[0.0101, -0.012, 0.01], [0.013, -0.01, 0.008], [-0.009, 0.012, 0.011]])\n",
    "print(A)\n",
    "print(np.linalg.inv(A))"
   ]
  },
  {
   "cell_type": "code",
   "execution_count": null,
   "metadata": {},
   "outputs": [],
   "source": []
  }
 ],
 "metadata": {
  "kernelspec": {
   "display_name": "Python 3",
   "language": "python",
   "name": "python3"
  },
  "language_info": {
   "codemirror_mode": {
    "name": "ipython",
    "version": 3
   },
   "file_extension": ".py",
   "mimetype": "text/x-python",
   "name": "python",
   "nbconvert_exporter": "python",
   "pygments_lexer": "ipython3",
   "version": "3.8.5"
  }
 },
 "nbformat": 4,
 "nbformat_minor": 4
}
