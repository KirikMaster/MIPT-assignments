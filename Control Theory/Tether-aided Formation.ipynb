{
 "cells": [
  {
   "cell_type": "markdown",
   "id": "cdf6323b-61d5-4d4b-a058-484d4c7a76ff",
   "metadata": {},
   "source": [
    "# Задача поддержания связанной структуры спутников"
   ]
  },
  {
   "cell_type": "markdown",
   "id": "cf9c0d32-d78c-487a-bda9-d9adea293c58",
   "metadata": {},
   "source": [
    "## Импорт необходимых библиотек"
   ]
  },
  {
   "cell_type": "code",
   "execution_count": null,
   "id": "92d443f9-dcb1-4ac0-80e3-145d33e4d68e",
   "metadata": {},
   "outputs": [],
   "source": [
    "import matplotlib.pyplot as plt\n",
    "import numpy as np\n",
    "from math import *"
   ]
  },
  {
   "cell_type": "markdown",
   "id": "18bae76e-166b-4b03-8282-cfd6a4186ec7",
   "metadata": {},
   "source": [
    "## Функции"
   ]
  },
  {
   "cell_type": "code",
   "execution_count": null,
   "id": "c25c363a-2eda-4790-9a5f-696e11b566a7",
   "metadata": {},
   "outputs": [],
   "source": [
    "def FuncOrbite(x): # Функция, задающая уравнения движения\n",
    "    r = np.copy(x[:3])\n",
    "    r_abs = np.linalg.norm(r)\n",
    "    v = np.copy(x[3:])\n",
    "    second_order = (np.array([r[0]*r[2]**2, r[1]*r[2]**2, r[2]**3]) * 15 / r_abs**7 -\n",
    "                    np.array([3*r[0], 3*r[1], 9*r[2]]) / r_abs**5) * mu * J2 * R**2 / 2 \n",
    "    return np.concatenate((v, -mu * r / r_abs**3 + second_order), axis=0)\n",
    "\n",
    "def FuncModel(x):\n",
    "    #x = x1 y1 z1 vx1 vy1 vz1 x2 y2 z2 vx2 vy2 vz2 x3 y3 z3 vx3 vy3 vz3 x4 y4 z4 vx4 vy4 vz4 | r  vx h  i  theta\n",
    "    #    0  1  2  3   4   5   6  7  8  9   10  11  12 13 14 15  16  17  18 19 20 21  22  23  | 24 25 26 27 28    = 29\n",
    "    (x1, y1, z1, vx1, vy1, vz1, x2, y2, z2, vx2, vy2, vz2, x3, y3, z3, vx3, vy3, vz3, x4, y4, z4, vx4, vy4, vz4, r, vx, h, i, theta) = x\n",
    "    y = np.empty((29,))\n",
    "    # Параметры\n",
    "    wx = -KJ2 * sin(2*i) * sin(theta) / h / r**3\n",
    "    wz = h / r**2\n",
    "    alphax = -KJ2 * sin(2*i) * cos(theta) / r**5 + 3*vx * KJ2 * sin(2*i) * sin(theta) / h / r**4\n",
    "    - 8*KJ2**2 * sin(i)**3 * sin(theta)**2 * cos(i) * cos(theta) / h**2 / r**6\n",
    "    alphaz = \n",
    "\n",
    "def Quality_Factor():\n",
    "    pass"
   ]
  },
  {
   "cell_type": "markdown",
   "id": "911389c6-2f8b-4349-82ff-69f6751ab0ba",
   "metadata": {},
   "source": [
    "## Параметры"
   ]
  },
  {
   "cell_type": "code",
   "execution_count": null,
   "id": "5c9f9ccb-12c9-4276-ab7f-d77f3730f5af",
   "metadata": {
    "tags": []
   },
   "outputs": [],
   "source": [
    "# Общие\n",
    "J2 = 0.0010827 # второй зональная гармоника геопотенциала Земли\n",
    "mu = 3.986004418e5 # км^3/с^2 - гравитационный параметр\n",
    "R = 6371.137 # км - радиус Земли\n",
    "\n",
    "kJ2 = 1.5 * J2 * mu * R**2 # км/с^2 - постоянная второй сферической гармоники Земли\n",
    "\n",
    "# HCW константы околокруговой орбиты\n",
    "C1 = 288.675 # м\n",
    "C2 = 250 # м\n",
    "alpha_TC = 60 # град\n",
    "alpha_SC3 = 180 # град\n",
    "alpha_SC4 = 300 # град\n",
    "\n",
    "# Спутники\n",
    "m = np.array([])\n",
    "\n",
    "# Связка\n",
    "l0 = 500 # м - длина связки\n",
    "m_tether = 4 # кг \n",
    "k = 10 # Н/м - постоянная пружины\n",
    "b = 0 # кг/с"
   ]
  },
  {
   "cell_type": "markdown",
   "id": "4a99e8bf-b37b-4da1-aa38-a559ce18318b",
   "metadata": {},
   "source": [
    "## Начальные условия"
   ]
  },
  {
   "cell_type": "code",
   "execution_count": 1,
   "id": "e84d772e-836b-4695-ae2d-60afb9a30924",
   "metadata": {},
   "outputs": [],
   "source": [
    "# Orbital Frame\n",
    "r = 6878137 # м - длина радиуса вектора ОСК\n",
    "v = 0 # м/с - скорость ОСК\n",
    "h = 5.236e10 # м^2/с\n",
    "i = 90 # град - наклонение ОСК\n",
    "theta = 0 # град - истинная аномалия ОСК\n",
    "\n",
    "# Tether\n",
    "TC = np.array([125, 144.34, 216.5, 0.08, -0.276, 0.138]) # Tether Center, первые 3 - коориднаты, последние 3 - скорости\n",
    "\n",
    "# Tethered spacecrafts\n",
    "SC1 = np.array([375.00055, 144.34, 216.5, 0.08, -0.276, 0.138]) # Space Craft №1, первые 3 - коориднаты, последние 3 - скорости\n",
    "SC2 = np.array([-125.00055, 144.34, 216.5, 0.08, -0.276, 0.138]) # Space Craft №2, первые 3 - коориднаты, последние 3 - скорости\n",
    "\n",
    "# Free-flying spacecrafts\n",
    "SC3 = np.array([0, -288.675, 0, -0.159, 0, -0.276]) # Space Craft №3, первые 3 - коориднаты, последние 3 - скорости\n",
    "SC4 = np.array([-125, 144.337, -216.5, 0.08, 0.276, 0.138]) # Space Craft №4, первые 3 - коориднаты, последние 3 - скорости"
   ]
  },
  {
   "cell_type": "markdown",
   "id": "4a37c632-cdb1-44c9-bc94-7b97c177fa6c",
   "metadata": {},
   "source": [
    "## Рабочая область"
   ]
  },
  {
   "cell_type": "code",
   "execution_count": null,
   "id": "55347238-a3d8-47b1-94cb-29e2adada357",
   "metadata": {},
   "outputs": [],
   "source": []
  },
  {
   "cell_type": "markdown",
   "id": "49c3a734-d31d-4a84-8ff3-b78be250ef0e",
   "metadata": {},
   "source": [
    "## Отображение результатов"
   ]
  }
 ],
 "metadata": {
  "kernelspec": {
   "display_name": "Python 3",
   "language": "python",
   "name": "python3"
  },
  "language_info": {
   "codemirror_mode": {
    "name": "ipython",
    "version": 3
   },
   "file_extension": ".py",
   "mimetype": "text/x-python",
   "name": "python",
   "nbconvert_exporter": "python",
   "pygments_lexer": "ipython3",
   "version": "3.8.8"
  }
 },
 "nbformat": 4,
 "nbformat_minor": 5
}
