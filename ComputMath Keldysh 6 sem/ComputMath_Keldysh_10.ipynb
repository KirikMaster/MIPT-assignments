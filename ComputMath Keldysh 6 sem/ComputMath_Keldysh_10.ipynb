{
 "cells": [
  {
   "cell_type": "code",
   "execution_count": 24,
   "id": "d6911f80-d512-4058-a997-70b44aa29f50",
   "metadata": {},
   "outputs": [],
   "source": [
    "import numpy as np\n",
    "from math import *\n",
    "from numpy.linalg import norm"
   ]
  },
  {
   "cell_type": "code",
   "execution_count": 25,
   "id": "033370ce-73fe-4af9-a914-2d46d8c95187",
   "metadata": {},
   "outputs": [],
   "source": [
    "def osc2eqx(y):\n",
    "    #y = a,  e,  i,  Ω,  ω, M0\n",
    "    #z = p, ex, ey, ix, iy,  L\n",
    "    #    0,  1,  2,  3,  4,  5\n",
    "    z = np.empty((6,))\n",
    "    z[0] = y[0] * (1 - y[1]**2)\n",
    "    z[1] = y[1] * cos(y[4] + y[3])\n",
    "    z[2] = y[1] * sin(y[4] + y[3])\n",
    "    z[3] = tan(y[2] / 2) * cos(y[3])\n",
    "    z[4] = tan(y[2] / 2) * sin(y[3])\n",
    "    M = y[5] + sqrt(mu / y[0]**3) * (t - t0)\n",
    "    z[5] = 1 # Здесь должны быть ещё уравнения"
   ]
  },
  {
   "cell_type": "code",
   "execution_count": 26,
   "id": "76f16595-1fa5-431b-81b8-eeecf9921d58",
   "metadata": {},
   "outputs": [],
   "source": [
    "def vector_mm(vector):\n",
    "    A = np.zeros((3, 3))\n",
    "    A[0, 1] = -vector[2]\n",
    "    A[0, 2] = vector[1]\n",
    "    A[1, 2] = -vector[0]\n",
    "    A = A - A.T\n",
    "    return A"
   ]
  },
  {
   "cell_type": "code",
   "execution_count": 27,
   "id": "0c61c2bf-adde-42b0-ba8b-ec70a117644e",
   "metadata": {},
   "outputs": [],
   "source": [
    "def integral_h(r, v):\n",
    "    return norm(v)**2 - 2*mu / norm(r)"
   ]
  },
  {
   "cell_type": "code",
   "execution_count": 28,
   "id": "313b7566-9c8f-45e8-a8b6-02e15b9237a6",
   "metadata": {},
   "outputs": [],
   "source": [
    "def integral_c(r, v):\n",
    "    c = vector_mm(r) @ v\n",
    "    c0 = norm(c)\n",
    "    return (c, c0)"
   ]
  },
  {
   "cell_type": "code",
   "execution_count": 29,
   "id": "2871431e-24e5-4073-9f95-26bf95eb163b",
   "metadata": {},
   "outputs": [],
   "source": [
    "def integral_A(r, v):\n",
    "    c = integral_c(r, v)[0]\n",
    "    return vector_mm(v) @ c - mu * r / norm(r) "
   ]
  },
  {
   "cell_type": "code",
   "execution_count": 30,
   "id": "5a362095-b616-4bfe-b816-32371896aa8d",
   "metadata": {},
   "outputs": [],
   "source": [
    "def eqx2rv(z):\n",
    "    #z = p, ex, ey, ix, iy, L\n",
    "    #    0,  1,  2,  3,  4, 5\n",
    "    f = sqrt(mu * z[0]) / (1 + z[3]**2 + z[4]**2) * np.array([1 + z[3]**2 - z[4]**2, 2*z[3]*z[4], -2*z[4]])\n",
    "    g = sqrt(mu * z[0]) / (1 + z[3]**2 + z[4]**2) * np.array([2*z[3]*z[4], 1 - z[3]**2 + z[4]**2,  2*z[3]])\n",
    "    rvect = sqrt(z[0]/mu) * (f * cos(z[5]) + g * sin(z[5])) / (1 + z[1]*cos(z[5]) + z[2]*sin(z[5]))\n",
    "    vvect = (z[1] + cos(z[5])) / z[0] * g - (z[2] + sin(z[5])) / z[0] * f\n",
    "    return np.append(rvect, vvect)"
   ]
  },
  {
   "cell_type": "code",
   "execution_count": 39,
   "id": "64aa1aa5-296c-4efb-b6c5-b5181430560a",
   "metadata": {},
   "outputs": [],
   "source": [
    "def rv2eqx(rv):\n",
    "    #z = p, ex, ey, ix, iy, L\n",
    "    #    0,  1,  2,  3,  4, 5\n",
    "    z = np.empty((6,))\n",
    "    rvect = rv[0:3].copy()\n",
    "    vvect = rv[3:6].copy()\n",
    "    A = integral_A(rvect, vvect)\n",
    "    c, c0 = integral_c(rvect, vvect)\n",
    "    f = np.array([c0 - c[0]**2 / (c0 + c[2]), -c[0]*c[1] / (c0 + c[2]), -c[0]])\n",
    "    g = np.array([-c[0]*c[1] / (c0 + c[2]), c0 - c[1]**2 / (c0 + c[2]), -c[1]])\n",
    "    z[0] = c0**2 / mu\n",
    "    z[1] = np.dot(A, f) / c0 / mu\n",
    "    z[2] = np.dot(A, g) / c0 / mu\n",
    "    z[3] = -c[1]/(c0 + c[2])\n",
    "    z[4] = c[0]/(c0 + c[2])\n",
    "    z[5] = atan2(np.dot(rvect, g), np.dot(rvect, f))\n",
    "    return z"
   ]
  },
  {
   "cell_type": "code",
   "execution_count": 40,
   "id": "6fd95ef0-4c2e-4a85-87af-9e366f0c18da",
   "metadata": {},
   "outputs": [],
   "source": [
    "mu = 1"
   ]
  },
  {
   "cell_type": "code",
   "execution_count": 41,
   "id": "004f7d0e-2980-4b98-806e-aa14d4dd4eb9",
   "metadata": {},
   "outputs": [
    {
     "name": "stdout",
     "output_type": "stream",
     "text": [
      "[ 1.  0. -0. -0.  1.  0.]\n"
     ]
    }
   ],
   "source": [
    "r = np.array([1.0, 0.0, 0.0])\n",
    "v = np.array([0.0, 1.0, 0.0])\n",
    "print(eqx2rv(rv2eqx(np.append(r, v))))"
   ]
  },
  {
   "cell_type": "code",
   "execution_count": 52,
   "id": "8494bc2a-acdb-474b-a329-186a2d36d8d3",
   "metadata": {},
   "outputs": [
    {
     "name": "stdout",
     "output_type": "stream",
     "text": [
      "2.0237926356358747e-12\n",
      "1.8399423693986424e-12\n",
      "2.838035515776108e-12\n"
     ]
    }
   ],
   "source": [
    "k = 10\n",
    "for i in range(10000):\n",
    "    x = np.empty((6,))\n",
    "    for j in range(6):\n",
    "        x[j] = k * (1 - 2 * np.random.random())\n",
    "    bar = norm(x - eqx2rv(rv2eqx(x)))\n",
    "    if bar > 1e-12:\n",
    "        print(bar)"
   ]
  },
  {
   "cell_type": "code",
   "execution_count": null,
   "id": "6a3537b9-df60-4ab6-b629-f8db459a1b23",
   "metadata": {},
   "outputs": [],
   "source": []
  }
 ],
 "metadata": {
  "kernelspec": {
   "display_name": "Python 3",
   "language": "python",
   "name": "python3"
  },
  "language_info": {
   "codemirror_mode": {
    "name": "ipython",
    "version": 3
   },
   "file_extension": ".py",
   "mimetype": "text/x-python",
   "name": "python",
   "nbconvert_exporter": "python",
   "pygments_lexer": "ipython3",
   "version": "3.8.8"
  }
 },
 "nbformat": 4,
 "nbformat_minor": 5
}
