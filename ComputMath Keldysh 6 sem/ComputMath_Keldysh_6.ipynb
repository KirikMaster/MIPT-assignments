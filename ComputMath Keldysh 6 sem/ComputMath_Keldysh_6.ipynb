{
 "cells": [
  {
   "cell_type": "code",
   "execution_count": 2,
   "id": "e22069b9-c423-4f7c-9d7a-1118cff923bd",
   "metadata": {
    "tags": []
   },
   "outputs": [],
   "source": [
    "import numpy as np\n",
    "from scipy.integrate import solve_ivp\n",
    "import matplotlib.pyplot as plt"
   ]
  },
  {
   "cell_type": "code",
   "execution_count": 3,
   "id": "a6eaa553-6256-4dd7-b39f-e778de26aa1b",
   "metadata": {},
   "outputs": [],
   "source": [
    "def func(t, z):\n",
    "    rvect = z[0:3]\n",
    "    vvect = z[3:6]\n",
    "    r = np.linalg.norm(rvect)\n",
    "    dzdt = np.empty((6,))\n",
    "    dzdt[0:3] = vvect.copy()\n",
    "    dzdt[3:6] = -rvect/r**3\n",
    "    return dzdt"
   ]
  },
  {
   "cell_type": "code",
   "execution_count": 27,
   "id": "5cf81d08-d72d-4fa3-98ff-fc11e9440ea7",
   "metadata": {},
   "outputs": [],
   "source": [
    "def event_func(t, z):\n",
    "    return z[0]\n",
    "\n",
    "event_func.terminal = True\n",
    "event_func.direction = +1"
   ]
  },
  {
   "cell_type": "code",
   "execution_count": 28,
   "id": "ed5482f0-328c-45e3-a447-c7ba03c8ee02",
   "metadata": {},
   "outputs": [],
   "source": [
    "rvect0 = np.array([1.0, 0.0, 0.0])\n",
    "vvect0 = np.array([0.0, 1.0, 0.0])\n",
    "y0 = np.append(rvect0, vvect0)\n",
    "t0 = 0.0\n",
    "tf = 2*np.pi"
   ]
  },
  {
   "cell_type": "code",
   "execution_count": 29,
   "id": "aa80ac14-44eb-4a57-9c42-082186e24f25",
   "metadata": {},
   "outputs": [],
   "source": [
    "sol = solve_ivp(func, [t0, tf], y0, atol=1e-06, rtol=1e-06, events=event_func)"
   ]
  },
  {
   "cell_type": "code",
   "execution_count": 30,
   "id": "2923571d-70fc-432c-a9da-77878cfc3b68",
   "metadata": {},
   "outputs": [
    {
     "data": {
      "text/plain": [
       "[<matplotlib.lines.Line2D at 0x1cee3009160>]"
      ]
     },
     "execution_count": 30,
     "metadata": {},
     "output_type": "execute_result"
    },
    {
     "data": {
      "image/png": "[encoded data removed]",
      "text/plain": [
       "<Figure size 432x288 with 1 Axes>"
      ]
     },
     "metadata": {
      "needs_background": "light"
     },
     "output_type": "display_data"
    }
   ],
   "source": [
    "plt.plot(sol.y[0, :], sol.y[1, :])"
   ]
  },
  {
   "cell_type": "code",
   "execution_count": 31,
   "id": "9e59a588-25b0-4cf1-addc-fa37837aa9dd",
   "metadata": {},
   "outputs": [
    {
     "data": {
      "text/plain": [
       "[array([[-4.02455846e-16, -9.99973752e-01,  0.00000000e+00,\n",
       "          1.00001884e+00, -6.44768836e-06,  0.00000000e+00]])]"
      ]
     },
     "execution_count": 31,
     "metadata": {},
     "output_type": "execute_result"
    }
   ],
   "source": [
    "sol.y_events"
   ]
  }
 ],
 "metadata": {
  "kernelspec": {
   "display_name": "Python 3",
   "language": "python",
   "name": "python3"
  },
  "language_info": {
   "codemirror_mode": {
    "name": "ipython",
    "version": 3
   },
   "file_extension": ".py",
   "mimetype": "text/x-python",
   "name": "python",
   "nbconvert_exporter": "python",
   "pygments_lexer": "ipython3",
   "version": "3.8.8"
  }
 },
 "nbformat": 4,
 "nbformat_minor": 5
}
