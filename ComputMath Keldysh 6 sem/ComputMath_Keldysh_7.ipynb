{
 "cells": [
  {
   "cell_type": "markdown",
   "id": "da427156-3ee3-4e48-82be-f40cb7691276",
   "metadata": {},
   "source": [
    "# Метод пристрелки"
   ]
  },
  {
   "cell_type": "code",
   "execution_count": 4,
   "id": "5630fa27-e812-470f-92ac-8f3b06bf7453",
   "metadata": {},
   "outputs": [],
   "source": [
    "import numpy as np\n",
    "from scipy.optimize import root\n",
    "from scipy.integrate import solve_ivp\n",
    "import matplotlib.pyplot as plt"
   ]
  },
  {
   "cell_type": "code",
   "execution_count": 3,
   "id": "e1b66b61-7d12-40c5-b522-c47015a9e599",
   "metadata": {},
   "outputs": [],
   "source": [
    "def r2bp(t, y):\n",
    "    rvect = y[0:3].copy()\n",
    "    vvect = y[3:6].copy()\n",
    "    dydt = np.append(vvect, -rvect/np.linalg.norm(rvect)**3)\n",
    "    return dydt"
   ]
  },
  {
   "cell_type": "code",
   "execution_count": 6,
   "id": "8f998c62-b049-4de2-824f-8dd1ee06cbb0",
   "metadata": {},
   "outputs": [],
   "source": [
    "def residue(x, t0, tf, R0, Rf):\n",
    "    y0 = np.append(R0, x)\n",
    "    sol = solve_ivp(r2bp, [t0, tf], y0, method='RK45', atol=1e-06, rtol=1e-06)\n",
    "    rf = sol.y[0:3,-1]\n",
    "    f = rf - Rf\n",
    "    return f"
   ]
  },
  {
   "cell_type": "code",
   "execution_count": 7,
   "id": "e6be7502-5f8a-46b7-a506-6f286e192a1b",
   "metadata": {},
   "outputs": [],
   "source": [
    "t0 = 0.0\n",
    "tf = np.pi/2\n",
    "R0 = np.array([1.0, 0.0, 0.0])\n",
    "Rf = np.array([0.0, 1.0, 0.0])\n",
    "x0 = np.array([1/2, 1/2, 0.0])\n",
    "func = lambda x : residue(x, t0, tf, R0, Rf)\n",
    "sol = root(func, x0, method='lm')"
   ]
  },
  {
   "cell_type": "code",
   "execution_count": 8,
   "id": "3ba4cf29-d54c-4c00-a10b-52932326eb84",
   "metadata": {},
   "outputs": [
    {
     "data": {
      "text/plain": [
       "   cov_x: array([[ 3.07054901e-01, -2.85671180e-01, -1.34570444e-38],\n",
       "       [-2.85671180e-01,  4.87623827e-01, -1.78804850e-38],\n",
       "       [-1.34570444e-38, -1.78804850e-38,  1.00000765e+00]])\n",
       "    fjac: array([[-2.67551562e+00,  4.69151010e-01,  6.40307507e-38],\n",
       "       [-1.56743305e+00, -1.43204789e+00,  4.15579280e-38],\n",
       "       [-6.40305058e-38, -2.56055148e-38, -9.99996175e-01]])\n",
       "     fun: array([-7.51794658e-10, -5.28792676e-10, -1.54037399e-45])\n",
       "    ipvt: array([1, 2, 3], dtype=int32)\n",
       " message: 'The relative error between two consecutive iterates is at most 0.000000'\n",
       "    nfev: 43\n",
       "     qtf: array([ 6.31682103e-09,  7.05465064e-10, -1.37027746e-37])\n",
       "  status: 2\n",
       " success: True\n",
       "       x: array([ 4.02645870e-06,  1.00000381e+00, -1.54037987e-45])"
      ]
     },
     "execution_count": 8,
     "metadata": {},
     "output_type": "execute_result"
    }
   ],
   "source": [
    "sol"
   ]
  },
  {
   "cell_type": "markdown",
   "id": "a58f302b-00a5-44ab-98f2-b1e68f8ae365",
   "metadata": {},
   "source": []
  }
 ],
 "metadata": {
  "kernelspec": {
   "display_name": "Python 3",
   "language": "python",
   "name": "python3"
  },
  "language_info": {
   "codemirror_mode": {
    "name": "ipython",
    "version": 3
   },
   "file_extension": ".py",
   "mimetype": "text/x-python",
   "name": "python",
   "nbconvert_exporter": "python",
   "pygments_lexer": "ipython3",
   "version": "3.8.8"
  }
 },
 "nbformat": 4,
 "nbformat_minor": 5
}
