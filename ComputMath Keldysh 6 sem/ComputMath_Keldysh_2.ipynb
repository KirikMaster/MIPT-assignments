{
 "cells": [
  {
   "cell_type": "code",
   "execution_count": 6,
   "id": "ed379ef5-d4d0-4b55-a9d7-c35f0b647257",
   "metadata": {},
   "outputs": [],
   "source": [
    "import numpy as np"
   ]
  },
  {
   "cell_type": "markdown",
   "id": "e1d08f51-ba02-4cfc-9f9a-ee4b12b27e99",
   "metadata": {},
   "source": [
    "## Задача 32"
   ]
  },
  {
   "cell_type": "code",
   "execution_count": 9,
   "id": "e2ee69e7-5cc3-4907-9d9b-83ec90d113a3",
   "metadata": {},
   "outputs": [],
   "source": [
    "def myFunc(t, y):\n",
    "    res = np.array([t + y[0], t**2 + y[1]])\n",
    "    return res"
   ]
  },
  {
   "cell_type": "markdown",
   "id": "8e55dab1-7271-483b-bb2b-afc76dd0e777",
   "metadata": {},
   "source": [
    "## Задача 33"
   ]
  },
  {
   "cell_type": "code",
   "execution_count": 16,
   "id": "1b070475-9547-4d15-b2b2-193cb028d4e1",
   "metadata": {},
   "outputs": [],
   "source": [
    "def myFunc2(t, y):\n",
    "    return np.array([y[1], - y[0]])"
   ]
  },
  {
   "cell_type": "code",
   "execution_count": 23,
   "id": "1226bba3-9c44-482a-bede-f7edbd08a4cf",
   "metadata": {},
   "outputs": [
    {
     "name": "stdout",
     "output_type": "stream",
     "text": [
      "15 [1 2] [ 2 -1]\n",
      "15 [1 2] [ 1 -2]\n",
      "15 [1 2] [5, 5]\n"
     ]
    }
   ],
   "source": [
    "t = 15\n",
    "v = np.array([1, 2])\n",
    "w = myFunc2(t, v)\n",
    "print(t, v, w)\n",
    "w[0] -= 1\n",
    "w[1] -= 1\n",
    "print(t, v, w)\n",
    "w = [5, 5]\n",
    "print(t, v, w)"
   ]
  },
  {
   "cell_type": "markdown",
   "id": "799a2c36-cc46-4409-8a77-c90a34b713ff",
   "metadata": {},
   "source": [
    "Как видно, входные переменные от выходных не зависят"
   ]
  },
  {
   "cell_type": "markdown",
   "id": "0fc85791-338a-4b8e-938d-7128f2485aa7",
   "metadata": {},
   "source": [
    "## Задача 34"
   ]
  },
  {
   "cell_type": "code",
   "execution_count": 24,
   "id": "db1e48e9-e4fc-406f-b97d-ebf4bc9301e0",
   "metadata": {},
   "outputs": [],
   "source": [
    "def myFunc34(t, y):\n",
    "    return y / np.linalg.norm(y)**3"
   ]
  },
  {
   "cell_type": "code",
   "execution_count": 28,
   "id": "21df78a2-f8a4-4b76-b408-d8b0c7a6c227",
   "metadata": {},
   "outputs": [
    {
     "name": "stdout",
     "output_type": "stream",
     "text": [
      "15 [2 0 0] [0.25 0.   0.  ]\n",
      "15 [2 0 0] [0.476 0.226 0.226]\n"
     ]
    }
   ],
   "source": [
    "t = 15\n",
    "v = np.array([2, 0, 0])\n",
    "w = myFunc34(t, v)\n",
    "print(t, v, w)\n",
    "w += 0.226\n",
    "print(t, v, w)"
   ]
  },
  {
   "cell_type": "markdown",
   "id": "6b7c8e3a-736b-400d-8ce7-f1db07920f64",
   "metadata": {},
   "source": [
    "## Задача 35"
   ]
  },
  {
   "cell_type": "code",
   "execution_count": 33,
   "id": "c405daac-9ffc-4b10-b749-ff99d5dd9ec8",
   "metadata": {},
   "outputs": [],
   "source": [
    "def myFunc35(t, y):\n",
    "    r = np.copy(y[:3])\n",
    "    v = np.copy(y[3:])\n",
    "    return r, v"
   ]
  },
  {
   "cell_type": "code",
   "execution_count": 34,
   "id": "2c25d55c-727d-4e78-aa26-90cadf3877ed",
   "metadata": {},
   "outputs": [
    {
     "name": "stdout",
     "output_type": "stream",
     "text": [
      "[1.    0.    0.    0.    0.778 0.   ] \n",
      " [1. 0. 0.] \n",
      " [0.    0.778 0.   ]\n",
      "[1.    0.    0.    0.    0.778 0.   ] \n",
      " [0.7 0.7 0. ] \n",
      " [-1.5    0.778  0.   ]\n"
     ]
    }
   ],
   "source": [
    "t = 0\n",
    "q = np.array([1, 0, 0, 0, 0.778, 0])\n",
    "r, v = myFunc35(t, q)\n",
    "print(q, '\\n', r, '\\n', v)\n",
    "r[0] = 0.7\n",
    "r[1] = 0.7\n",
    "v[0] = -1.5\n",
    "print(q, '\\n', r, '\\n', v)"
   ]
  },
  {
   "cell_type": "markdown",
   "id": "138553d0-b49e-4495-9e5d-09f31784f6b3",
   "metadata": {},
   "source": [
    "## Задача 36"
   ]
  },
  {
   "cell_type": "code",
   "execution_count": 48,
   "id": "ef2bddf2-4c22-44c6-b4df-0696e3ca8594",
   "metadata": {},
   "outputs": [],
   "source": [
    "def myFunc36(t, y, mu):\n",
    "    r = np.copy(y[:3])\n",
    "    v = np.copy(y[3:])\n",
    "    return np.concatenate((v, -mu * r / np.linalg.norm(r)**3), axis=0)"
   ]
  },
  {
   "cell_type": "code",
   "execution_count": 47,
   "id": "b3f3f3bc-8818-4e4f-bc09-b5d20b1b3ef9",
   "metadata": {},
   "outputs": [
    {
     "name": "stdout",
     "output_type": "stream",
     "text": [
      "[-1.5         1.2         0.         -0.         -0.58274744 -0.66599707]\n",
      "[ 0.   0.7  0.8 -1.5  1.2  0. ]\n"
     ]
    }
   ],
   "source": [
    "t = 15\n",
    "mu = 1\n",
    "q = np.array([0, 0.7, 0.8, -1.5, 1.2, 0])\n",
    "z = myFunc36(t, q, mu)\n",
    "print(z)\n",
    "z[0] = 0\n",
    "print(q)"
   ]
  },
  {
   "cell_type": "code",
   "execution_count": null,
   "id": "201a2e1c-257f-420a-93b1-6226462541c1",
   "metadata": {},
   "outputs": [],
   "source": []
  }
 ],
 "metadata": {
  "kernelspec": {
   "display_name": "Python 3",
   "language": "python",
   "name": "python3"
  },
  "language_info": {
   "codemirror_mode": {
    "name": "ipython",
    "version": 3
   },
   "file_extension": ".py",
   "mimetype": "text/x-python",
   "name": "python",
   "nbconvert_exporter": "python",
   "pygments_lexer": "ipython3",
   "version": "3.8.8"
  }
 },
 "nbformat": 4,
 "nbformat_minor": 5
}
