{
 "cells": [
  {
   "cell_type": "code",
   "execution_count": 22,
   "id": "e889f3d6-a30b-42af-9633-1344f1431548",
   "metadata": {},
   "outputs": [],
   "source": [
    "import numpy as np\n",
    "import matplotlib.pyplot as plt"
   ]
  },
  {
   "cell_type": "markdown",
   "id": "2fec85ff-8862-4b7f-8bc2-af03ca43ed63",
   "metadata": {},
   "source": [
    "## Функции"
   ]
  },
  {
   "cell_type": "code",
   "execution_count": 78,
   "id": "dbbf980c-e667-42e7-8af5-06d3429f812e",
   "metadata": {},
   "outputs": [],
   "source": [
    "def FuncOrbite(t, y, mu):\n",
    "    r = np.copy(y[:3])\n",
    "    v = np.copy(y[3:])\n",
    "    return np.concatenate((v, -mu * r / np.linalg.norm(r)**3), axis=0)\n",
    "\n",
    "def Euler(h, y, N, func):\n",
    "    sol = np.zeros((N, y.size))\n",
    "    sol[0] = y\n",
    "    T = np.linspace(0, N*h, N)\n",
    "    print(T)\n",
    "    for t in range(1, N):\n",
    "        k1 = func(T[t-1], y, mu)\n",
    "        y = y + h * k1\n",
    "        sol[t] = y\n",
    "    return sol\n",
    "\n",
    "def RK4(h, y, N, func):\n",
    "    sol = np.zeros((N, y.size))\n",
    "    sol[0] = y\n",
    "    T = np.linspace(0, N*h, N)\n",
    "    for t in range(1, N):\n",
    "        k1 = func(t, y, mu)\n",
    "        k2 = func(t + h/2, y + h * k1 / 2, mu)\n",
    "        k3 = func(t + h/2, y + h * k2 / 2, mu)\n",
    "        k4 = func(t + h, y + h * k3, mu)\n",
    "        y = y + h / 6 * (k1 + 2*k2 + 2*k3 + k4)\n",
    "        sol[t] = y\n",
    "    return sol"
   ]
  },
  {
   "cell_type": "markdown",
   "id": "13584efd-adb6-4208-afcd-05e06a75677c",
   "metadata": {},
   "source": [
    "## Задача"
   ]
  },
  {
   "cell_type": "code",
   "execution_count": 107,
   "id": "a69a6727-ec8d-46f8-aa43-3eed4c7f414b",
   "metadata": {
    "tags": []
   },
   "outputs": [],
   "source": [
    "mu = 1\n",
    "y0 = np.array([70, 0, 0, 0, 0.1, 0])\n",
    "N = 300\n",
    "h = 10\n",
    "solution = RK4(h, y0, N, FuncOrbite)"
   ]
  },
  {
   "cell_type": "markdown",
   "id": "3e0f7aea-4c2a-4c8d-b991-2feaec789713",
   "metadata": {},
   "source": [
    "## Представление результатов"
   ]
  },
  {
   "cell_type": "code",
   "execution_count": 108,
   "id": "60e3eb14-9dc7-4bff-a64d-a701bf771e5e",
   "metadata": {},
   "outputs": [],
   "source": [
    "#for i in range(y0.size):\n",
    "    #print(solution[:,i])"
   ]
  },
  {
   "cell_type": "code",
   "execution_count": 109,
   "id": "ef196e1f-d68f-425b-b2f3-22fd176cce9b",
   "metadata": {},
   "outputs": [
    {
     "data": {
      "text/plain": [
       "<function matplotlib.pyplot.show(close=None, block=None)>"
      ]
     },
     "execution_count": 109,
     "metadata": {},
     "output_type": "execute_result"
    },
    {
     "data": {
      "image/png": "[encoded data removed]",
      "text/plain": [
       "<Figure size 432x288 with 1 Axes>"
      ]
     },
     "metadata": {
      "needs_background": "light"
     },
     "output_type": "display_data"
    }
   ],
   "source": [
    "theta = np.linspace(0, 2*np.pi, 100)\n",
    "fig, ax = plt.subplots()\n",
    "#X, Y = coords(rad(theta, i), theta)\n",
    "ax.plot(solution[:, 0], solution[:, 1])\n",
    "ax.set_xlim(-100, 100)\n",
    "ax.set_ylim(-100, 100)\n",
    "ax.set_title('Движение по орбите', size=12)\n",
    "ax.grid()\n",
    "ax.set_xlabel('x', size=12)\n",
    "ax.set_ylabel('y', size=12)\n",
    "plt.show"
   ]
  },
  {
   "cell_type": "code",
   "execution_count": 13,
   "id": "9ed5805a-4559-425c-adfd-4700ffab5725",
   "metadata": {},
   "outputs": [
    {
     "name": "stdout",
     "output_type": "stream",
     "text": [
      "<class 'numpy.ndarray'>\n"
     ]
    }
   ],
   "source": [
    "cra = np.array([7e6, 0, 0, 0, 8e6, 0])\n",
    "k1 = FuncOrbite(0, cra, mu)\n",
    "print(type(k1))\n"
   ]
  },
  {
   "cell_type": "code",
   "execution_count": null,
   "id": "c6cdbdee-f8f5-4a2f-bd61-0ef804ed624f",
   "metadata": {},
   "outputs": [],
   "source": []
  }
 ],
 "metadata": {
  "kernelspec": {
   "display_name": "Python 3",
   "language": "python",
   "name": "python3"
  },
  "language_info": {
   "codemirror_mode": {
    "name": "ipython",
    "version": 3
   },
   "file_extension": ".py",
   "mimetype": "text/x-python",
   "name": "python",
   "nbconvert_exporter": "python",
   "pygments_lexer": "ipython3",
   "version": "3.8.8"
  }
 },
 "nbformat": 4,
 "nbformat_minor": 5
}
