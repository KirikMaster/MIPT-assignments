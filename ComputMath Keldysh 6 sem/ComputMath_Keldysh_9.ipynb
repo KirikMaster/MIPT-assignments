{
 "cells": [
  {
   "cell_type": "code",
   "execution_count": 25,
   "id": "724ecf30-a78c-43b6-a307-8332c76555d2",
   "metadata": {},
   "outputs": [],
   "source": [
    "import numpy as np\n",
    "import matplotlib.pyplot as plt\n",
    "from numpy.linalg import norm\n",
    "from numpy import sqrt\n",
    "from scipy.integrate import solve_ivp"
   ]
  },
  {
   "cell_type": "code",
   "execution_count": 26,
   "id": "4f17d56e-1af4-4d19-aedd-9949d4517a1a",
   "metadata": {},
   "outputs": [],
   "source": [
    "def Lmatrix(u):\n",
    "    L = np.array([ [u[0], -u[1], -u[2],  u[3]],\n",
    "                   [u[1],  u[0], -u[3], -u[2]],\n",
    "                   [u[2],  u[3],  u[0],  u[1]],\n",
    "                   [u[3], -u[2],  u[1], -u[0]]])\n",
    "    return L"
   ]
  },
  {
   "cell_type": "code",
   "execution_count": 27,
   "id": "7ac05923-a374-41d1-8819-8ae95b0171fd",
   "metadata": {},
   "outputs": [],
   "source": [
    "def ks2rv(ks):\n",
    "    u = ks[0:4].copy()\n",
    "    du = ks[4:8].copy()\n",
    "    L = Lmatrix(u)\n",
    "    x = L@u\n",
    "    rvect = x[0:3]\n",
    "    dx = 2*L@du\n",
    "    dr = dx[0:3]\n",
    "    r = norm(rvect)\n",
    "    vvect = dr/r\n",
    "    return np.append(rvect, vvect)"
   ]
  },
  {
   "cell_type": "code",
   "execution_count": 28,
   "id": "96f1f023-99ee-4ef4-91f2-daa4fbbc3378",
   "metadata": {},
   "outputs": [],
   "source": [
    "def rv2ks(rv):\n",
    "    rvect = rv[0:3].copy()\n",
    "    vvect = rv[3:6].copy()\n",
    "    r = norm(rvect)\n",
    "    u = np.empty((4,))\n",
    "    if rvect[0] >= 0:\n",
    "        u[0] = sqrt((r + rvect[0])/2)\n",
    "        u[1] = rvect[1]*u[0]/(r + rvect[0])\n",
    "        u[2] = rvect[2]*u[0]/(r + rvect[0])\n",
    "        u[3] = 0.0\n",
    "    else:\n",
    "        u[1] = sqrt((r - rvect[0])/2)\n",
    "        u[2] = 0.0\n",
    "        u[0] = rvect[1]*u[1]/(r - rvect[0])\n",
    "        u[3] = rvect[2]*u[1]/(r - rvect[0])\n",
    "    L = Lmatrix(u)\n",
    "    dr = r*vvect\n",
    "    du = 1/r/2*L.T@np.append(dr, [0.0])\n",
    "    return np.append(u, du)"
   ]
  },
  {
   "cell_type": "code",
   "execution_count": 20,
   "id": "254e3269-f5ee-4686-957c-afb46778132a",
   "metadata": {},
   "outputs": [],
   "source": [
    "def r2bp(t, y):\n",
    "    rvect = y[0:3].copy()\n",
    "    vvect = y[3:6].copy()\n",
    "    r = norm(rvect)\n",
    "    dydt = np.append(vvect, -mu*rvect/r**3)\n",
    "    return dydt"
   ]
  },
  {
   "cell_type": "code",
   "execution_count": 45,
   "id": "d060341c-d613-430d-bce7-973d2c3bf50f",
   "metadata": {},
   "outputs": [],
   "source": [
    "def  r2bp_ks(t, z, h):\n",
    "    u = z[0:4].copy()\n",
    "    du = z[4:8].copy()\n",
    "    r = z[8]\n",
    "    q = z[9]\n",
    "    t = z[10]\n",
    "    dzds = np.empty((11,))\n",
    "    dzds[0:4] = du\n",
    "    dzds[4:8] = (h/2)*u\n",
    "    dzds[8] = q\n",
    "    dzds[9] = 2*h*r + mu\n",
    "    dzds[10] = r\n",
    "    return dzds"
   ]
  },
  {
   "cell_type": "code",
   "execution_count": 52,
   "id": "074c9dee-4706-43ad-a36d-12cfd7064d8c",
   "metadata": {},
   "outputs": [],
   "source": [
    "def events(s, z, tf):\n",
    "    return z[10] - tf"
   ]
  },
  {
   "cell_type": "code",
   "execution_count": 53,
   "id": "9e2ce399-f44c-4ac9-98f8-f2d36c386ea6",
   "metadata": {},
   "outputs": [],
   "source": [
    "t0 = 0.0\n",
    "tf = 10*2*np.pi\n",
    "mu = 1.0\n",
    "\n",
    "rvect0 = np.array([1.0, 0.0, 0.0])\n",
    "vvect0 = np.array([0.0, 1.0, 0.0])\n",
    "y0 = np.append(rvect0, vvect0)\n",
    "r0 = norm(rvect0)\n",
    "v0 = norm(vvect0)\n",
    "q0 = np.dot(rvect0, vvect0)\n",
    "h0 = v0**2/2 - 1.0/r0\n",
    "\n",
    "ks0 = rv2ks(y0)\n",
    "s0 = 0.0\n",
    "sf = 100.0\n",
    "z0 = np.concatenate((ks0, [r0], [q0], [t0]))\n",
    "\n",
    "r2bp_ks_r = lambda s, z : r2bp_ks(s, z, h0)\n",
    "events_r = lambda s, z : events(s, z, tf)\n",
    "events_r.terminal = True\n",
    "events_r.direction = +1"
   ]
  },
  {
   "cell_type": "code",
   "execution_count": 54,
   "id": "fc17fc38-699e-479f-a7f2-14b6b9c58ba3",
   "metadata": {},
   "outputs": [
    {
     "name": "stdout",
     "output_type": "stream",
     "text": [
      "9.794763e-03\n",
      "5.759005e-05\n",
      "1244\n",
      "608\n"
     ]
    }
   ],
   "source": [
    "tol = 1.0e-6\n",
    "method = 'RK45'\n",
    "\n",
    "sol = solve_ivp(r2bp, [t0, tf], y0, atol=tol, rtol=tol, method=method)\n",
    "sol_ks = solve_ivp(r2bp_ks_r, [s0, sf], z0, atol=tol, rtol=tol, method=method, events=events_r)\n",
    "rv1 = ks2rv(sol_ks.y[0:8, -1])\n",
    "rv0 = ks2rv(sol_ks.y[0:8, 0])\n",
    "\n",
    "print(f\"{norm(sol.y[0:3, -1] - sol.y[0:3, 0]):6.6e}\")\n",
    "print(f\"{norm(rv1[0:3] - rv0[0:3]):6.6e}\")\n",
    "print(sol.nfev)\n",
    "print(sol_ks.nfev)"
   ]
  },
  {
   "cell_type": "code",
   "execution_count": null,
   "id": "3c5fb89f-b7b3-4b62-adde-4c689ab34590",
   "metadata": {},
   "outputs": [],
   "source": []
  },
  {
   "cell_type": "code",
   "execution_count": null,
   "id": "9cec6312-7994-4c3a-84b4-09e47134e932",
   "metadata": {},
   "outputs": [],
   "source": []
  }
 ],
 "metadata": {
  "kernelspec": {
   "display_name": "Python 3",
   "language": "python",
   "name": "python3"
  },
  "language_info": {
   "codemirror_mode": {
    "name": "ipython",
    "version": 3
   },
   "file_extension": ".py",
   "mimetype": "text/x-python",
   "name": "python",
   "nbconvert_exporter": "python",
   "pygments_lexer": "ipython3",
   "version": "3.8.8"
  }
 },
 "nbformat": 4,
 "nbformat_minor": 5
}
