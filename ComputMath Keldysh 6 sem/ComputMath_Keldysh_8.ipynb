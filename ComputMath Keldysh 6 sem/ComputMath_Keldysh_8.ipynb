{
 "cells": [
  {
   "cell_type": "code",
   "execution_count": 9,
   "id": "b36faf1a-6236-455c-8f26-a2ff2fda8f2e",
   "metadata": {},
   "outputs": [],
   "source": [
    "import numpy as np\n",
    "from scipy.integrate import solve_ivp"
   ]
  },
  {
   "cell_type": "code",
   "execution_count": 13,
   "id": "cddc64ac-9257-4f7a-be0b-ee83989e2db3",
   "metadata": {},
   "outputs": [],
   "source": [
    "def r2bp(t, y):\n",
    "    rvect = y[0:3].copy()\n",
    "    vvect = y[3:6].copy()\n",
    "    r = np.linalg.norm(rvect)\n",
    "    dydt = np.append(vvect, -rvect/r**3)\n",
    "    return dydt"
   ]
  },
  {
   "cell_type": "code",
   "execution_count": 33,
   "id": "51208278-7e5c-4ce5-bb1a-5bd78afde875",
   "metadata": {},
   "outputs": [],
   "source": [
    "def events(s, z, tf):\n",
    "    return z[12] - tf"
   ]
  },
  {
   "cell_type": "code",
   "execution_count": 30,
   "id": "8ae0c895-54af-4266-b79b-6ada79669e14",
   "metadata": {},
   "outputs": [],
   "source": [
    "def r2bp_sb(s, z):\n",
    "    rvect = z[0:3].copy()\n",
    "    wvect = z[3:6].copy()\n",
    "    r = z[6]\n",
    "    q = z[7]\n",
    "    h = z[8]\n",
    "    Avect = z[9:12].copy()\n",
    "    t = z[12]\n",
    "    dzds = np.empty((13,))\n",
    "    dzds[0:3] = wvect\n",
    "    dzds[3:6] = 2*h*rvect - Avect\n",
    "    dzds[6] = q\n",
    "    dzds[7] = 2*h*r + 1\n",
    "    dzds[8] = 0\n",
    "    dzds[9:12] = np.array([0.0, 0.0, 0.0])\n",
    "    dzds[12] = r\n",
    "    return dzds"
   ]
  },
  {
   "cell_type": "code",
   "execution_count": 40,
   "id": "0d6f85d6-8a27-4c2c-abea-0dde668a09c5",
   "metadata": {},
   "outputs": [],
   "source": [
    "t0 = 0.0\n",
    "tf = 10*2*np.pi\n",
    "\n",
    "\n",
    "rvect0 = np.array([1.0, 0.0, 0.0])\n",
    "vvect0 = np.array([0.0, 1.0, 0.0])\n",
    "r0 = np.linalg.norm(rvect0)\n",
    "v0 = np.linalg.norm(vvect0)\n",
    "\n",
    "y0 = np.append(rvect0, vvect0)\n",
    "\n",
    "s0 = 0.0\n",
    "sf = 1000.0\n",
    "\n",
    "wvect0 = r0*rvect0\n",
    "q0 = np.dot(rvect0, vvect0)\n",
    "h0 = v0**2/2 - 1/r0\n",
    "Avect0 = -rvect0/r0 + np.cross(vvect0, np.cross(rvect0, vvect0))\n",
    "z0 = np.concatenate((rvect0, wvect0, [r0], [q0], [h0], Avect0, [t0]))\n",
    "\n",
    "events_r = lambda s, z: events(s, z, tf)\n",
    "events_r.terminal = True\n",
    "events_r.direction = +1"
   ]
  },
  {
   "cell_type": "code",
   "execution_count": 41,
   "id": "62459d8d-38ac-40b2-8acc-db094f40f6eb",
   "metadata": {},
   "outputs": [
    {
     "name": "stdout",
     "output_type": "stream",
     "text": [
      "2.9012762723267594e-06\n",
      "4.4075100680274204e-08\n",
      "5048\n",
      "4820\n"
     ]
    }
   ],
   "source": [
    "tol = 1e-9\n",
    "method = 'RK45'\n",
    "sol = solve_ivp(r2bp, [t0, tf], y0, atol=tol, rtol=tol, method=method)\n",
    "sol_sb = solve_ivp(r2bp_sb, [s0, sf], z0, events=events_r, atol=tol, rtol=tol, method=method)\n",
    "print(np.linalg.norm(sol.y[0:3, -1] - sol.y[0:3, 0]))\n",
    "print(np.linalg.norm(sol_sb.y[0:3, -1] - sol_sb.y[0:3, 0]))\n",
    "\n",
    "print(sol.nfev)\n",
    "print(sol_sb.nfev)"
   ]
  },
  {
   "cell_type": "code",
   "execution_count": null,
   "id": "2d5c2a78-2f28-4f64-8420-2b28d2e83fd1",
   "metadata": {},
   "outputs": [],
   "source": []
  }
 ],
 "metadata": {
  "kernelspec": {
   "display_name": "Python 3",
   "language": "python",
   "name": "python3"
  },
  "language_info": {
   "codemirror_mode": {
    "name": "ipython",
    "version": 3
   },
   "file_extension": ".py",
   "mimetype": "text/x-python",
   "name": "python",
   "nbconvert_exporter": "python",
   "pygments_lexer": "ipython3",
   "version": "3.8.8"
  }
 },
 "nbformat": 4,
 "nbformat_minor": 5
}
