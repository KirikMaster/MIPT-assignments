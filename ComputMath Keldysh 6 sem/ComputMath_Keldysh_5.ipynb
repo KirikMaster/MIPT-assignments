{
 "cells": [
  {
   "cell_type": "code",
   "execution_count": 1,
   "id": "ca40a8d0-4b29-4963-a616-2555007b8135",
   "metadata": {},
   "outputs": [],
   "source": [
    "from scipy.integrate import solve_ivp\n",
    "import numpy as np\n",
    "import matplotlib.pyplot as plt"
   ]
  },
  {
   "cell_type": "code",
   "execution_count": 2,
   "id": "748e2351-3567-478a-b153-cc48757a7d90",
   "metadata": {},
   "outputs": [],
   "source": [
    "def harm(t, y):\n",
    "    return np.array([y[1], -y[0]])\n"
   ]
  },
  {
   "cell_type": "markdown",
   "id": "d0b5001c-38f3-4d45-b32f-04f9804cf8e7",
   "metadata": {},
   "source": [
    "## Пример с гармонической функцией"
   ]
  },
  {
   "cell_type": "code",
   "execution_count": 8,
   "id": "1b9756f8-3dc2-4053-a42f-371f2853b803",
   "metadata": {},
   "outputs": [],
   "source": [
    "y0 = np.array([0.0, 1.0])\n",
    "tspan = [0.0, 2*np.pi]\n",
    "sol = solve_ivp(harm, tspan, y0, method='LSODA', atol=1.0e-10, rtol=1.0e-10)"
   ]
  },
  {
   "cell_type": "code",
   "execution_count": 9,
   "id": "b68f5391-b236-414c-a99c-d4d65f4cecb7",
   "metadata": {},
   "outputs": [
    {
     "data": {
      "text/plain": [
       "array([[ 0.00000000e+00,  9.87570492e-06,  1.97514098e-05,\n",
       "         7.78713964e-04,  1.53767607e-03,  2.29663729e-03,\n",
       "         2.94147234e-03,  3.58630615e-03,  4.23113848e-03,\n",
       "         4.87596904e-03,  6.16562382e-03,  7.45526834e-03,\n",
       "         8.74490046e-03,  1.00345180e-02,  1.13241189e-02,\n",
       "         2.42187380e-02,  3.71093289e-02,  4.99937476e-02,\n",
       "         6.28698512e-02,  7.57354980e-02,  8.85885482e-02,\n",
       "         1.39746475e-01,  1.90533832e-01,  2.40815948e-01,\n",
       "         2.90459487e-01,  3.39332809e-01,  3.87306316e-01,\n",
       "         4.34252795e-01,  4.99945739e-01,  5.62877964e-01,\n",
       "         6.22701957e-01,  6.79087368e-01,  7.31722834e-01,\n",
       "         7.80317701e-01,  8.24603625e-01,  8.64336059e-01,\n",
       "         9.13725809e-01,  9.52363116e-01,  9.79793306e-01,\n",
       "         9.95693590e-01,  9.99876858e-01,  9.92293882e-01,\n",
       "         9.73033898e-01,  9.42323550e-01,  9.00524228e-01,\n",
       "         8.48127814e-01,  7.85750893e-01,  7.14127498e-01,\n",
       "         6.34100469e-01,  5.46611541e-01,  4.52690257e-01,\n",
       "         3.53441853e-01,  2.50034254e-01,  1.43684329e-01,\n",
       "         3.56435713e-02, -7.28166294e-02, -1.80419946e-01,\n",
       "        -3.01630493e-01, -4.18135028e-01, -5.28115857e-01,\n",
       "        -6.29857071e-01, -7.21771312e-01, -8.02424541e-01,\n",
       "        -8.70558415e-01, -9.25109915e-01, -9.65227934e-01,\n",
       "        -9.90286554e-01, -9.99066426e-01, -9.98592345e-01,\n",
       "        -9.88868701e-01, -9.69985560e-01, -9.42117830e-01,\n",
       "        -9.05523638e-01, -8.60541941e-01, -8.07589387e-01,\n",
       "        -7.47156455e-01, -6.67121457e-01, -5.78511403e-01,\n",
       "        -4.82465271e-01, -3.80217621e-01, -2.73082724e-01,\n",
       "        -1.62437672e-01, -4.97046768e-02,  5.63867518e-10],\n",
       "       [ 1.00000000e+00,  1.00000000e+00,  1.00000000e+00,\n",
       "         9.99999697e-01,  9.99998818e-01,  9.99997363e-01,\n",
       "         9.99995674e-01,  9.99993569e-01,  9.99991049e-01,\n",
       "         9.99988112e-01,  9.99980992e-01,  9.99972209e-01,\n",
       "         9.99961763e-01,  9.99949653e-01,  9.99935880e-01,\n",
       "         9.99706683e-01,  9.99311212e-01,  9.98749531e-01,\n",
       "         9.98021734e-01,  9.97127943e-01,  9.96068305e-01,\n",
       "         9.90187317e-01,  9.81680630e-01,  9.70570801e-01,\n",
       "         9.56887290e-01,  9.40666383e-01,  9.21951093e-01,\n",
       "         9.00791047e-01,  8.66056729e-01,  8.26540016e-01,\n",
       "         7.82459119e-01,  7.34057455e-01,  6.81602299e-01,\n",
       "         6.25383311e-01,  5.65710935e-01,  5.02914682e-01,\n",
       "         4.06331325e-01,  3.04966385e-01,  2.00012695e-01,\n",
       "         9.27053174e-02, -1.56929882e-02, -1.23906623e-01,\n",
       "        -2.30662164e-01, -3.34703343e-01, -4.34805836e-01,\n",
       "        -5.29791667e-01, -6.18543073e-01, -7.00015655e-01,\n",
       "        -7.73250668e-01, -8.37386304e-01, -8.91667837e-01,\n",
       "        -9.35456496e-01, -9.68236992e-01, -9.89623572e-01,\n",
       "        -9.99364566e-01, -9.97345346e-01, -9.83589672e-01,\n",
       "        -9.53424903e-01, -9.08384885e-01, -8.49172327e-01,\n",
       "        -7.76711060e-01, -6.92131616e-01, -5.96753597e-01,\n",
       "        -4.92065083e-01, -3.79699413e-01, -2.61409708e-01,\n",
       "        -1.39041511e-01, -4.32004180e-02,  5.30408236e-02,\n",
       "         1.48790769e-01,  2.43162525e-01,  3.35281964e-01,\n",
       "         4.24295819e-01,  5.09379591e-01,  5.89745183e-01,\n",
       "         6.64648201e-01,  7.44948966e-01,  8.15674296e-01,\n",
       "         8.75915100e-01,  9.24897054e-01,  9.61990554e-01,\n",
       "         9.86718806e-01,  9.98763959e-01,  1.00000000e+00]])"
      ]
     },
     "execution_count": 9,
     "metadata": {},
     "output_type": "execute_result"
    }
   ],
   "source": [
    "sol.y"
   ]
  },
  {
   "cell_type": "code",
   "execution_count": 10,
   "id": "9afec7d6-5bed-4c65-b21d-a7be1e96f6c4",
   "metadata": {},
   "outputs": [
    {
     "data": {
      "text/plain": [
       "[<matplotlib.lines.Line2D at 0x1de9b2dddc0>]"
      ]
     },
     "execution_count": 10,
     "metadata": {},
     "output_type": "execute_result"
    },
    {
     "data": {
      "image/png": "[encoded data removed]",
      "text/plain": [
       "<Figure size 432x288 with 1 Axes>"
      ]
     },
     "metadata": {
      "needs_background": "light"
     },
     "output_type": "display_data"
    }
   ],
   "source": [
    "plt.plot(sol.y[0, :], sol.y[1, :])"
   ]
  },
  {
   "cell_type": "code",
   "execution_count": 11,
   "id": "dc4217d1-2e15-46db-b216-fb427fd4e9c9",
   "metadata": {},
   "outputs": [
    {
     "data": {
      "text/plain": [
       "array([5.63867518e-10, 1.08794973e-10])"
      ]
     },
     "execution_count": 11,
     "metadata": {},
     "output_type": "execute_result"
    }
   ],
   "source": [
    "(sol.y[:, -1] - sol.y[:, 0])"
   ]
  },
  {
   "cell_type": "code",
   "execution_count": 27,
   "id": "f2b84476-84cd-4334-8466-74c693dd040b",
   "metadata": {},
   "outputs": [
    {
     "data": {
      "text/plain": [
       "77"
      ]
     },
     "execution_count": 27,
     "metadata": {},
     "output_type": "execute_result"
    }
   ],
   "source": [
    "sol.nfev"
   ]
  },
  {
   "cell_type": "markdown",
   "id": "415d6892-e34b-4a98-95c8-d79d100bc2f5",
   "metadata": {},
   "source": [
    "## Задача"
   ]
  },
  {
   "cell_type": "code",
   "execution_count": 13,
   "id": "2e8ec660-dff9-4756-ba56-f1931d3f6f23",
   "metadata": {},
   "outputs": [],
   "source": [
    "def FuncOrbite(t, y):\n",
    "    r = np.copy(y[:3])\n",
    "    v = np.copy(y[3:])\n",
    "    return np.concatenate((v, -mu * r / np.linalg.norm(r)**3), axis=0)"
   ]
  },
  {
   "cell_type": "code",
   "execution_count": 35,
   "id": "efc33c84-1669-4cb1-90ae-a10b85c05462",
   "metadata": {},
   "outputs": [],
   "source": [
    "mu = 1\n",
    "y0 = np.array([1.0, 0.0, 0.0, 0.0, 1.0, 0.0])\n",
    "tspan = [0.0, 2*np.pi]\n",
    "ErrorRK = []\n",
    "NfevRK = []\n",
    "ErrorLSODA = []\n",
    "NfevLSODA = []\n",
    "for accuracy in range(-16, 0):\n",
    "    tol = 10**accuracy\n",
    "    # RK45:\n",
    "    sol = solve_ivp(FuncOrbite, tspan, y0, method='RK45', atol=tol, rtol=tol)\n",
    "    NfevRK.append(sol.nfev)\n",
    "    error = np.linalg.norm(sol.y[:, -1] - sol.y[:, 0])\n",
    "    ErrorRK.append(error)\n",
    "    \n",
    "    # LSODA:\n",
    "    sol = solve_ivp(FuncOrbite, tspan, y0, method='LSODA', atol=tol, rtol=tol)\n",
    "    NfevLSODA.append(sol.nfev)\n",
    "    error = np.linalg.norm(sol.y[:, -1] - sol.y[:, 0])\n",
    "    ErrorLSODA.append(error)"
   ]
  },
  {
   "cell_type": "code",
   "execution_count": 36,
   "id": "eb0270a4-bd0d-491c-a87c-7ecf4b3f6cba",
   "metadata": {},
   "outputs": [
    {
     "data": {
      "image/png": "[encoded data removed]",
      "text/plain": [
       "<Figure size 432x288 with 1 Axes>"
      ]
     },
     "metadata": {
      "needs_background": "light"
     },
     "output_type": "display_data"
    }
   ],
   "source": [
    "fig, ax = plt.subplots()\n",
    "ax.semilogx(ErrorRK, NfevRK, ErrorLSODA, NfevLSODA)\n",
    "ax.grid()\n",
    "ax.set_title(\"Зависимость быстродействия метода от ошибки\")\n",
    "ax.set_xlabel(\"log10 глобальной ошибки\")\n",
    "ax.set_ylabel(\"Число обращений к f\")\n",
    "plt.show()"
   ]
  },
  {
   "cell_type": "code",
   "execution_count": null,
   "id": "f5092bcb-5bd5-4953-b2af-6ec18c73f37d",
   "metadata": {},
   "outputs": [],
   "source": []
  }
 ],
 "metadata": {
  "kernelspec": {
   "display_name": "Python 3",
   "language": "python",
   "name": "python3"
  },
  "language_info": {
   "codemirror_mode": {
    "name": "ipython",
    "version": 3
   },
   "file_extension": ".py",
   "mimetype": "text/x-python",
   "name": "python",
   "nbconvert_exporter": "python",
   "pygments_lexer": "ipython3",
   "version": "3.8.8"
  }
 },
 "nbformat": 4,
 "nbformat_minor": 5
}
